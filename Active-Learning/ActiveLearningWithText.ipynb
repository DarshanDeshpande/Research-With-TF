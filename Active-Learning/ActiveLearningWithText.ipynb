{
  "nbformat": 4,
  "nbformat_minor": 0,
  "metadata": {
    "accelerator": "GPU",
    "colab": {
      "name": "ActiveLearningText.ipynb",
      "provenance": [],
      "collapsed_sections": []
    },
    "kernelspec": {
      "display_name": "Python 3",
      "language": "python",
      "name": "python3"
    },
    "language_info": {
      "codemirror_mode": {
        "name": "ipython",
        "version": 3
      },
      "file_extension": ".py",
      "mimetype": "text/x-python",
      "name": "python",
      "nbconvert_exporter": "python",
      "pygments_lexer": "ipython3",
      "version": "3.7.7"
    }
  },
  "cells": [
    {
      "cell_type": "markdown",
      "metadata": {
        "id": "SEl0MmmUsAls",
        "colab_type": "text"
      },
      "source": [
        "## Importing necessary libraries"
      ]
    },
    {
      "cell_type": "code",
      "metadata": {
        "colab_type": "code",
        "id": "FXPnQ5kKZNPR",
        "colab": {}
      },
      "source": [
        "import tensorflow as tf\n",
        "import numpy as np\n",
        "import re, os\n",
        "import matplotlib.pyplot as plt\n",
        "import pandas as pd\n",
        "import sklearn"
      ],
      "execution_count": null,
      "outputs": []
    },
    {
      "cell_type": "markdown",
      "metadata": {
        "id": "RIn5nJqGsFzB",
        "colab_type": "text"
      },
      "source": [
        "## Getting data from Kaggle"
      ]
    },
    {
      "cell_type": "code",
      "metadata": {
        "colab_type": "code",
        "id": "3LDL1m_7yLtJ",
        "colab": {
          "base_uri": "https://localhost:8080/",
          "height": 134
        },
        "outputId": "fd8088bc-e0f6-4e99-a3bc-0df860a336bb"
      },
      "source": [
        "!mkdir -p ~/.kaggle\n",
        "!cp kaggle.json ~/.kaggle/\n",
        "!chmod 600 /root/.kaggle/kaggle.json\n",
        "!kaggle datasets download -d columbine/imdb-dataset-sentiment-analysis-in-csv-format\n",
        "!unzip '/content/imdb-dataset-sentiment-analysis-in-csv-format.zip'"
      ],
      "execution_count": null,
      "outputs": [
        {
          "output_type": "stream",
          "text": [
            "Downloading imdb-dataset-sentiment-analysis-in-csv-format.zip to /content\n",
            " 97% 25.0M/25.7M [00:00<00:00, 9.53MB/s]\n",
            "100% 25.7M/25.7M [00:00<00:00, 27.9MB/s]\n",
            "Archive:  /content/imdb-dataset-sentiment-analysis-in-csv-format.zip\n",
            "  inflating: Test.csv                \n",
            "  inflating: Train.csv               \n",
            "  inflating: Valid.csv               \n"
          ],
          "name": "stdout"
        }
      ]
    },
    {
      "cell_type": "code",
      "metadata": {
        "colab_type": "code",
        "id": "6d9fUy_ZZbpp",
        "colab": {
          "base_uri": "https://localhost:8080/",
          "height": 195
        },
        "outputId": "079a36a3-c443-4a2c-d042-8cfe4d95cb2c"
      },
      "source": [
        "df_train = pd.read_csv('/content/Train.csv')\n",
        "df_train.head()"
      ],
      "execution_count": null,
      "outputs": [
        {
          "output_type": "execute_result",
          "data": {
            "text/html": [
              "<div>\n",
              "<style scoped>\n",
              "    .dataframe tbody tr th:only-of-type {\n",
              "        vertical-align: middle;\n",
              "    }\n",
              "\n",
              "    .dataframe tbody tr th {\n",
              "        vertical-align: top;\n",
              "    }\n",
              "\n",
              "    .dataframe thead th {\n",
              "        text-align: right;\n",
              "    }\n",
              "</style>\n",
              "<table border=\"1\" class=\"dataframe\">\n",
              "  <thead>\n",
              "    <tr style=\"text-align: right;\">\n",
              "      <th></th>\n",
              "      <th>text</th>\n",
              "      <th>label</th>\n",
              "    </tr>\n",
              "  </thead>\n",
              "  <tbody>\n",
              "    <tr>\n",
              "      <th>0</th>\n",
              "      <td>I grew up (b. 1965) watching and loving the Th...</td>\n",
              "      <td>0</td>\n",
              "    </tr>\n",
              "    <tr>\n",
              "      <th>1</th>\n",
              "      <td>When I put this movie in my DVD player, and sa...</td>\n",
              "      <td>0</td>\n",
              "    </tr>\n",
              "    <tr>\n",
              "      <th>2</th>\n",
              "      <td>Why do people who do not know what a particula...</td>\n",
              "      <td>0</td>\n",
              "    </tr>\n",
              "    <tr>\n",
              "      <th>3</th>\n",
              "      <td>Even though I have great interest in Biblical ...</td>\n",
              "      <td>0</td>\n",
              "    </tr>\n",
              "    <tr>\n",
              "      <th>4</th>\n",
              "      <td>Im a die hard Dads Army fan and nothing will e...</td>\n",
              "      <td>1</td>\n",
              "    </tr>\n",
              "  </tbody>\n",
              "</table>\n",
              "</div>"
            ],
            "text/plain": [
              "                                                text  label\n",
              "0  I grew up (b. 1965) watching and loving the Th...      0\n",
              "1  When I put this movie in my DVD player, and sa...      0\n",
              "2  Why do people who do not know what a particula...      0\n",
              "3  Even though I have great interest in Biblical ...      0\n",
              "4  Im a die hard Dads Army fan and nothing will e...      1"
            ]
          },
          "metadata": {
            "tags": []
          },
          "execution_count": 3
        }
      ]
    },
    {
      "cell_type": "code",
      "metadata": {
        "colab_type": "code",
        "id": "mmV6v37tawgq",
        "colab": {
          "base_uri": "https://localhost:8080/",
          "height": 195
        },
        "outputId": "6069fdbc-225e-4be5-f237-f535aee036c0"
      },
      "source": [
        "df_val = pd.read_csv('/content/Valid.csv')\n",
        "df_val.head()"
      ],
      "execution_count": null,
      "outputs": [
        {
          "output_type": "execute_result",
          "data": {
            "text/html": [
              "<div>\n",
              "<style scoped>\n",
              "    .dataframe tbody tr th:only-of-type {\n",
              "        vertical-align: middle;\n",
              "    }\n",
              "\n",
              "    .dataframe tbody tr th {\n",
              "        vertical-align: top;\n",
              "    }\n",
              "\n",
              "    .dataframe thead th {\n",
              "        text-align: right;\n",
              "    }\n",
              "</style>\n",
              "<table border=\"1\" class=\"dataframe\">\n",
              "  <thead>\n",
              "    <tr style=\"text-align: right;\">\n",
              "      <th></th>\n",
              "      <th>text</th>\n",
              "      <th>label</th>\n",
              "    </tr>\n",
              "  </thead>\n",
              "  <tbody>\n",
              "    <tr>\n",
              "      <th>0</th>\n",
              "      <td>It's been about 14 years since Sharon Stone aw...</td>\n",
              "      <td>0</td>\n",
              "    </tr>\n",
              "    <tr>\n",
              "      <th>1</th>\n",
              "      <td>someone needed to make a car payment... this i...</td>\n",
              "      <td>0</td>\n",
              "    </tr>\n",
              "    <tr>\n",
              "      <th>2</th>\n",
              "      <td>The Guidelines state that a comment must conta...</td>\n",
              "      <td>0</td>\n",
              "    </tr>\n",
              "    <tr>\n",
              "      <th>3</th>\n",
              "      <td>This movie is a muddled mish-mash of clichés f...</td>\n",
              "      <td>0</td>\n",
              "    </tr>\n",
              "    <tr>\n",
              "      <th>4</th>\n",
              "      <td>Before Stan Laurel became the smaller half of ...</td>\n",
              "      <td>0</td>\n",
              "    </tr>\n",
              "  </tbody>\n",
              "</table>\n",
              "</div>"
            ],
            "text/plain": [
              "                                                text  label\n",
              "0  It's been about 14 years since Sharon Stone aw...      0\n",
              "1  someone needed to make a car payment... this i...      0\n",
              "2  The Guidelines state that a comment must conta...      0\n",
              "3  This movie is a muddled mish-mash of clichés f...      0\n",
              "4  Before Stan Laurel became the smaller half of ...      0"
            ]
          },
          "metadata": {
            "tags": []
          },
          "execution_count": 4
        }
      ]
    },
    {
      "cell_type": "code",
      "metadata": {
        "colab_type": "code",
        "id": "sVABJIVsz9Ie",
        "colab": {
          "base_uri": "https://localhost:8080/",
          "height": 195
        },
        "outputId": "21958779-9db4-4e8b-f7fb-249ef9f0e22c"
      },
      "source": [
        "df_test = pd.read_csv('/content/Test.csv')\n",
        "df_test.head()"
      ],
      "execution_count": null,
      "outputs": [
        {
          "output_type": "execute_result",
          "data": {
            "text/html": [
              "<div>\n",
              "<style scoped>\n",
              "    .dataframe tbody tr th:only-of-type {\n",
              "        vertical-align: middle;\n",
              "    }\n",
              "\n",
              "    .dataframe tbody tr th {\n",
              "        vertical-align: top;\n",
              "    }\n",
              "\n",
              "    .dataframe thead th {\n",
              "        text-align: right;\n",
              "    }\n",
              "</style>\n",
              "<table border=\"1\" class=\"dataframe\">\n",
              "  <thead>\n",
              "    <tr style=\"text-align: right;\">\n",
              "      <th></th>\n",
              "      <th>text</th>\n",
              "      <th>label</th>\n",
              "    </tr>\n",
              "  </thead>\n",
              "  <tbody>\n",
              "    <tr>\n",
              "      <th>0</th>\n",
              "      <td>I always wrote this series off as being a comp...</td>\n",
              "      <td>0</td>\n",
              "    </tr>\n",
              "    <tr>\n",
              "      <th>1</th>\n",
              "      <td>1st watched 12/7/2002 - 3 out of 10(Dir-Steve ...</td>\n",
              "      <td>0</td>\n",
              "    </tr>\n",
              "    <tr>\n",
              "      <th>2</th>\n",
              "      <td>This movie was so poorly written and directed ...</td>\n",
              "      <td>0</td>\n",
              "    </tr>\n",
              "    <tr>\n",
              "      <th>3</th>\n",
              "      <td>The most interesting thing about Miryang (Secr...</td>\n",
              "      <td>1</td>\n",
              "    </tr>\n",
              "    <tr>\n",
              "      <th>4</th>\n",
              "      <td>when i first read about \"berlin am meer\" i did...</td>\n",
              "      <td>0</td>\n",
              "    </tr>\n",
              "  </tbody>\n",
              "</table>\n",
              "</div>"
            ],
            "text/plain": [
              "                                                text  label\n",
              "0  I always wrote this series off as being a comp...      0\n",
              "1  1st watched 12/7/2002 - 3 out of 10(Dir-Steve ...      0\n",
              "2  This movie was so poorly written and directed ...      0\n",
              "3  The most interesting thing about Miryang (Secr...      1\n",
              "4  when i first read about \"berlin am meer\" i did...      0"
            ]
          },
          "metadata": {
            "tags": []
          },
          "execution_count": 5
        }
      ]
    },
    {
      "cell_type": "code",
      "metadata": {
        "colab_type": "code",
        "id": "Qh06gvqNbDOq",
        "colab": {
          "base_uri": "https://localhost:8080/",
          "height": 282
        },
        "outputId": "8bed9dda-104b-43dd-9c2a-0e8760a28b13"
      },
      "source": [
        "df_train['label'].hist()"
      ],
      "execution_count": null,
      "outputs": [
        {
          "output_type": "execute_result",
          "data": {
            "text/plain": [
              "<matplotlib.axes._subplots.AxesSubplot at 0x7f71ad9e1ac8>"
            ]
          },
          "metadata": {
            "tags": []
          },
          "execution_count": 7
        },
        {
          "output_type": "display_data",
          "data": {
            "image/png": "[encoded data removed]",
            "text/plain": [
              "<Figure size 432x288 with 1 Axes>"
            ]
          },
          "metadata": {
            "tags": [],
            "needs_background": "light"
          }
        }
      ]
    },
    {
      "cell_type": "code",
      "metadata": {
        "colab_type": "code",
        "id": "5PN0LAGJbWOY",
        "colab": {
          "base_uri": "https://localhost:8080/",
          "height": 67
        },
        "outputId": "910ad27e-b714-4972-966e-f0060cf7189b"
      },
      "source": [
        "# Pretty equally split\n",
        "\n",
        "df_train['label'].value_counts()"
      ],
      "execution_count": null,
      "outputs": [
        {
          "output_type": "execute_result",
          "data": {
            "text/plain": [
              "0    20019\n",
              "1    19981\n",
              "Name: label, dtype: int64"
            ]
          },
          "metadata": {
            "tags": []
          },
          "execution_count": 8
        }
      ]
    },
    {
      "cell_type": "markdown",
      "metadata": {
        "id": "iJC4UYh1tVsc",
        "colab_type": "text"
      },
      "source": [
        "## Preprocessing"
      ]
    },
    {
      "cell_type": "code",
      "metadata": {
        "colab_type": "code",
        "id": "rOKNg4nki7Xw",
        "colab": {}
      },
      "source": [
        "# Cleaning/Preprocessing Helper function \n",
        "\n",
        "def preprocess(s):\n",
        "  s = re.sub(r'@[a-zA-Z0-9_.]+ ', '', str(s))\n",
        "  s = re.sub(r'#[a-zA-Z0-9_.]+ ', '', str(s))\n",
        "  s = re.sub(r'''[^a-zA-Z0-9?. ]+''', '', s)\n",
        "  s = re.sub(r''''[' ']+''', \" \", s)\n",
        "  s = re.sub(r'(\\w)\\1{2,}',r'\\1',s)\n",
        "  s = s.lower().strip()\n",
        "  return s"
      ],
      "execution_count": null,
      "outputs": []
    },
    {
      "cell_type": "code",
      "metadata": {
        "colab_type": "code",
        "id": "-vxDLJSeiSkj",
        "colab": {}
      },
      "source": [
        "df_train['text'] = df_train['text'].apply(preprocess)\n",
        "df_val['text'] = df_val['text'].apply(preprocess)\n",
        "df_test['text'] = df_test['text'].apply(preprocess)"
      ],
      "execution_count": null,
      "outputs": []
    },
    {
      "cell_type": "code",
      "metadata": {
        "colab_type": "code",
        "id": "cqqfTC5_dPsl",
        "colab": {
          "base_uri": "https://localhost:8080/",
          "height": 34
        },
        "outputId": "25a3c498-6e7f-45a6-9fe4-16683a0f09e5"
      },
      "source": [
        "# Splitting one and zero values for custom sampling\n",
        "zeros, ones = df_train[df_train['label']==0], df_train[df_train['label']==1]\n",
        "zeros_val, ones_val = df_val[df_val['label']==0], df_val[df_val['label']==1]\n",
        "zeros_test, ones_test = df_test[df_test['label']==0], df_test[df_test['label']==1]\n",
        "len(zeros), len(ones), type(zeros)"
      ],
      "execution_count": null,
      "outputs": [
        {
          "output_type": "execute_result",
          "data": {
            "text/plain": [
              "(20019, 19981, pandas.core.frame.DataFrame)"
            ]
          },
          "metadata": {
            "tags": []
          },
          "execution_count": 11
        }
      ]
    },
    {
      "cell_type": "code",
      "metadata": {
        "colab_type": "code",
        "id": "oPpwSM0umq8u",
        "colab": {}
      },
      "source": [
        "# Extracting data as numpy arrays\n",
        "zero_text, zero_labels = zeros['text'].to_numpy(), zeros['label'].to_numpy() \n",
        "one_text, one_labels = ones['text'].to_numpy(), ones['label'].to_numpy()\n",
        "\n",
        "zero_val_text, zero_val_labels = zeros_val['text'].to_numpy(), zeros_val['label'].to_numpy() \n",
        "one_val_text, one_val_labels = ones_val['text'].to_numpy(), ones_val['label'].to_numpy()\n",
        "\n",
        "zero_test_text, zero_test_labels = zeros_test['text'].to_numpy(), zeros_test['label'].to_numpy() \n",
        "one_test_text, one_test_labels = ones_test['text'].to_numpy(), ones_test['label'].to_numpy()"
      ],
      "execution_count": null,
      "outputs": []
    },
    {
      "cell_type": "code",
      "metadata": {
        "colab_type": "code",
        "id": "howye9WD050l",
        "colab": {}
      },
      "source": [
        "# Sampling the training, testing and validation sets\n",
        "X_train, Y_train = np.concatenate((one_text,zero_text)), np.concatenate((one_labels,zero_labels))\n",
        "X_val, Y_val = np.concatenate((one_val_text,zero_val_text)), np.concatenate((one_val_labels,zero_val_labels))\n",
        "X_test, Y_test = np.concatenate((one_test_text,zero_test_text)), np.concatenate((one_test_labels,zero_test_labels))"
      ],
      "execution_count": null,
      "outputs": []
    },
    {
      "cell_type": "code",
      "metadata": {
        "colab_type": "code",
        "id": "pBOMh15AfeQw",
        "colab": {}
      },
      "source": [
        "# Instantiating the Tokenizer and creating sequences\n",
        "tokenizer = tf.keras.preprocessing.text.Tokenizer(3000,oov_token=1)\n",
        "tokenizer.fit_on_texts(X_train)\n",
        "train_seq = tokenizer.texts_to_sequences(X_train)\n",
        "val_seq = tokenizer.texts_to_sequences(X_val)\n",
        "test_seq = tokenizer.texts_to_sequences(X_test)"
      ],
      "execution_count": null,
      "outputs": []
    },
    {
      "cell_type": "code",
      "metadata": {
        "colab_type": "code",
        "id": "RRurLqv-hQG7",
        "colab": {}
      },
      "source": [
        "# Padding all sequences\n",
        "train_seq = tf.keras.preprocessing.sequence.pad_sequences(train_seq,maxlen=50,padding='post')\n",
        "val_seq = tf.keras.preprocessing.sequence.pad_sequences(val_seq,maxlen=50,padding='post')\n",
        "test_seq = tf.keras.preprocessing.sequence.pad_sequences(test_seq,maxlen=50,padding='post')"
      ],
      "execution_count": null,
      "outputs": []
    },
    {
      "cell_type": "markdown",
      "metadata": {
        "id": "1zBRdTz3tTrL",
        "colab_type": "text"
      },
      "source": [
        "## Creating the Model"
      ]
    },
    {
      "cell_type": "code",
      "metadata": {
        "colab_type": "code",
        "id": "pXHUVVU_sKD6",
        "colab": {}
      },
      "source": [
        "from tensorflow.keras.layers import Embedding,Dense,LSTM,Flatten,Dropout\n",
        "def create_model():\n",
        "  model = tf.keras.models.Sequential()\n",
        "  model.add(Embedding(3000,64))\n",
        "  model.add(LSTM(32))\n",
        "  model.add(Flatten())\n",
        "  model.add(Dense(64,activation='relu'))\n",
        "  model.add(Dropout(0.3))\n",
        "  model.add(Dense(32,activation='relu'))\n",
        "  model.add(Dropout(0.3))\n",
        "  model.add(Dense(8,activation='relu'))\n",
        "  model.add(Dropout(0.3))\n",
        "  model.add(Dense(4,activation='relu'))\n",
        "  model.add(Dense(1,activation='sigmoid'))\n",
        "  model.summary()\n",
        "  model.compile(optimizer=tf.keras.optimizers.Adam(0.0005),loss=tf.keras.losses.BinaryCrossentropy(),metrics=['accuracy'])\n",
        "  return model"
      ],
      "execution_count": null,
      "outputs": []
    },
    {
      "cell_type": "markdown",
      "metadata": {
        "colab_type": "text",
        "id": "9eLXWeZlDIj3"
      },
      "source": [
        "## FULL MODEL TRAINING"
      ]
    },
    {
      "cell_type": "code",
      "metadata": {
        "colab_type": "code",
        "id": "omTIC0AU3-7Z",
        "colab": {}
      },
      "source": [
        "# HELPER FUNCTION\n",
        "\n",
        "def plot(history):\n",
        "  plt.plot(history.history['loss'])\n",
        "  plt.plot(history.history['val_loss'])\n",
        "  plt.legend(['train_loss','val_loss'])\n",
        "  plt.xlabel('Epochs')\n",
        "  plt.ylabel('Loss')\n",
        "  plt.show()\n",
        "\n",
        "  plt.plot(history.history['accuracy'])\n",
        "  plt.plot(history.history['val_accuracy'])\n",
        "  plt.legend(['train_accuracy','val_accuracy'])\n",
        "  plt.xlabel('Epochs')\n",
        "  plt.ylabel('Accuracy')\n",
        "  plt.show()"
      ],
      "execution_count": null,
      "outputs": []
    },
    {
      "cell_type": "code",
      "metadata": {
        "colab_type": "code",
        "id": "NvMU-RZZAk4I",
        "colab": {}
      },
      "source": [
        "def train_full_model(train_seq,Y_train,val_seq,Y_val,test_seq,Y_test):\n",
        "  model = create_model()\n",
        "  history = model.fit(train_seq,Y_train,256,15,validation_data=(val_seq,Y_val),callbacks=[tf.keras.callbacks.ModelCheckpoint('FullModelCheckpoint.h5',save_best_only=True,verbose=1),tf.keras.callbacks.EarlyStopping(patience=6,verbose=1)])\n",
        "  plot(history)\n",
        "  model = tf.keras.models.load_model('FullModelCheckpoint.h5')\n",
        "  print(model.evaluate(test_seq,Y_test))\n",
        "  return model"
      ],
      "execution_count": null,
      "outputs": []
    },
    {
      "cell_type": "markdown",
      "metadata": {
        "colab_type": "text",
        "id": "T7xrCv7K4Ouv"
      },
      "source": [
        "## ACTIVE LEARNING"
      ]
    },
    {
      "cell_type": "code",
      "metadata": {
        "colab_type": "code",
        "id": "uq0BocEL_VB_",
        "colab": {}
      },
      "source": [
        "# HELPER FUNCTIONS\n",
        "\n",
        "def append_history(losses,val_losses,acc,val_acc,history):\n",
        "  losses = losses + history.history['loss']\n",
        "  val_losses = val_losses + history.history['val_loss']\n",
        "  acc = acc + history.history['accuracy']\n",
        "  val_acc = val_acc + history.history['val_accuracy']\n",
        "  return losses,val_losses,acc,val_acc\n",
        "\n",
        "def plot_merged_metrics(losses,val_losses,accuracies,val_accuracies):\n",
        "  plt.plot(losses)\n",
        "  plt.plot(val_losses)\n",
        "  plt.legend(['train_loss','val_loss'])\n",
        "  plt.xlabel('Epochs')\n",
        "  plt.ylabel('Loss')\n",
        "  plt.show()\n",
        "\n",
        "  plt.plot(accuracies)\n",
        "  plt.plot(val_accuracies)\n",
        "  plt.legend(['train_accuracy','val_accuracy'])\n",
        "  plt.xlabel('Epochs')\n",
        "  plt.ylabel('Accuracy')\n",
        "  plt.show()"
      ],
      "execution_count": null,
      "outputs": []
    },
    {
      "cell_type": "code",
      "metadata": {
        "colab_type": "code",
        "id": "mTkvuoVMtxNb",
        "colab": {}
      },
      "source": [
        "def train_small_models(train_features,train_labels,oracle_features1,oracle_labels1,oracle_features2,oracle_labels2,val_seq,Y_val,test_seq,Y_test):\n",
        "\n",
        "  losses, val_losses, accuracies, val_accuracies = [], [], [], []\n",
        "\n",
        "  model = create_model()\n",
        "  checkpoint = tf.keras.callbacks.ModelCheckpoint('Checkpoint.h5',save_best_only=True,verbose=1)\n",
        "  history = model.fit(train_features,train_labels,256,15,validation_data=(val_seq,Y_val),callbacks=[checkpoint,tf.keras.callbacks.EarlyStopping(patience=6,verbose=1)])\n",
        "  losses, val_losses, accuracies, val_accuracies = append_history(losses,val_losses,accuracies,val_accuracies,history) \n",
        "  model = tf.keras.models.load_model('Checkpoint.h5')\n",
        "\n",
        "  for iter_n, i in enumerate([(oracle_features1,oracle_labels1),(oracle_features2,oracle_labels2)]):\n",
        "    # Getting predictions from previously trained model\n",
        "    predictions = model.predict(i[0])\n",
        "\n",
        "    # Get all inconfident predictions. We set the threshold of inconfidence to all values < 90%\n",
        "    inconfident_preds = np.where(np.max(predictions,axis=1)<0.9)[0]\n",
        "\n",
        "    # Get all incorrect predictions\n",
        "    wrong_preds = np.where(np.not_equal(predictions,i[1]))\n",
        "\n",
        "    # Combine and get all unique indices\n",
        "    unique = list(set(np.append(inconfident_preds,wrong_preds[0])))\n",
        "\n",
        "\n",
        "    # Sampling only required indices from the \"unlabelled\" pool\n",
        "    update_f = i[0][unique]\n",
        "    update_l = i[1][unique]\n",
        "\n",
        "    # Add the sampled entries to the original data\n",
        "    train_features = np.concatenate((train_features,update_f),axis=0)\n",
        "    train_labels = np.concatenate((train_labels,update_l),axis=0)\n",
        "\n",
        "    # Retrain the model with inconfident and incorrect predictions only\n",
        "    history = model.fit(train_features,train_labels,validation_data=(val_seq,Y_val),epochs=15,batch_size=256,callbacks=[checkpoint,tf.keras.callbacks.EarlyStopping(patience=6,verbose=1)])\n",
        "    \n",
        "    losses, val_losses, accuracies, val_accuracies = append_history(losses,val_losses,accuracies,val_accuracies,history) \n",
        "\n",
        "    model = tf.keras.models.load_model('Checkpoint.h5')\n",
        "    print(model.evaluate(test_seq,Y_test))\n",
        "\n",
        "  plot_merged_metrics(losses,val_losses,accuracies,val_accuracies)\n",
        "  \n",
        "  return model  "
      ],
      "execution_count": null,
      "outputs": []
    },
    {
      "cell_type": "markdown",
      "metadata": {
        "colab_type": "text",
        "id": "xWxnLNg_3tQP"
      },
      "source": [
        "## ENSEMBLING"
      ]
    },
    {
      "cell_type": "code",
      "metadata": {
        "colab_type": "code",
        "id": "3RBRRI1Y3rsW",
        "colab": {
          "base_uri": "https://localhost:8080/",
          "height": 1000
        },
        "outputId": "dced8e6e-08dd-43a4-8cfa-326e29ba3812"
      },
      "source": [
        "model1 = train_full_model(train_seq,Y_train,val_seq,Y_val,test_seq,Y_test)\n",
        "model2 = train_full_model(train_seq,Y_train,val_seq,Y_val,test_seq,Y_test)\n",
        "model3 = train_full_model(train_seq,Y_train,val_seq,Y_val,test_seq,Y_test)"
      ],
      "execution_count": null,
      "outputs": [
        {
          "output_type": "stream",
          "text": [
            "Model: \"sequential_4\"\n",
            "_________________________________________________________________\n",
            "Layer (type)                 Output Shape              Param #   \n",
            "=================================================================\n",
            "embedding_4 (Embedding)      (None, None, 64)          192000    \n",
            "_________________________________________________________________\n",
            "lstm_4 (LSTM)                (None, 32)                12416     \n",
            "_________________________________________________________________\n",
            "flatten_4 (Flatten)          (None, 32)                0         \n",
            "_________________________________________________________________\n",
            "dense_20 (Dense)             (None, 64)                2112      \n",
            "_________________________________________________________________\n",
            "dropout_12 (Dropout)         (None, 64)                0         \n",
            "_________________________________________________________________\n",
            "dense_21 (Dense)             (None, 32)                2080      \n",
            "_________________________________________________________________\n",
            "dropout_13 (Dropout)         (None, 32)                0         \n",
            "_________________________________________________________________\n",
            "dense_22 (Dense)             (None, 8)                 264       \n",
            "_________________________________________________________________\n",
            "dropout_14 (Dropout)         (None, 8)                 0         \n",
            "_________________________________________________________________\n",
            "dense_23 (Dense)             (None, 4)                 36        \n",
            "_________________________________________________________________\n",
            "dense_24 (Dense)             (None, 1)                 5         \n",
            "=================================================================\n",
            "Total params: 208,913\n",
            "Trainable params: 208,913\n",
            "Non-trainable params: 0\n",
            "_________________________________________________________________\n",
            "Epoch 1/15\n",
            "156/157 [============================>.] - ETA: 0s - loss: 0.6525 - accuracy: 0.6217\n",
            "Epoch 00001: val_loss improved from inf to 0.55700, saving model to FullModelCheckpoint.h5\n",
            "157/157 [==============================] - 3s 21ms/step - loss: 0.6524 - accuracy: 0.6219 - val_loss: 0.5570 - val_accuracy: 0.7848\n",
            "Epoch 2/15\n",
            "155/157 [============================>.] - ETA: 0s - loss: 0.4909 - accuracy: 0.8024\n",
            "Epoch 00002: val_loss improved from 0.55700 to 0.40650, saving model to FullModelCheckpoint.h5\n",
            "157/157 [==============================] - 3s 18ms/step - loss: 0.4901 - accuracy: 0.8027 - val_loss: 0.4065 - val_accuracy: 0.8146\n",
            "Epoch 3/15\n",
            "156/157 [============================>.] - ETA: 0s - loss: 0.4062 - accuracy: 0.8281\n",
            "Epoch 00003: val_loss improved from 0.40650 to 0.39252, saving model to FullModelCheckpoint.h5\n",
            "157/157 [==============================] - 3s 18ms/step - loss: 0.4062 - accuracy: 0.8281 - val_loss: 0.3925 - val_accuracy: 0.8224\n",
            "Epoch 4/15\n",
            "155/157 [============================>.] - ETA: 0s - loss: 0.3815 - accuracy: 0.8417\n",
            "Epoch 00004: val_loss improved from 0.39252 to 0.39063, saving model to FullModelCheckpoint.h5\n",
            "157/157 [==============================] - 3s 18ms/step - loss: 0.3812 - accuracy: 0.8418 - val_loss: 0.3906 - val_accuracy: 0.8166\n",
            "Epoch 5/15\n",
            "156/157 [============================>.] - ETA: 0s - loss: 0.3649 - accuracy: 0.8495\n",
            "Epoch 00005: val_loss did not improve from 0.39063\n",
            "157/157 [==============================] - 3s 18ms/step - loss: 0.3652 - accuracy: 0.8493 - val_loss: 0.3922 - val_accuracy: 0.8166\n",
            "Epoch 6/15\n",
            "156/157 [============================>.] - ETA: 0s - loss: 0.3506 - accuracy: 0.8559\n",
            "Epoch 00006: val_loss did not improve from 0.39063\n",
            "157/157 [==============================] - 3s 18ms/step - loss: 0.3505 - accuracy: 0.8559 - val_loss: 0.3966 - val_accuracy: 0.8142\n",
            "Epoch 7/15\n",
            "157/157 [==============================] - ETA: 0s - loss: 0.3384 - accuracy: 0.8610\n",
            "Epoch 00007: val_loss did not improve from 0.39063\n",
            "157/157 [==============================] - 3s 18ms/step - loss: 0.3384 - accuracy: 0.8610 - val_loss: 0.4009 - val_accuracy: 0.8126\n",
            "Epoch 8/15\n",
            "157/157 [==============================] - ETA: 0s - loss: 0.3255 - accuracy: 0.8663\n",
            "Epoch 00008: val_loss did not improve from 0.39063\n",
            "157/157 [==============================] - 3s 18ms/step - loss: 0.3255 - accuracy: 0.8663 - val_loss: 0.4070 - val_accuracy: 0.8142\n",
            "Epoch 9/15\n",
            "156/157 [============================>.] - ETA: 0s - loss: 0.3175 - accuracy: 0.8676\n",
            "Epoch 00009: val_loss did not improve from 0.39063\n",
            "157/157 [==============================] - 3s 18ms/step - loss: 0.3175 - accuracy: 0.8676 - val_loss: 0.4126 - val_accuracy: 0.8142\n",
            "Epoch 10/15\n",
            "154/157 [============================>.] - ETA: 0s - loss: 0.3047 - accuracy: 0.8731\n",
            "Epoch 00010: val_loss did not improve from 0.39063\n",
            "157/157 [==============================] - 3s 18ms/step - loss: 0.3049 - accuracy: 0.8731 - val_loss: 0.4133 - val_accuracy: 0.8076\n",
            "Epoch 00010: early stopping\n"
          ],
          "name": "stdout"
        },
        {
          "output_type": "display_data",
          "data": {
            "image/png": "[encoded data removed]",
            "text/plain": [
              "<Figure size 432x288 with 1 Axes>"
            ]
          },
          "metadata": {
            "tags": [],
            "needs_background": "light"
          }
        },
        {
          "output_type": "display_data",
          "data": {
            "image/png": "[encoded data removed]",
            "text/plain": [
              "<Figure size 432x288 with 1 Axes>"
            ]
          },
          "metadata": {
            "tags": [],
            "needs_background": "light"
          }
        },
        {
          "output_type": "stream",
          "text": [
            "157/157 [==============================] - 1s 6ms/step - loss: 0.3911 - accuracy: 0.8234\n",
            "[0.3911040425300598, 0.8234000205993652]\n",
            "Model: \"sequential_5\"\n",
            "_________________________________________________________________\n",
            "Layer (type)                 Output Shape              Param #   \n",
            "=================================================================\n",
            "embedding_5 (Embedding)      (None, None, 64)          192000    \n",
            "_________________________________________________________________\n",
            "lstm_5 (LSTM)                (None, 32)                12416     \n",
            "_________________________________________________________________\n",
            "flatten_5 (Flatten)          (None, 32)                0         \n",
            "_________________________________________________________________\n",
            "dense_25 (Dense)             (None, 64)                2112      \n",
            "_________________________________________________________________\n",
            "dropout_15 (Dropout)         (None, 64)                0         \n",
            "_________________________________________________________________\n",
            "dense_26 (Dense)             (None, 32)                2080      \n",
            "_________________________________________________________________\n",
            "dropout_16 (Dropout)         (None, 32)                0         \n",
            "_________________________________________________________________\n",
            "dense_27 (Dense)             (None, 8)                 264       \n",
            "_________________________________________________________________\n",
            "dropout_17 (Dropout)         (None, 8)                 0         \n",
            "_________________________________________________________________\n",
            "dense_28 (Dense)             (None, 4)                 36        \n",
            "_________________________________________________________________\n",
            "dense_29 (Dense)             (None, 1)                 5         \n",
            "=================================================================\n",
            "Total params: 208,913\n",
            "Trainable params: 208,913\n",
            "Non-trainable params: 0\n",
            "_________________________________________________________________\n",
            "Epoch 1/15\n",
            "155/157 [============================>.] - ETA: 0s - loss: 0.6342 - accuracy: 0.6644\n",
            "Epoch 00001: val_loss improved from inf to 0.54833, saving model to FullModelCheckpoint.h5\n",
            "157/157 [==============================] - 3s 21ms/step - loss: 0.6337 - accuracy: 0.6655 - val_loss: 0.5483 - val_accuracy: 0.7954\n",
            "Epoch 2/15\n",
            "155/157 [============================>.] - ETA: 0s - loss: 0.5376 - accuracy: 0.8113\n",
            "Epoch 00002: val_loss improved from 0.54833 to 0.52052, saving model to FullModelCheckpoint.h5\n",
            "157/157 [==============================] - 3s 18ms/step - loss: 0.5376 - accuracy: 0.8112 - val_loss: 0.5205 - val_accuracy: 0.8078\n",
            "Epoch 3/15\n",
            "156/157 [============================>.] - ETA: 0s - loss: 0.5055 - accuracy: 0.8248\n",
            "Epoch 00003: val_loss improved from 0.52052 to 0.51060, saving model to FullModelCheckpoint.h5\n",
            "157/157 [==============================] - 3s 18ms/step - loss: 0.5054 - accuracy: 0.8249 - val_loss: 0.5106 - val_accuracy: 0.8088\n",
            "Epoch 4/15\n",
            "155/157 [============================>.] - ETA: 0s - loss: 0.4817 - accuracy: 0.8340\n",
            "Epoch 00004: val_loss did not improve from 0.51060\n",
            "157/157 [==============================] - 3s 18ms/step - loss: 0.4815 - accuracy: 0.8342 - val_loss: 0.5179 - val_accuracy: 0.8112\n",
            "Epoch 5/15\n",
            "154/157 [============================>.] - ETA: 0s - loss: 0.4619 - accuracy: 0.8407\n",
            "Epoch 00005: val_loss improved from 0.51060 to 0.50343, saving model to FullModelCheckpoint.h5\n",
            "157/157 [==============================] - 3s 18ms/step - loss: 0.4616 - accuracy: 0.8408 - val_loss: 0.5034 - val_accuracy: 0.7976\n",
            "Epoch 6/15\n",
            "154/157 [============================>.] - ETA: 0s - loss: 0.4404 - accuracy: 0.8495\n",
            "Epoch 00006: val_loss did not improve from 0.50343\n",
            "157/157 [==============================] - 3s 18ms/step - loss: 0.4409 - accuracy: 0.8490 - val_loss: 0.5045 - val_accuracy: 0.7878\n",
            "Epoch 7/15\n",
            "155/157 [============================>.] - ETA: 0s - loss: 0.4257 - accuracy: 0.8538\n",
            "Epoch 00007: val_loss did not improve from 0.50343\n",
            "157/157 [==============================] - 3s 18ms/step - loss: 0.4253 - accuracy: 0.8540 - val_loss: 0.5088 - val_accuracy: 0.7936\n",
            "Epoch 8/15\n",
            "155/157 [============================>.] - ETA: 0s - loss: 0.4142 - accuracy: 0.8568\n",
            "Epoch 00008: val_loss did not improve from 0.50343\n",
            "157/157 [==============================] - 3s 18ms/step - loss: 0.4139 - accuracy: 0.8570 - val_loss: 0.5138 - val_accuracy: 0.8054\n",
            "Epoch 9/15\n",
            "156/157 [============================>.] - ETA: 0s - loss: 0.3985 - accuracy: 0.8641\n",
            "Epoch 00009: val_loss did not improve from 0.50343\n",
            "157/157 [==============================] - 3s 18ms/step - loss: 0.3985 - accuracy: 0.8641 - val_loss: 0.5273 - val_accuracy: 0.8020\n",
            "Epoch 10/15\n",
            "157/157 [==============================] - ETA: 0s - loss: 0.3835 - accuracy: 0.8683\n",
            "Epoch 00010: val_loss did not improve from 0.50343\n",
            "157/157 [==============================] - 3s 18ms/step - loss: 0.3835 - accuracy: 0.8683 - val_loss: 0.5367 - val_accuracy: 0.7962\n",
            "Epoch 11/15\n",
            "155/157 [============================>.] - ETA: 0s - loss: 0.3695 - accuracy: 0.8721\n",
            "Epoch 00011: val_loss did not improve from 0.50343\n",
            "157/157 [==============================] - 3s 18ms/step - loss: 0.3695 - accuracy: 0.8720 - val_loss: 0.5345 - val_accuracy: 0.7900\n",
            "Epoch 00011: early stopping\n"
          ],
          "name": "stdout"
        },
        {
          "output_type": "display_data",
          "data": {
            "image/png": "[encoded data removed]",
            "text/plain": [
              "<Figure size 432x288 with 1 Axes>"
            ]
          },
          "metadata": {
            "tags": [],
            "needs_background": "light"
          }
        },
        {
          "output_type": "display_data",
          "data": {
            "image/png": "[encoded data removed]",
            "text/plain": [
              "<Figure size 432x288 with 1 Axes>"
            ]
          },
          "metadata": {
            "tags": [],
            "needs_background": "light"
          }
        },
        {
          "output_type": "stream",
          "text": [
            "157/157 [==============================] - 1s 6ms/step - loss: 0.4998 - accuracy: 0.7996\n",
            "[0.4997769892215729, 0.7996000051498413]\n",
            "Model: \"sequential_6\"\n",
            "_________________________________________________________________\n",
            "Layer (type)                 Output Shape              Param #   \n",
            "=================================================================\n",
            "embedding_6 (Embedding)      (None, None, 64)          192000    \n",
            "_________________________________________________________________\n",
            "lstm_6 (LSTM)                (None, 32)                12416     \n",
            "_________________________________________________________________\n",
            "flatten_6 (Flatten)          (None, 32)                0         \n",
            "_________________________________________________________________\n",
            "dense_30 (Dense)             (None, 64)                2112      \n",
            "_________________________________________________________________\n",
            "dropout_18 (Dropout)         (None, 64)                0         \n",
            "_________________________________________________________________\n",
            "dense_31 (Dense)             (None, 32)                2080      \n",
            "_________________________________________________________________\n",
            "dropout_19 (Dropout)         (None, 32)                0         \n",
            "_________________________________________________________________\n",
            "dense_32 (Dense)             (None, 8)                 264       \n",
            "_________________________________________________________________\n",
            "dropout_20 (Dropout)         (None, 8)                 0         \n",
            "_________________________________________________________________\n",
            "dense_33 (Dense)             (None, 4)                 36        \n",
            "_________________________________________________________________\n",
            "dense_34 (Dense)             (None, 1)                 5         \n",
            "=================================================================\n",
            "Total params: 208,913\n",
            "Trainable params: 208,913\n",
            "Non-trainable params: 0\n",
            "_________________________________________________________________\n",
            "Epoch 1/15\n",
            "155/157 [============================>.] - ETA: 0s - loss: 0.6429 - accuracy: 0.6329\n",
            "Epoch 00001: val_loss improved from inf to 0.55030, saving model to FullModelCheckpoint.h5\n",
            "157/157 [==============================] - 3s 21ms/step - loss: 0.6423 - accuracy: 0.6344 - val_loss: 0.5503 - val_accuracy: 0.7892\n",
            "Epoch 2/15\n",
            "156/157 [============================>.] - ETA: 0s - loss: 0.5382 - accuracy: 0.8095\n",
            "Epoch 00002: val_loss improved from 0.55030 to 0.52184, saving model to FullModelCheckpoint.h5\n",
            "157/157 [==============================] - 3s 18ms/step - loss: 0.5382 - accuracy: 0.8096 - val_loss: 0.5218 - val_accuracy: 0.8120\n",
            "Epoch 3/15\n",
            "154/157 [============================>.] - ETA: 0s - loss: 0.5045 - accuracy: 0.8266\n",
            "Epoch 00003: val_loss improved from 0.52184 to 0.51946, saving model to FullModelCheckpoint.h5\n",
            "157/157 [==============================] - 3s 18ms/step - loss: 0.5043 - accuracy: 0.8266 - val_loss: 0.5195 - val_accuracy: 0.8088\n",
            "Epoch 4/15\n",
            "156/157 [============================>.] - ETA: 0s - loss: 0.4820 - accuracy: 0.8333\n",
            "Epoch 00004: val_loss improved from 0.51946 to 0.51085, saving model to FullModelCheckpoint.h5\n",
            "157/157 [==============================] - 3s 18ms/step - loss: 0.4820 - accuracy: 0.8332 - val_loss: 0.5109 - val_accuracy: 0.7926\n",
            "Epoch 5/15\n",
            "155/157 [============================>.] - ETA: 0s - loss: 0.4623 - accuracy: 0.8403\n",
            "Epoch 00005: val_loss improved from 0.51085 to 0.50566, saving model to FullModelCheckpoint.h5\n",
            "157/157 [==============================] - 3s 18ms/step - loss: 0.4620 - accuracy: 0.8405 - val_loss: 0.5057 - val_accuracy: 0.8038\n",
            "Epoch 6/15\n",
            "156/157 [============================>.] - ETA: 0s - loss: 0.4427 - accuracy: 0.8483\n",
            "Epoch 00006: val_loss did not improve from 0.50566\n",
            "157/157 [==============================] - 3s 18ms/step - loss: 0.4427 - accuracy: 0.8482 - val_loss: 0.5091 - val_accuracy: 0.8014\n",
            "Epoch 7/15\n",
            "156/157 [============================>.] - ETA: 0s - loss: 0.4259 - accuracy: 0.8527\n",
            "Epoch 00007: val_loss did not improve from 0.50566\n",
            "157/157 [==============================] - 3s 18ms/step - loss: 0.4260 - accuracy: 0.8528 - val_loss: 0.5077 - val_accuracy: 0.7930\n",
            "Epoch 8/15\n",
            "156/157 [============================>.] - ETA: 0s - loss: 0.4100 - accuracy: 0.8603\n",
            "Epoch 00008: val_loss did not improve from 0.50566\n",
            "157/157 [==============================] - 3s 18ms/step - loss: 0.4100 - accuracy: 0.8602 - val_loss: 0.5121 - val_accuracy: 0.7936\n",
            "Epoch 9/15\n",
            "156/157 [============================>.] - ETA: 0s - loss: 0.3963 - accuracy: 0.8639\n",
            "Epoch 00009: val_loss did not improve from 0.50566\n",
            "157/157 [==============================] - 3s 18ms/step - loss: 0.3962 - accuracy: 0.8638 - val_loss: 0.5389 - val_accuracy: 0.7888\n",
            "Epoch 10/15\n",
            "155/157 [============================>.] - ETA: 0s - loss: 0.3798 - accuracy: 0.8680\n",
            "Epoch 00010: val_loss did not improve from 0.50566\n",
            "157/157 [==============================] - 3s 18ms/step - loss: 0.3799 - accuracy: 0.8680 - val_loss: 0.5553 - val_accuracy: 0.7912\n",
            "Epoch 11/15\n",
            "156/157 [============================>.] - ETA: 0s - loss: 0.3648 - accuracy: 0.8750\n",
            "Epoch 00011: val_loss did not improve from 0.50566\n",
            "157/157 [==============================] - 3s 18ms/step - loss: 0.3647 - accuracy: 0.8750 - val_loss: 0.5707 - val_accuracy: 0.7882\n",
            "Epoch 00011: early stopping\n"
          ],
          "name": "stdout"
        },
        {
          "output_type": "display_data",
          "data": {
            "image/png": "[encoded data removed]",
            "text/plain": [
              "<Figure size 432x288 with 1 Axes>"
            ]
          },
          "metadata": {
            "tags": [],
            "needs_background": "light"
          }
        },
        {
          "output_type": "display_data",
          "data": {
            "image/png": "[encoded data removed]",
            "text/plain": [
              "<Figure size 432x288 with 1 Axes>"
            ]
          },
          "metadata": {
            "tags": [],
            "needs_background": "light"
          }
        },
        {
          "output_type": "stream",
          "text": [
            "157/157 [==============================] - 1s 5ms/step - loss: 0.5042 - accuracy: 0.8042\n",
            "[0.5042011141777039, 0.8041999936103821]\n"
          ],
          "name": "stdout"
        }
      ]
    },
    {
      "cell_type": "code",
      "metadata": {
        "id": "C2JQ-JC9GTIr",
        "colab_type": "code",
        "colab": {
          "base_uri": "https://localhost:8080/",
          "height": 34
        },
        "outputId": "7fc48bc5-6597-417e-f590-d808ccb72994"
      },
      "source": [
        "# Splitting Data into Oracle Set(Unlabelled set) and Original Training set \n",
        "import sklearn.model_selection\n",
        "train_features,X_tt,train_labels,Y_tt = sklearn.model_selection.train_test_split(train_seq,Y_train,test_size=0.1,stratify=Y_train)\n",
        "oracle_features1,oracle_features2,oracle_labels1,oracle_labels2 = sklearn.model_selection.train_test_split(X_tt,Y_tt,test_size=0.5,stratify=Y_tt)\n",
        "train_features.shape,oracle_features1.shape,oracle_features2.shape"
      ],
      "execution_count": null,
      "outputs": [
        {
          "output_type": "execute_result",
          "data": {
            "text/plain": [
              "((36000, 50), (2000, 50), (2000, 50))"
            ]
          },
          "metadata": {
            "tags": []
          },
          "execution_count": 34
        }
      ]
    },
    {
      "cell_type": "code",
      "metadata": {
        "colab_type": "code",
        "id": "hKzN4F4k3rla",
        "colab": {
          "base_uri": "https://localhost:8080/",
          "height": 1000
        },
        "outputId": "575142e7-e650-4634-a6b6-e4727f63217e"
      },
      "source": [
        "al_model1 = train_small_models(train_features,train_labels,oracle_features1,oracle_labels1,oracle_features2,oracle_labels2,val_seq,Y_val,test_seq,Y_test)\n",
        "al_model2 = train_small_models(train_features,train_labels,oracle_features1,oracle_labels1,oracle_features2,oracle_labels2,val_seq,Y_val,test_seq,Y_test)\n",
        "al_model3 = train_small_models(train_features,train_labels,oracle_features1,oracle_labels1,oracle_features2,oracle_labels2,val_seq,Y_val,test_seq,Y_test)"
      ],
      "execution_count": null,
      "outputs": [
        {
          "output_type": "stream",
          "text": [
            "Model: \"sequential_7\"\n",
            "_________________________________________________________________\n",
            "Layer (type)                 Output Shape              Param #   \n",
            "=================================================================\n",
            "embedding_7 (Embedding)      (None, None, 64)          192000    \n",
            "_________________________________________________________________\n",
            "lstm_7 (LSTM)                (None, 32)                12416     \n",
            "_________________________________________________________________\n",
            "flatten_7 (Flatten)          (None, 32)                0         \n",
            "_________________________________________________________________\n",
            "dense_35 (Dense)             (None, 64)                2112      \n",
            "_________________________________________________________________\n",
            "dropout_21 (Dropout)         (None, 64)                0         \n",
            "_________________________________________________________________\n",
            "dense_36 (Dense)             (None, 32)                2080      \n",
            "_________________________________________________________________\n",
            "dropout_22 (Dropout)         (None, 32)                0         \n",
            "_________________________________________________________________\n",
            "dense_37 (Dense)             (None, 8)                 264       \n",
            "_________________________________________________________________\n",
            "dropout_23 (Dropout)         (None, 8)                 0         \n",
            "_________________________________________________________________\n",
            "dense_38 (Dense)             (None, 4)                 36        \n",
            "_________________________________________________________________\n",
            "dense_39 (Dense)             (None, 1)                 5         \n",
            "=================================================================\n",
            "Total params: 208,913\n",
            "Trainable params: 208,913\n",
            "Non-trainable params: 0\n",
            "_________________________________________________________________\n",
            "Epoch 1/15\n",
            "140/141 [============================>.] - ETA: 0s - loss: 0.6452 - accuracy: 0.6419\n",
            "Epoch 00001: val_loss improved from inf to 0.54569, saving model to Checkpoint.h5\n",
            "141/141 [==============================] - 3s 22ms/step - loss: 0.6452 - accuracy: 0.6424 - val_loss: 0.5457 - val_accuracy: 0.7862\n",
            "Epoch 2/15\n",
            "140/141 [============================>.] - ETA: 0s - loss: 0.4998 - accuracy: 0.8017\n",
            "Epoch 00002: val_loss improved from 0.54569 to 0.41335, saving model to Checkpoint.h5\n",
            "141/141 [==============================] - 3s 18ms/step - loss: 0.4994 - accuracy: 0.8019 - val_loss: 0.4133 - val_accuracy: 0.8092\n",
            "Epoch 3/15\n",
            "138/141 [============================>.] - ETA: 0s - loss: 0.4129 - accuracy: 0.8299\n",
            "Epoch 00003: val_loss improved from 0.41335 to 0.40018, saving model to Checkpoint.h5\n",
            "141/141 [==============================] - 3s 18ms/step - loss: 0.4131 - accuracy: 0.8300 - val_loss: 0.4002 - val_accuracy: 0.8166\n",
            "Epoch 4/15\n",
            "141/141 [==============================] - ETA: 0s - loss: 0.3791 - accuracy: 0.8446\n",
            "Epoch 00004: val_loss did not improve from 0.40018\n",
            "141/141 [==============================] - 3s 18ms/step - loss: 0.3791 - accuracy: 0.8446 - val_loss: 0.4043 - val_accuracy: 0.8116\n",
            "Epoch 5/15\n",
            "140/141 [============================>.] - ETA: 0s - loss: 0.3634 - accuracy: 0.8512\n",
            "Epoch 00005: val_loss did not improve from 0.40018\n",
            "141/141 [==============================] - 3s 18ms/step - loss: 0.3634 - accuracy: 0.8511 - val_loss: 0.4120 - val_accuracy: 0.8126\n",
            "Epoch 6/15\n",
            "139/141 [============================>.] - ETA: 0s - loss: 0.3460 - accuracy: 0.8577\n",
            "Epoch 00006: val_loss did not improve from 0.40018\n",
            "141/141 [==============================] - 2s 18ms/step - loss: 0.3460 - accuracy: 0.8576 - val_loss: 0.4228 - val_accuracy: 0.8120\n",
            "Epoch 7/15\n",
            "140/141 [============================>.] - ETA: 0s - loss: 0.3320 - accuracy: 0.8645\n",
            "Epoch 00007: val_loss did not improve from 0.40018\n",
            "141/141 [==============================] - 2s 18ms/step - loss: 0.3322 - accuracy: 0.8642 - val_loss: 0.4396 - val_accuracy: 0.8102\n",
            "Epoch 8/15\n",
            "140/141 [============================>.] - ETA: 0s - loss: 0.3205 - accuracy: 0.8698\n",
            "Epoch 00008: val_loss did not improve from 0.40018\n",
            "141/141 [==============================] - 3s 18ms/step - loss: 0.3201 - accuracy: 0.8699 - val_loss: 0.4284 - val_accuracy: 0.8064\n",
            "Epoch 9/15\n",
            "139/141 [============================>.] - ETA: 0s - loss: 0.3066 - accuracy: 0.8744\n",
            "Epoch 00009: val_loss did not improve from 0.40018\n",
            "141/141 [==============================] - 3s 18ms/step - loss: 0.3067 - accuracy: 0.8744 - val_loss: 0.4688 - val_accuracy: 0.8068\n",
            "Epoch 00009: early stopping\n",
            "Epoch 1/15\n",
            "148/149 [============================>.] - ETA: 0s - loss: 0.3824 - accuracy: 0.8425\n",
            "Epoch 00001: val_loss improved from 0.40018 to 0.39725, saving model to Checkpoint.h5\n",
            "149/149 [==============================] - 3s 21ms/step - loss: 0.3824 - accuracy: 0.8426 - val_loss: 0.3973 - val_accuracy: 0.8154\n",
            "Epoch 2/15\n",
            "147/149 [============================>.] - ETA: 0s - loss: 0.3654 - accuracy: 0.8520\n",
            "Epoch 00002: val_loss did not improve from 0.39725\n",
            "149/149 [==============================] - 3s 18ms/step - loss: 0.3658 - accuracy: 0.8515 - val_loss: 0.3991 - val_accuracy: 0.8136\n",
            "Epoch 3/15\n",
            "148/149 [============================>.] - ETA: 0s - loss: 0.3485 - accuracy: 0.8582\n",
            "Epoch 00003: val_loss did not improve from 0.39725\n",
            "149/149 [==============================] - 3s 18ms/step - loss: 0.3482 - accuracy: 0.8583 - val_loss: 0.4060 - val_accuracy: 0.8102\n",
            "Epoch 4/15\n",
            "147/149 [============================>.] - ETA: 0s - loss: 0.3377 - accuracy: 0.8637\n",
            "Epoch 00004: val_loss did not improve from 0.39725\n",
            "149/149 [==============================] - 3s 18ms/step - loss: 0.3378 - accuracy: 0.8636 - val_loss: 0.4147 - val_accuracy: 0.8032\n",
            "Epoch 5/15\n",
            "147/149 [============================>.] - ETA: 0s - loss: 0.3238 - accuracy: 0.8680\n",
            "Epoch 00005: val_loss did not improve from 0.39725\n",
            "149/149 [==============================] - 3s 18ms/step - loss: 0.3243 - accuracy: 0.8679 - val_loss: 0.4209 - val_accuracy: 0.8128\n",
            "Epoch 6/15\n",
            "147/149 [============================>.] - ETA: 0s - loss: 0.3132 - accuracy: 0.8716\n",
            "Epoch 00006: val_loss did not improve from 0.39725\n",
            "149/149 [==============================] - 3s 18ms/step - loss: 0.3134 - accuracy: 0.8715 - val_loss: 0.4270 - val_accuracy: 0.8110\n",
            "Epoch 7/15\n",
            "147/149 [============================>.] - ETA: 0s - loss: 0.2996 - accuracy: 0.8769\n",
            "Epoch 00007: val_loss did not improve from 0.39725\n",
            "149/149 [==============================] - 3s 18ms/step - loss: 0.2993 - accuracy: 0.8770 - val_loss: 0.4619 - val_accuracy: 0.8058\n",
            "Epoch 00007: early stopping\n",
            "157/157 [==============================] - 1s 6ms/step - loss: 0.3921 - accuracy: 0.8164\n",
            "[0.39213627576828003, 0.8163999915122986]\n",
            "Epoch 1/15\n",
            "157/157 [==============================] - ETA: 0s - loss: 0.3659 - accuracy: 0.8502\n",
            "Epoch 00001: val_loss did not improve from 0.39725\n",
            "157/157 [==============================] - 3s 18ms/step - loss: 0.3659 - accuracy: 0.8502 - val_loss: 0.4136 - val_accuracy: 0.8122\n",
            "Epoch 2/15\n",
            "156/157 [============================>.] - ETA: 0s - loss: 0.3522 - accuracy: 0.8550\n",
            "Epoch 00002: val_loss did not improve from 0.39725\n",
            "157/157 [==============================] - 3s 18ms/step - loss: 0.3521 - accuracy: 0.8551 - val_loss: 0.4028 - val_accuracy: 0.8112\n",
            "Epoch 3/15\n",
            "155/157 [============================>.] - ETA: 0s - loss: 0.3367 - accuracy: 0.8597\n",
            "Epoch 00003: val_loss did not improve from 0.39725\n",
            "157/157 [==============================] - 3s 18ms/step - loss: 0.3372 - accuracy: 0.8595 - val_loss: 0.4111 - val_accuracy: 0.8158\n",
            "Epoch 4/15\n",
            "155/157 [============================>.] - ETA: 0s - loss: 0.3274 - accuracy: 0.8657\n",
            "Epoch 00004: val_loss did not improve from 0.39725\n",
            "157/157 [==============================] - 3s 18ms/step - loss: 0.3275 - accuracy: 0.8655 - val_loss: 0.4154 - val_accuracy: 0.8124\n",
            "Epoch 5/15\n",
            "155/157 [============================>.] - ETA: 0s - loss: 0.3160 - accuracy: 0.8698\n",
            "Epoch 00005: val_loss did not improve from 0.39725\n",
            "157/157 [==============================] - 3s 18ms/step - loss: 0.3163 - accuracy: 0.8696 - val_loss: 0.4270 - val_accuracy: 0.8102\n",
            "Epoch 6/15\n",
            "156/157 [============================>.] - ETA: 0s - loss: 0.3064 - accuracy: 0.8718\n",
            "Epoch 00006: val_loss did not improve from 0.39725\n",
            "157/157 [==============================] - 3s 18ms/step - loss: 0.3067 - accuracy: 0.8717 - val_loss: 0.4782 - val_accuracy: 0.8094\n",
            "Epoch 7/15\n",
            "155/157 [============================>.] - ETA: 0s - loss: 0.2944 - accuracy: 0.8770\n",
            "Epoch 00007: val_loss did not improve from 0.39725\n",
            "157/157 [==============================] - 3s 18ms/step - loss: 0.2947 - accuracy: 0.8768 - val_loss: 0.4665 - val_accuracy: 0.8082\n",
            "Epoch 8/15\n",
            "154/157 [============================>.] - ETA: 0s - loss: 0.2775 - accuracy: 0.8823\n",
            "Epoch 00008: val_loss did not improve from 0.39725\n",
            "157/157 [==============================] - 3s 18ms/step - loss: 0.2775 - accuracy: 0.8822 - val_loss: 0.4774 - val_accuracy: 0.7994\n",
            "Epoch 00008: early stopping\n",
            "157/157 [==============================] - 1s 6ms/step - loss: 0.3921 - accuracy: 0.8164\n",
            "[0.39213627576828003, 0.8163999915122986]\n"
          ],
          "name": "stdout"
        },
        {
          "output_type": "display_data",
          "data": {
            "image/png": "[encoded data removed]",
            "text/plain": [
              "<Figure size 432x288 with 1 Axes>"
            ]
          },
          "metadata": {
            "tags": [],
            "needs_background": "light"
          }
        },
        {
          "output_type": "display_data",
          "data": {
            "image/png": "[encoded data removed]",
            "text/plain": [
              "<Figure size 432x288 with 1 Axes>"
            ]
          },
          "metadata": {
            "tags": [],
            "needs_background": "light"
          }
        },
        {
          "output_type": "stream",
          "text": [
            "Model: \"sequential_8\"\n",
            "_________________________________________________________________\n",
            "Layer (type)                 Output Shape              Param #   \n",
            "=================================================================\n",
            "embedding_8 (Embedding)      (None, None, 64)          192000    \n",
            "_________________________________________________________________\n",
            "lstm_8 (LSTM)                (None, 32)                12416     \n",
            "_________________________________________________________________\n",
            "flatten_8 (Flatten)          (None, 32)                0         \n",
            "_________________________________________________________________\n",
            "dense_40 (Dense)             (None, 64)                2112      \n",
            "_________________________________________________________________\n",
            "dropout_24 (Dropout)         (None, 64)                0         \n",
            "_________________________________________________________________\n",
            "dense_41 (Dense)             (None, 32)                2080      \n",
            "_________________________________________________________________\n",
            "dropout_25 (Dropout)         (None, 32)                0         \n",
            "_________________________________________________________________\n",
            "dense_42 (Dense)             (None, 8)                 264       \n",
            "_________________________________________________________________\n",
            "dropout_26 (Dropout)         (None, 8)                 0         \n",
            "_________________________________________________________________\n",
            "dense_43 (Dense)             (None, 4)                 36        \n",
            "_________________________________________________________________\n",
            "dense_44 (Dense)             (None, 1)                 5         \n",
            "=================================================================\n",
            "Total params: 208,913\n",
            "Trainable params: 208,913\n",
            "Non-trainable params: 0\n",
            "_________________________________________________________________\n",
            "Epoch 1/15\n",
            "140/141 [============================>.] - ETA: 0s - loss: 0.6441 - accuracy: 0.6097\n",
            "Epoch 00001: val_loss improved from inf to 0.46692, saving model to Checkpoint.h5\n",
            "141/141 [==============================] - 3s 22ms/step - loss: 0.6435 - accuracy: 0.6104 - val_loss: 0.4669 - val_accuracy: 0.7910\n",
            "Epoch 2/15\n",
            "139/141 [============================>.] - ETA: 0s - loss: 0.4608 - accuracy: 0.8073\n",
            "Epoch 00002: val_loss improved from 0.46692 to 0.40320, saving model to Checkpoint.h5\n",
            "141/141 [==============================] - 3s 19ms/step - loss: 0.4606 - accuracy: 0.8070 - val_loss: 0.4032 - val_accuracy: 0.8118\n",
            "Epoch 3/15\n",
            "139/141 [============================>.] - ETA: 0s - loss: 0.4006 - accuracy: 0.8361\n",
            "Epoch 00003: val_loss improved from 0.40320 to 0.39578, saving model to Checkpoint.h5\n",
            "141/141 [==============================] - 3s 19ms/step - loss: 0.4009 - accuracy: 0.8357 - val_loss: 0.3958 - val_accuracy: 0.8182\n",
            "Epoch 4/15\n",
            "139/141 [============================>.] - ETA: 0s - loss: 0.3777 - accuracy: 0.8454\n",
            "Epoch 00004: val_loss did not improve from 0.39578\n",
            "141/141 [==============================] - 3s 19ms/step - loss: 0.3772 - accuracy: 0.8454 - val_loss: 0.3959 - val_accuracy: 0.8128\n",
            "Epoch 5/15\n",
            "139/141 [============================>.] - ETA: 0s - loss: 0.3607 - accuracy: 0.8532\n",
            "Epoch 00005: val_loss did not improve from 0.39578\n",
            "141/141 [==============================] - 3s 18ms/step - loss: 0.3606 - accuracy: 0.8531 - val_loss: 0.3959 - val_accuracy: 0.8148\n",
            "Epoch 6/15\n",
            "140/141 [============================>.] - ETA: 0s - loss: 0.3435 - accuracy: 0.8608\n",
            "Epoch 00006: val_loss did not improve from 0.39578\n",
            "141/141 [==============================] - 3s 18ms/step - loss: 0.3434 - accuracy: 0.8608 - val_loss: 0.4090 - val_accuracy: 0.8184\n",
            "Epoch 7/15\n",
            "140/141 [============================>.] - ETA: 0s - loss: 0.3280 - accuracy: 0.8687\n",
            "Epoch 00007: val_loss did not improve from 0.39578\n",
            "141/141 [==============================] - 3s 18ms/step - loss: 0.3283 - accuracy: 0.8686 - val_loss: 0.4109 - val_accuracy: 0.8116\n",
            "Epoch 8/15\n",
            "139/141 [============================>.] - ETA: 0s - loss: 0.3124 - accuracy: 0.8732\n",
            "Epoch 00008: val_loss did not improve from 0.39578\n",
            "141/141 [==============================] - 3s 18ms/step - loss: 0.3128 - accuracy: 0.8733 - val_loss: 0.4277 - val_accuracy: 0.8072\n",
            "Epoch 9/15\n",
            "140/141 [============================>.] - ETA: 0s - loss: 0.2976 - accuracy: 0.8811\n",
            "Epoch 00009: val_loss did not improve from 0.39578\n",
            "141/141 [==============================] - 3s 18ms/step - loss: 0.2977 - accuracy: 0.8811 - val_loss: 0.4424 - val_accuracy: 0.8038\n",
            "Epoch 00009: early stopping\n",
            "Epoch 1/15\n",
            "148/149 [============================>.] - ETA: 0s - loss: 0.3829 - accuracy: 0.8422\n",
            "Epoch 00001: val_loss improved from 0.39578 to 0.39386, saving model to Checkpoint.h5\n",
            "149/149 [==============================] - 3s 22ms/step - loss: 0.3828 - accuracy: 0.8422 - val_loss: 0.3939 - val_accuracy: 0.8178\n",
            "Epoch 2/15\n",
            "147/149 [============================>.] - ETA: 0s - loss: 0.3659 - accuracy: 0.8486\n",
            "Epoch 00002: val_loss did not improve from 0.39386\n",
            "149/149 [==============================] - 3s 18ms/step - loss: 0.3658 - accuracy: 0.8488 - val_loss: 0.4150 - val_accuracy: 0.8198\n",
            "Epoch 3/15\n",
            "148/149 [============================>.] - ETA: 0s - loss: 0.3458 - accuracy: 0.8591\n",
            "Epoch 00003: val_loss did not improve from 0.39386\n",
            "149/149 [==============================] - 3s 18ms/step - loss: 0.3458 - accuracy: 0.8591 - val_loss: 0.4032 - val_accuracy: 0.8132\n",
            "Epoch 4/15\n",
            "148/149 [============================>.] - ETA: 0s - loss: 0.3301 - accuracy: 0.8651\n",
            "Epoch 00004: val_loss did not improve from 0.39386\n",
            "149/149 [==============================] - 3s 19ms/step - loss: 0.3302 - accuracy: 0.8651 - val_loss: 0.4068 - val_accuracy: 0.8090\n",
            "Epoch 5/15\n",
            "148/149 [============================>.] - ETA: 0s - loss: 0.3181 - accuracy: 0.8729\n",
            "Epoch 00005: val_loss did not improve from 0.39386\n",
            "149/149 [==============================] - 3s 18ms/step - loss: 0.3182 - accuracy: 0.8728 - val_loss: 0.4318 - val_accuracy: 0.8090\n",
            "Epoch 6/15\n",
            "148/149 [============================>.] - ETA: 0s - loss: 0.3026 - accuracy: 0.8788\n",
            "Epoch 00006: val_loss did not improve from 0.39386\n",
            "149/149 [==============================] - 3s 18ms/step - loss: 0.3025 - accuracy: 0.8788 - val_loss: 0.4385 - val_accuracy: 0.8058\n",
            "Epoch 7/15\n",
            "147/149 [============================>.] - ETA: 0s - loss: 0.2875 - accuracy: 0.8827\n",
            "Epoch 00007: val_loss did not improve from 0.39386\n",
            "149/149 [==============================] - 3s 18ms/step - loss: 0.2875 - accuracy: 0.8828 - val_loss: 0.4601 - val_accuracy: 0.8088\n",
            "Epoch 00007: early stopping\n",
            "157/157 [==============================] - 1s 5ms/step - loss: 0.3896 - accuracy: 0.8220\n",
            "[0.38961705565452576, 0.8220000267028809]\n",
            "Epoch 1/15\n",
            "155/157 [============================>.] - ETA: 0s - loss: 0.3655 - accuracy: 0.8513\n",
            "Epoch 00001: val_loss did not improve from 0.39386\n",
            "157/157 [==============================] - 3s 18ms/step - loss: 0.3656 - accuracy: 0.8512 - val_loss: 0.3956 - val_accuracy: 0.8136\n",
            "Epoch 2/15\n",
            "155/157 [============================>.] - ETA: 0s - loss: 0.3493 - accuracy: 0.8570\n",
            "Epoch 00002: val_loss did not improve from 0.39386\n",
            "157/157 [==============================] - 3s 18ms/step - loss: 0.3493 - accuracy: 0.8567 - val_loss: 0.3940 - val_accuracy: 0.8130\n",
            "Epoch 3/15\n",
            "155/157 [============================>.] - ETA: 0s - loss: 0.3351 - accuracy: 0.8626\n",
            "Epoch 00003: val_loss did not improve from 0.39386\n",
            "157/157 [==============================] - 3s 18ms/step - loss: 0.3351 - accuracy: 0.8625 - val_loss: 0.4171 - val_accuracy: 0.8124\n",
            "Epoch 4/15\n",
            "156/157 [============================>.] - ETA: 0s - loss: 0.3169 - accuracy: 0.8702\n",
            "Epoch 00004: val_loss did not improve from 0.39386\n",
            "157/157 [==============================] - 3s 18ms/step - loss: 0.3170 - accuracy: 0.8702 - val_loss: 0.4124 - val_accuracy: 0.8102\n",
            "Epoch 5/15\n",
            "155/157 [============================>.] - ETA: 0s - loss: 0.3055 - accuracy: 0.8746\n",
            "Epoch 00005: val_loss did not improve from 0.39386\n",
            "157/157 [==============================] - 3s 18ms/step - loss: 0.3052 - accuracy: 0.8746 - val_loss: 0.4423 - val_accuracy: 0.8052\n",
            "Epoch 6/15\n",
            "155/157 [============================>.] - ETA: 0s - loss: 0.2927 - accuracy: 0.8807\n",
            "Epoch 00006: val_loss did not improve from 0.39386\n",
            "157/157 [==============================] - 3s 18ms/step - loss: 0.2927 - accuracy: 0.8807 - val_loss: 0.4408 - val_accuracy: 0.8126\n",
            "Epoch 7/15\n",
            "155/157 [============================>.] - ETA: 0s - loss: 0.2787 - accuracy: 0.8859\n",
            "Epoch 00007: val_loss did not improve from 0.39386\n",
            "157/157 [==============================] - 3s 18ms/step - loss: 0.2786 - accuracy: 0.8860 - val_loss: 0.4708 - val_accuracy: 0.8092\n",
            "Epoch 8/15\n",
            "154/157 [============================>.] - ETA: 0s - loss: 0.2707 - accuracy: 0.8871\n",
            "Epoch 00008: val_loss did not improve from 0.39386\n",
            "157/157 [==============================] - 3s 18ms/step - loss: 0.2707 - accuracy: 0.8870 - val_loss: 0.4748 - val_accuracy: 0.8062\n",
            "Epoch 00008: early stopping\n",
            "157/157 [==============================] - 1s 5ms/step - loss: 0.3896 - accuracy: 0.8220\n",
            "[0.38961705565452576, 0.8220000267028809]\n"
          ],
          "name": "stdout"
        },
        {
          "output_type": "display_data",
          "data": {
            "image/png": "[encoded data removed]",
            "text/plain": [
              "<Figure size 432x288 with 1 Axes>"
            ]
          },
          "metadata": {
            "tags": [],
            "needs_background": "light"
          }
        },
        {
          "output_type": "display_data",
          "data": {
            "image/png": "[encoded data removed]",
            "text/plain": [
              "<Figure size 432x288 with 1 Axes>"
            ]
          },
          "metadata": {
            "tags": [],
            "needs_background": "light"
          }
        },
        {
          "output_type": "stream",
          "text": [
            "Model: \"sequential_9\"\n",
            "_________________________________________________________________\n",
            "Layer (type)                 Output Shape              Param #   \n",
            "=================================================================\n",
            "embedding_9 (Embedding)      (None, None, 64)          192000    \n",
            "_________________________________________________________________\n",
            "lstm_9 (LSTM)                (None, 32)                12416     \n",
            "_________________________________________________________________\n",
            "flatten_9 (Flatten)          (None, 32)                0         \n",
            "_________________________________________________________________\n",
            "dense_45 (Dense)             (None, 64)                2112      \n",
            "_________________________________________________________________\n",
            "dropout_27 (Dropout)         (None, 64)                0         \n",
            "_________________________________________________________________\n",
            "dense_46 (Dense)             (None, 32)                2080      \n",
            "_________________________________________________________________\n",
            "dropout_28 (Dropout)         (None, 32)                0         \n",
            "_________________________________________________________________\n",
            "dense_47 (Dense)             (None, 8)                 264       \n",
            "_________________________________________________________________\n",
            "dropout_29 (Dropout)         (None, 8)                 0         \n",
            "_________________________________________________________________\n",
            "dense_48 (Dense)             (None, 4)                 36        \n",
            "_________________________________________________________________\n",
            "dense_49 (Dense)             (None, 1)                 5         \n",
            "=================================================================\n",
            "Total params: 208,913\n",
            "Trainable params: 208,913\n",
            "Non-trainable params: 0\n",
            "_________________________________________________________________\n",
            "Epoch 1/15\n",
            "139/141 [============================>.] - ETA: 0s - loss: 0.6537 - accuracy: 0.6061\n",
            "Epoch 00001: val_loss improved from inf to 0.55585, saving model to Checkpoint.h5\n",
            "141/141 [==============================] - 3s 21ms/step - loss: 0.6524 - accuracy: 0.6086 - val_loss: 0.5558 - val_accuracy: 0.7920\n",
            "Epoch 2/15\n",
            "141/141 [==============================] - ETA: 0s - loss: 0.5486 - accuracy: 0.7980\n",
            "Epoch 00002: val_loss improved from 0.55585 to 0.52527, saving model to Checkpoint.h5\n",
            "141/141 [==============================] - 3s 18ms/step - loss: 0.5486 - accuracy: 0.7980 - val_loss: 0.5253 - val_accuracy: 0.8080\n",
            "Epoch 3/15\n",
            "138/141 [============================>.] - ETA: 0s - loss: 0.5100 - accuracy: 0.8206\n",
            "Epoch 00003: val_loss improved from 0.52527 to 0.51187, saving model to Checkpoint.h5\n",
            "141/141 [==============================] - 3s 18ms/step - loss: 0.5099 - accuracy: 0.8206 - val_loss: 0.5119 - val_accuracy: 0.8096\n",
            "Epoch 4/15\n",
            "141/141 [==============================] - ETA: 0s - loss: 0.4856 - accuracy: 0.8314\n",
            "Epoch 00004: val_loss improved from 0.51187 to 0.50872, saving model to Checkpoint.h5\n",
            "141/141 [==============================] - 3s 18ms/step - loss: 0.4856 - accuracy: 0.8314 - val_loss: 0.5087 - val_accuracy: 0.8056\n",
            "Epoch 5/15\n",
            "139/141 [============================>.] - ETA: 0s - loss: 0.4660 - accuracy: 0.8392\n",
            "Epoch 00005: val_loss did not improve from 0.50872\n",
            "141/141 [==============================] - 2s 18ms/step - loss: 0.4660 - accuracy: 0.8391 - val_loss: 0.5088 - val_accuracy: 0.8026\n",
            "Epoch 6/15\n",
            "140/141 [============================>.] - ETA: 0s - loss: 0.4484 - accuracy: 0.8451\n",
            "Epoch 00006: val_loss did not improve from 0.50872\n",
            "141/141 [==============================] - 3s 18ms/step - loss: 0.4484 - accuracy: 0.8451 - val_loss: 0.5104 - val_accuracy: 0.7966\n",
            "Epoch 7/15\n",
            "138/141 [============================>.] - ETA: 0s - loss: 0.4295 - accuracy: 0.8507\n",
            "Epoch 00007: val_loss did not improve from 0.50872\n",
            "141/141 [==============================] - 3s 18ms/step - loss: 0.4290 - accuracy: 0.8510 - val_loss: 0.5141 - val_accuracy: 0.7920\n",
            "Epoch 8/15\n",
            "140/141 [============================>.] - ETA: 0s - loss: 0.4122 - accuracy: 0.8558\n",
            "Epoch 00008: val_loss did not improve from 0.50872\n",
            "141/141 [==============================] - 2s 18ms/step - loss: 0.4123 - accuracy: 0.8559 - val_loss: 0.5093 - val_accuracy: 0.7922\n",
            "Epoch 9/15\n",
            "139/141 [============================>.] - ETA: 0s - loss: 0.3985 - accuracy: 0.8626\n",
            "Epoch 00009: val_loss did not improve from 0.50872\n",
            "141/141 [==============================] - 3s 18ms/step - loss: 0.3986 - accuracy: 0.8624 - val_loss: 0.5305 - val_accuracy: 0.7920\n",
            "Epoch 10/15\n",
            "138/141 [============================>.] - ETA: 0s - loss: 0.3808 - accuracy: 0.8683\n",
            "Epoch 00010: val_loss did not improve from 0.50872\n",
            "141/141 [==============================] - 3s 18ms/step - loss: 0.3810 - accuracy: 0.8681 - val_loss: 0.5416 - val_accuracy: 0.7818\n",
            "Epoch 00010: early stopping\n",
            "Epoch 1/15\n",
            "148/149 [============================>.] - ETA: 0s - loss: 0.4695 - accuracy: 0.8355\n",
            "Epoch 00001: val_loss did not improve from 0.50872\n",
            "149/149 [==============================] - 3s 21ms/step - loss: 0.4698 - accuracy: 0.8353 - val_loss: 0.5179 - val_accuracy: 0.8088\n",
            "Epoch 2/15\n",
            "148/149 [============================>.] - ETA: 0s - loss: 0.4514 - accuracy: 0.8436\n",
            "Epoch 00002: val_loss improved from 0.50872 to 0.50234, saving model to Checkpoint.h5\n",
            "149/149 [==============================] - 3s 18ms/step - loss: 0.4513 - accuracy: 0.8438 - val_loss: 0.5023 - val_accuracy: 0.7988\n",
            "Epoch 3/15\n",
            "148/149 [============================>.] - ETA: 0s - loss: 0.4337 - accuracy: 0.8488\n",
            "Epoch 00003: val_loss improved from 0.50234 to 0.50007, saving model to Checkpoint.h5\n",
            "149/149 [==============================] - 3s 18ms/step - loss: 0.4336 - accuracy: 0.8489 - val_loss: 0.5001 - val_accuracy: 0.7986\n",
            "Epoch 4/15\n",
            "147/149 [============================>.] - ETA: 0s - loss: 0.4154 - accuracy: 0.8562\n",
            "Epoch 00004: val_loss did not improve from 0.50007\n",
            "149/149 [==============================] - 3s 18ms/step - loss: 0.4154 - accuracy: 0.8562 - val_loss: 0.5066 - val_accuracy: 0.7958\n",
            "Epoch 5/15\n",
            "149/149 [==============================] - ETA: 0s - loss: 0.3977 - accuracy: 0.8611\n",
            "Epoch 00005: val_loss did not improve from 0.50007\n",
            "149/149 [==============================] - 3s 18ms/step - loss: 0.3977 - accuracy: 0.8611 - val_loss: 0.5229 - val_accuracy: 0.7964\n",
            "Epoch 6/15\n",
            "147/149 [============================>.] - ETA: 0s - loss: 0.3847 - accuracy: 0.8665\n",
            "Epoch 00006: val_loss did not improve from 0.50007\n",
            "149/149 [==============================] - 3s 17ms/step - loss: 0.3849 - accuracy: 0.8664 - val_loss: 0.5417 - val_accuracy: 0.7958\n",
            "Epoch 7/15\n",
            "148/149 [============================>.] - ETA: 0s - loss: 0.3672 - accuracy: 0.8715\n",
            "Epoch 00007: val_loss did not improve from 0.50007\n",
            "149/149 [==============================] - 3s 18ms/step - loss: 0.3673 - accuracy: 0.8714 - val_loss: 0.5446 - val_accuracy: 0.7898\n",
            "Epoch 8/15\n",
            "146/149 [============================>.] - ETA: 0s - loss: 0.3550 - accuracy: 0.8762\n",
            "Epoch 00008: val_loss did not improve from 0.50007\n",
            "149/149 [==============================] - 3s 17ms/step - loss: 0.3555 - accuracy: 0.8758 - val_loss: 0.5468 - val_accuracy: 0.7768\n",
            "Epoch 9/15\n",
            "147/149 [============================>.] - ETA: 0s - loss: 0.3451 - accuracy: 0.8785\n",
            "Epoch 00009: val_loss did not improve from 0.50007\n",
            "149/149 [==============================] - 3s 18ms/step - loss: 0.3449 - accuracy: 0.8786 - val_loss: 0.5803 - val_accuracy: 0.7802\n",
            "Epoch 00009: early stopping\n",
            "157/157 [==============================] - 1s 6ms/step - loss: 0.5049 - accuracy: 0.7936\n",
            "[0.5049449801445007, 0.7936000227928162]\n",
            "Epoch 1/15\n",
            "156/157 [============================>.] - ETA: 0s - loss: 0.4206 - accuracy: 0.8524\n",
            "Epoch 00001: val_loss did not improve from 0.50007\n",
            "157/157 [==============================] - 3s 18ms/step - loss: 0.4206 - accuracy: 0.8525 - val_loss: 0.5035 - val_accuracy: 0.7980\n",
            "Epoch 2/15\n",
            "156/157 [============================>.] - ETA: 0s - loss: 0.4013 - accuracy: 0.8591\n",
            "Epoch 00002: val_loss did not improve from 0.50007\n",
            "157/157 [==============================] - 3s 18ms/step - loss: 0.4013 - accuracy: 0.8591 - val_loss: 0.5080 - val_accuracy: 0.7914\n",
            "Epoch 3/15\n",
            "156/157 [============================>.] - ETA: 0s - loss: 0.3861 - accuracy: 0.8653\n",
            "Epoch 00003: val_loss did not improve from 0.50007\n",
            "157/157 [==============================] - 3s 18ms/step - loss: 0.3861 - accuracy: 0.8653 - val_loss: 0.5211 - val_accuracy: 0.7910\n",
            "Epoch 4/15\n",
            "155/157 [============================>.] - ETA: 0s - loss: 0.3739 - accuracy: 0.8682\n",
            "Epoch 00004: val_loss did not improve from 0.50007\n",
            "157/157 [==============================] - 3s 18ms/step - loss: 0.3740 - accuracy: 0.8684 - val_loss: 0.5291 - val_accuracy: 0.7898\n",
            "Epoch 5/15\n",
            "154/157 [============================>.] - ETA: 0s - loss: 0.3597 - accuracy: 0.8721\n",
            "Epoch 00005: val_loss did not improve from 0.50007\n",
            "157/157 [==============================] - 3s 18ms/step - loss: 0.3599 - accuracy: 0.8720 - val_loss: 0.5599 - val_accuracy: 0.7900\n",
            "Epoch 6/15\n",
            "155/157 [============================>.] - ETA: 0s - loss: 0.3450 - accuracy: 0.8788\n",
            "Epoch 00006: val_loss did not improve from 0.50007\n",
            "157/157 [==============================] - 3s 18ms/step - loss: 0.3451 - accuracy: 0.8787 - val_loss: 0.5898 - val_accuracy: 0.7850\n",
            "Epoch 7/15\n",
            "156/157 [============================>.] - ETA: 0s - loss: 0.3346 - accuracy: 0.8815\n",
            "Epoch 00007: val_loss did not improve from 0.50007\n",
            "157/157 [==============================] - 3s 18ms/step - loss: 0.3346 - accuracy: 0.8815 - val_loss: 0.6279 - val_accuracy: 0.7864\n",
            "Epoch 00007: early stopping\n",
            "157/157 [==============================] - 1s 5ms/step - loss: 0.5049 - accuracy: 0.7936\n",
            "[0.5049449801445007, 0.7936000227928162]\n"
          ],
          "name": "stdout"
        },
        {
          "output_type": "display_data",
          "data": {
            "image/png": "[encoded data removed]",
            "text/plain": [
              "<Figure size 432x288 with 1 Axes>"
            ]
          },
          "metadata": {
            "tags": [],
            "needs_background": "light"
          }
        },
        {
          "output_type": "display_data",
          "data": {
            "image/png": "[encoded data removed]",
            "text/plain": [
              "<Figure size 432x288 with 1 Axes>"
            ]
          },
          "metadata": {
            "tags": [],
            "needs_background": "light"
          }
        }
      ]
    },
    {
      "cell_type": "markdown",
      "metadata": {
        "id": "DKxfpmggHDch",
        "colab_type": "text"
      },
      "source": [
        "PREDICTIONS"
      ]
    },
    {
      "cell_type": "code",
      "metadata": {
        "id": "A1RJMixFHBrF",
        "colab_type": "code",
        "colab": {}
      },
      "source": [
        "# Ensembling by taking elementwise average\n",
        "\n",
        "pred = (model1.predict(test_seq)+model2.predict(test_seq)+model3.predict(test_seq))/3\n",
        "al_pred = (al_model1.predict(test_seq)+al_model2.predict(test_seq)+al_model3.predict(test_seq))/3"
      ],
      "execution_count": null,
      "outputs": []
    },
    {
      "cell_type": "code",
      "metadata": {
        "id": "1hNKIXoDJq8O",
        "colab_type": "code",
        "colab": {
          "base_uri": "https://localhost:8080/",
          "height": 168
        },
        "outputId": "8e3f93b2-20a8-4bee-e146-63f55f7a11b7"
      },
      "source": [
        "pred = np.where(pred<0.5,0,1)\n",
        "al_pred = np.where(al_pred<0.5,0,1)\n",
        "print(pred[:5],al_pred[:5])"
      ],
      "execution_count": null,
      "outputs": [
        {
          "output_type": "stream",
          "text": [
            "[[1]\n",
            " [1]\n",
            " [0]\n",
            " [0]\n",
            " [1]] [[1]\n",
            " [1]\n",
            " [0]\n",
            " [1]\n",
            " [0]]\n"
          ],
          "name": "stdout"
        }
      ]
    },
    {
      "cell_type": "code",
      "metadata": {
        "id": "37I_0sQpJx-Y",
        "colab_type": "code",
        "colab": {
          "base_uri": "https://localhost:8080/",
          "height": 50
        },
        "outputId": "20616b5c-a92a-4069-fd01-65f2576546ab"
      },
      "source": [
        "from sklearn.metrics import accuracy_score\n",
        "print(accuracy_score(pred,Y_test))\n",
        "print(accuracy_score(al_pred,Y_test))"
      ],
      "execution_count": null,
      "outputs": [
        {
          "output_type": "stream",
          "text": [
            "0.8148\n",
            "0.8234\n"
          ],
          "name": "stdout"
        }
      ]
    },
    {
      "cell_type": "code",
      "metadata": {
        "id": "iKviUYJgKsfh",
        "colab_type": "code",
        "colab": {
          "base_uri": "https://localhost:8080/",
          "height": 118
        },
        "outputId": "82fa795d-cf4f-4e0e-94a4-9bd52c004132"
      },
      "source": [
        "model1.evaluate(test_seq,Y_test),model2.evaluate(test_seq,Y_test),model3.evaluate(test_seq,Y_test)"
      ],
      "execution_count": null,
      "outputs": [
        {
          "output_type": "stream",
          "text": [
            "157/157 [==============================] - 1s 5ms/step - loss: 0.3911 - accuracy: 0.8234\n",
            "157/157 [==============================] - 1s 5ms/step - loss: 0.4998 - accuracy: 0.7996\n",
            "157/157 [==============================] - 1s 6ms/step - loss: 0.5042 - accuracy: 0.8042\n"
          ],
          "name": "stdout"
        },
        {
          "output_type": "execute_result",
          "data": {
            "text/plain": [
              "([0.3911040425300598, 0.8234000205993652],\n",
              " [0.4997769892215729, 0.7996000051498413],\n",
              " [0.5042011141777039, 0.8041999936103821])"
            ]
          },
          "metadata": {
            "tags": []
          },
          "execution_count": 39
        }
      ]
    },
    {
      "cell_type": "code",
      "metadata": {
        "id": "AZKim-YxtLPo",
        "colab_type": "code",
        "colab": {
          "base_uri": "https://localhost:8080/",
          "height": 118
        },
        "outputId": "dce45866-dc15-44e5-ab0d-cb5c2edb27a1"
      },
      "source": [
        "al_model1.evaluate(test_seq,Y_test),al_model2.evaluate(test_seq,Y_test),al_model3.evaluate(test_seq,Y_test)"
      ],
      "execution_count": null,
      "outputs": [
        {
          "output_type": "stream",
          "text": [
            "157/157 [==============================] - 1s 6ms/step - loss: 0.3921 - accuracy: 0.8164\n",
            "157/157 [==============================] - 1s 6ms/step - loss: 0.3896 - accuracy: 0.8220\n",
            "157/157 [==============================] - 1s 6ms/step - loss: 0.5049 - accuracy: 0.7936\n"
          ],
          "name": "stdout"
        },
        {
          "output_type": "execute_result",
          "data": {
            "text/plain": [
              "([0.39213627576828003, 0.8163999915122986],\n",
              " [0.38961705565452576, 0.8220000267028809],\n",
              " [0.5049449801445007, 0.7936000227928162])"
            ]
          },
          "metadata": {
            "tags": []
          },
          "execution_count": 40
        }
      ]
    },
    {
      "cell_type": "code",
      "metadata": {
        "id": "tYD0g3FRtbEn",
        "colab_type": "code",
        "colab": {}
      },
      "source": [
        ""
      ],
      "execution_count": null,
      "outputs": []
    }
  ]
}