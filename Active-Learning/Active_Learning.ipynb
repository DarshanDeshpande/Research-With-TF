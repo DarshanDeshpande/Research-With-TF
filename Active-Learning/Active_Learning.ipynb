{
  "nbformat": 4,
  "nbformat_minor": 0,
  "metadata": {
    "colab": {
      "name": "Active Learning",
      "provenance": [],
      "collapsed_sections": []
    },
    "kernelspec": {
      "display_name": "Python 3",
      "name": "python3"
    },
    "accelerator": "GPU"
  },
  "cells": [
    {
      "cell_type": "markdown",
      "metadata": {
        "id": "qw0D5VEquyXz",
        "colab_type": "text"
      },
      "source": [
        "## Importing necessary libraries"
      ]
    },
    {
      "cell_type": "code",
      "metadata": {
        "colab_type": "code",
        "id": "lIYdn1woOS1n",
        "colab": {}
      },
      "source": [
        "import tensorflow as tf\n",
        "import sklearn\n",
        "import numpy as np\n",
        "import re, os"
      ],
      "execution_count": null,
      "outputs": []
    },
    {
      "cell_type": "markdown",
      "metadata": {
        "id": "idVnlPFUu2JI",
        "colab_type": "text"
      },
      "source": [
        "## Loading CIFAR-10 Dataset"
      ]
    },
    {
      "cell_type": "code",
      "metadata": {
        "id": "9KrysO07Ptjs",
        "colab_type": "code",
        "colab": {}
      },
      "source": [
        "(X_train,Y_train),(X_test,Y_test)=tf.keras.datasets.cifar10.load_data()"
      ],
      "execution_count": null,
      "outputs": []
    },
    {
      "cell_type": "markdown",
      "metadata": {
        "id": "XsKjpfvPu64Y",
        "colab_type": "text"
      },
      "source": [
        "## Preprocessing and Sampling"
      ]
    },
    {
      "cell_type": "code",
      "metadata": {
        "id": "gP_rCYBnP6wA",
        "colab_type": "code",
        "colab": {
          "base_uri": "https://localhost:8080/",
          "height": 34
        },
        "outputId": "26087e37-c7f0-473e-fcfc-98958a10afea"
      },
      "source": [
        "X_train = X_train/255\n",
        "X_test = X_test/255\n",
        "Y_train = Y_train\n",
        "Y_test = tf.keras.utils.to_categorical(Y_test,10)\n",
        "\n",
        "X_train.shape,Y_train.shape"
      ],
      "execution_count": null,
      "outputs": [
        {
          "output_type": "execute_result",
          "data": {
            "text/plain": [
              "((50000, 32, 32, 3), (50000, 1))"
            ]
          },
          "metadata": {
            "tags": []
          },
          "execution_count": 3
        }
      ]
    },
    {
      "cell_type": "code",
      "metadata": {
        "id": "QlYX3gVxP886",
        "colab_type": "code",
        "colab": {}
      },
      "source": [
        "X_train,Y_train = sklearn.utils.shuffle(X_train,Y_train)\n",
        "\n",
        "train_features,train_labels = X_train[:30000], tf.keras.utils.to_categorical(Y_train[:30000],10)\n",
        "oracle_features1, oracle_labels1 = X_train[30000:40000], tf.keras.utils.to_categorical(Y_train[30000:40000],10)\n",
        "oracle_features2, oracle_labels2 = X_train[40000:45000], tf.keras.utils.to_categorical(Y_train[40000:45000],10)\n",
        "val_features, val_labels = X_train[45000:50000], tf.keras.utils.to_categorical(Y_train[45000:50000],10)"
      ],
      "execution_count": null,
      "outputs": []
    },
    {
      "cell_type": "markdown",
      "metadata": {
        "id": "jv0LshIGu_K6",
        "colab_type": "text"
      },
      "source": [
        "## Creating the Model"
      ]
    },
    {
      "cell_type": "code",
      "metadata": {
        "id": "NA4StVjlQPyn",
        "colab_type": "code",
        "colab": {}
      },
      "source": [
        "from tensorflow.keras.layers import Conv2D, Flatten, Dense, MaxPooling2D, BatchNormalization, Dropout\n",
        "def create_model():\n",
        "  model = tf.keras.models.Sequential()\n",
        "  model.add(Conv2D(256,(2,2),input_shape=(32,32,3),kernel_initializer='he_uniform'))\n",
        "  model.add(MaxPooling2D())\n",
        "  model.add(Conv2D(128,(2,2),kernel_initializer='he_uniform'))\n",
        "  model.add(MaxPooling2D())\n",
        "  model.add(Conv2D(64,(2,2),kernel_initializer='he_uniform'))\n",
        "  model.add(MaxPooling2D())\n",
        "  model.add(Conv2D(32,(1,1),kernel_initializer='he_uniform'))\n",
        "  model.add(MaxPooling2D())\n",
        "  model.add(Flatten())\n",
        "  model.add(Dense(256,activation='relu',kernel_initializer='he_uniform'))\n",
        "  model.add(Dropout(0.2))\n",
        "  model.add(Dense(128,activation='relu',kernel_initializer='he_uniform'))\n",
        "  model.add(Dropout(0.2))\n",
        "  model.add(Dense(32,activation='relu',kernel_initializer='he_uniform'))\n",
        "  model.add(Dense(10,activation='softmax',kernel_initializer='he_uniform'))\n",
        "  model.summary()\n",
        "  model.compile(optimizer=tf.keras.optimizers.Adam(0.0005),loss='categorical_crossentropy',metrics=['accuracy'])\n",
        "  return model"
      ],
      "execution_count": null,
      "outputs": []
    },
    {
      "cell_type": "markdown",
      "metadata": {
        "id": "WOFIY0RJvK_I",
        "colab_type": "text"
      },
      "source": [
        "## Active Learning Based Training"
      ]
    },
    {
      "cell_type": "code",
      "metadata": {
        "id": "yiw6MF7uRkoc",
        "colab_type": "code",
        "colab": {
          "base_uri": "https://localhost:8080/",
          "height": 1000
        },
        "outputId": "a0bc513e-72af-43f1-8e9a-7323d31f876a"
      },
      "source": [
        "histories = []\n",
        "model = create_model()\n",
        "history = model.fit(train_features,train_labels,validation_data=(val_features,val_labels),epochs=35,batch_size=256,callbacks=[tf.keras.callbacks.ModelCheckpoint('Checkpoint.h5',verbose=1,save_best_only=True)])\n",
        "model.evaluate(X_test,Y_test)\n",
        "histories.append(history)"
      ],
      "execution_count": null,
      "outputs": [
        {
          "output_type": "stream",
          "text": [
            "Model: \"sequential\"\n",
            "_________________________________________________________________\n",
            "Layer (type)                 Output Shape              Param #   \n",
            "=================================================================\n",
            "conv2d (Conv2D)              (None, 31, 31, 256)       3328      \n",
            "_________________________________________________________________\n",
            "max_pooling2d (MaxPooling2D) (None, 15, 15, 256)       0         \n",
            "_________________________________________________________________\n",
            "conv2d_1 (Conv2D)            (None, 14, 14, 128)       131200    \n",
            "_________________________________________________________________\n",
            "max_pooling2d_1 (MaxPooling2 (None, 7, 7, 128)         0         \n",
            "_________________________________________________________________\n",
            "conv2d_2 (Conv2D)            (None, 6, 6, 64)          32832     \n",
            "_________________________________________________________________\n",
            "max_pooling2d_2 (MaxPooling2 (None, 3, 3, 64)          0         \n",
            "_________________________________________________________________\n",
            "conv2d_3 (Conv2D)            (None, 3, 3, 32)          2080      \n",
            "_________________________________________________________________\n",
            "max_pooling2d_3 (MaxPooling2 (None, 1, 1, 32)          0         \n",
            "_________________________________________________________________\n",
            "flatten (Flatten)            (None, 32)                0         \n",
            "_________________________________________________________________\n",
            "dense (Dense)                (None, 256)               8448      \n",
            "_________________________________________________________________\n",
            "dropout (Dropout)            (None, 256)               0         \n",
            "_________________________________________________________________\n",
            "dense_1 (Dense)              (None, 128)               32896     \n",
            "_________________________________________________________________\n",
            "dropout_1 (Dropout)          (None, 128)               0         \n",
            "_________________________________________________________________\n",
            "dense_2 (Dense)              (None, 32)                4128      \n",
            "_________________________________________________________________\n",
            "dense_3 (Dense)              (None, 10)                330       \n",
            "=================================================================\n",
            "Total params: 215,242\n",
            "Trainable params: 215,242\n",
            "Non-trainable params: 0\n",
            "_________________________________________________________________\n",
            "Epoch 1/35\n",
            "118/118 [==============================] - ETA: 0s - loss: 2.2809 - accuracy: 0.1827\n",
            "Epoch 00001: val_loss improved from inf to 2.03471, saving model to Checkpoint.h5\n",
            "118/118 [==============================] - 8s 65ms/step - loss: 2.2809 - accuracy: 0.1827 - val_loss: 2.0347 - val_accuracy: 0.2124\n",
            "Epoch 2/35\n",
            "117/118 [============================>.] - ETA: 0s - loss: 1.9671 - accuracy: 0.2594\n",
            "Epoch 00002: val_loss improved from 2.03471 to 1.86624, saving model to Checkpoint.h5\n",
            "118/118 [==============================] - 7s 61ms/step - loss: 1.9667 - accuracy: 0.2597 - val_loss: 1.8662 - val_accuracy: 0.2978\n",
            "Epoch 3/35\n",
            "117/118 [============================>.] - ETA: 0s - loss: 1.8532 - accuracy: 0.3027\n",
            "Epoch 00003: val_loss improved from 1.86624 to 1.78809, saving model to Checkpoint.h5\n",
            "118/118 [==============================] - 7s 61ms/step - loss: 1.8531 - accuracy: 0.3027 - val_loss: 1.7881 - val_accuracy: 0.3234\n",
            "Epoch 4/35\n",
            "117/118 [============================>.] - ETA: 0s - loss: 1.7631 - accuracy: 0.3422\n",
            "Epoch 00004: val_loss improved from 1.78809 to 1.72020, saving model to Checkpoint.h5\n",
            "118/118 [==============================] - 7s 61ms/step - loss: 1.7632 - accuracy: 0.3422 - val_loss: 1.7202 - val_accuracy: 0.3634\n",
            "Epoch 5/35\n",
            "117/118 [============================>.] - ETA: 0s - loss: 1.6977 - accuracy: 0.3686\n",
            "Epoch 00005: val_loss improved from 1.72020 to 1.65103, saving model to Checkpoint.h5\n",
            "118/118 [==============================] - 7s 61ms/step - loss: 1.6975 - accuracy: 0.3687 - val_loss: 1.6510 - val_accuracy: 0.3980\n",
            "Epoch 6/35\n",
            "117/118 [============================>.] - ETA: 0s - loss: 1.6409 - accuracy: 0.3956\n",
            "Epoch 00006: val_loss improved from 1.65103 to 1.59974, saving model to Checkpoint.h5\n",
            "118/118 [==============================] - 7s 62ms/step - loss: 1.6405 - accuracy: 0.3957 - val_loss: 1.5997 - val_accuracy: 0.4102\n",
            "Epoch 7/35\n",
            "117/118 [============================>.] - ETA: 0s - loss: 1.5964 - accuracy: 0.4133\n",
            "Epoch 00007: val_loss improved from 1.59974 to 1.59590, saving model to Checkpoint.h5\n",
            "118/118 [==============================] - 7s 62ms/step - loss: 1.5966 - accuracy: 0.4132 - val_loss: 1.5959 - val_accuracy: 0.4096\n",
            "Epoch 8/35\n",
            "117/118 [============================>.] - ETA: 0s - loss: 1.5616 - accuracy: 0.4268\n",
            "Epoch 00008: val_loss improved from 1.59590 to 1.51395, saving model to Checkpoint.h5\n",
            "118/118 [==============================] - 7s 61ms/step - loss: 1.5619 - accuracy: 0.4266 - val_loss: 1.5139 - val_accuracy: 0.4486\n",
            "Epoch 9/35\n",
            "117/118 [============================>.] - ETA: 0s - loss: 1.5141 - accuracy: 0.4489\n",
            "Epoch 00009: val_loss improved from 1.51395 to 1.49902, saving model to Checkpoint.h5\n",
            "118/118 [==============================] - 7s 61ms/step - loss: 1.5143 - accuracy: 0.4488 - val_loss: 1.4990 - val_accuracy: 0.4642\n",
            "Epoch 10/35\n",
            "117/118 [============================>.] - ETA: 0s - loss: 1.4954 - accuracy: 0.4516\n",
            "Epoch 00010: val_loss did not improve from 1.49902\n",
            "118/118 [==============================] - 7s 61ms/step - loss: 1.4949 - accuracy: 0.4517 - val_loss: 1.5023 - val_accuracy: 0.4536\n",
            "Epoch 11/35\n",
            "117/118 [============================>.] - ETA: 0s - loss: 1.4542 - accuracy: 0.4716\n",
            "Epoch 00011: val_loss improved from 1.49902 to 1.44051, saving model to Checkpoint.h5\n",
            "118/118 [==============================] - 7s 62ms/step - loss: 1.4548 - accuracy: 0.4714 - val_loss: 1.4405 - val_accuracy: 0.4796\n",
            "Epoch 12/35\n",
            "117/118 [============================>.] - ETA: 0s - loss: 1.4193 - accuracy: 0.4856\n",
            "Epoch 00012: val_loss did not improve from 1.44051\n",
            "118/118 [==============================] - 7s 61ms/step - loss: 1.4193 - accuracy: 0.4857 - val_loss: 1.4669 - val_accuracy: 0.4726\n",
            "Epoch 13/35\n",
            "117/118 [============================>.] - ETA: 0s - loss: 1.3837 - accuracy: 0.4967\n",
            "Epoch 00013: val_loss improved from 1.44051 to 1.39956, saving model to Checkpoint.h5\n",
            "118/118 [==============================] - 7s 62ms/step - loss: 1.3837 - accuracy: 0.4968 - val_loss: 1.3996 - val_accuracy: 0.4966\n",
            "Epoch 14/35\n",
            "117/118 [============================>.] - ETA: 0s - loss: 1.3630 - accuracy: 0.5067\n",
            "Epoch 00014: val_loss improved from 1.39956 to 1.38680, saving model to Checkpoint.h5\n",
            "118/118 [==============================] - 7s 62ms/step - loss: 1.3629 - accuracy: 0.5067 - val_loss: 1.3868 - val_accuracy: 0.5076\n",
            "Epoch 15/35\n",
            "117/118 [============================>.] - ETA: 0s - loss: 1.3397 - accuracy: 0.5170\n",
            "Epoch 00015: val_loss did not improve from 1.38680\n",
            "118/118 [==============================] - 7s 61ms/step - loss: 1.3400 - accuracy: 0.5169 - val_loss: 1.4798 - val_accuracy: 0.4718\n",
            "Epoch 16/35\n",
            "117/118 [============================>.] - ETA: 0s - loss: 1.3140 - accuracy: 0.5255\n",
            "Epoch 00016: val_loss did not improve from 1.38680\n",
            "118/118 [==============================] - 7s 61ms/step - loss: 1.3139 - accuracy: 0.5254 - val_loss: 1.3880 - val_accuracy: 0.5016\n",
            "Epoch 17/35\n",
            "117/118 [============================>.] - ETA: 0s - loss: 1.2940 - accuracy: 0.5295\n",
            "Epoch 00017: val_loss did not improve from 1.38680\n",
            "118/118 [==============================] - 7s 61ms/step - loss: 1.2943 - accuracy: 0.5297 - val_loss: 1.3891 - val_accuracy: 0.5066\n",
            "Epoch 18/35\n",
            "117/118 [============================>.] - ETA: 0s - loss: 1.2668 - accuracy: 0.5420\n",
            "Epoch 00018: val_loss improved from 1.38680 to 1.36296, saving model to Checkpoint.h5\n",
            "118/118 [==============================] - 7s 62ms/step - loss: 1.2672 - accuracy: 0.5418 - val_loss: 1.3630 - val_accuracy: 0.5060\n",
            "Epoch 19/35\n",
            "117/118 [============================>.] - ETA: 0s - loss: 1.2502 - accuracy: 0.5499\n",
            "Epoch 00019: val_loss improved from 1.36296 to 1.35133, saving model to Checkpoint.h5\n",
            "118/118 [==============================] - 7s 62ms/step - loss: 1.2499 - accuracy: 0.5499 - val_loss: 1.3513 - val_accuracy: 0.5210\n",
            "Epoch 20/35\n",
            "117/118 [============================>.] - ETA: 0s - loss: 1.2311 - accuracy: 0.5569\n",
            "Epoch 00020: val_loss improved from 1.35133 to 1.34254, saving model to Checkpoint.h5\n",
            "118/118 [==============================] - 7s 62ms/step - loss: 1.2312 - accuracy: 0.5568 - val_loss: 1.3425 - val_accuracy: 0.5206\n",
            "Epoch 21/35\n",
            "117/118 [============================>.] - ETA: 0s - loss: 1.2038 - accuracy: 0.5669\n",
            "Epoch 00021: val_loss did not improve from 1.34254\n",
            "118/118 [==============================] - 7s 61ms/step - loss: 1.2042 - accuracy: 0.5668 - val_loss: 1.3555 - val_accuracy: 0.5218\n",
            "Epoch 22/35\n",
            "117/118 [============================>.] - ETA: 0s - loss: 1.2042 - accuracy: 0.5657\n",
            "Epoch 00022: val_loss improved from 1.34254 to 1.32964, saving model to Checkpoint.h5\n",
            "118/118 [==============================] - 7s 62ms/step - loss: 1.2041 - accuracy: 0.5657 - val_loss: 1.3296 - val_accuracy: 0.5352\n",
            "Epoch 23/35\n",
            "117/118 [============================>.] - ETA: 0s - loss: 1.1739 - accuracy: 0.5776\n",
            "Epoch 00023: val_loss did not improve from 1.32964\n",
            "118/118 [==============================] - 7s 61ms/step - loss: 1.1735 - accuracy: 0.5778 - val_loss: 1.3428 - val_accuracy: 0.5218\n",
            "Epoch 24/35\n",
            "117/118 [============================>.] - ETA: 0s - loss: 1.1619 - accuracy: 0.5826\n",
            "Epoch 00024: val_loss improved from 1.32964 to 1.32290, saving model to Checkpoint.h5\n",
            "118/118 [==============================] - 7s 62ms/step - loss: 1.1618 - accuracy: 0.5827 - val_loss: 1.3229 - val_accuracy: 0.5328\n",
            "Epoch 25/35\n",
            "117/118 [============================>.] - ETA: 0s - loss: 1.1347 - accuracy: 0.5892\n",
            "Epoch 00025: val_loss did not improve from 1.32290\n",
            "118/118 [==============================] - 7s 61ms/step - loss: 1.1347 - accuracy: 0.5893 - val_loss: 1.3667 - val_accuracy: 0.5268\n",
            "Epoch 26/35\n",
            "117/118 [============================>.] - ETA: 0s - loss: 1.1216 - accuracy: 0.5969\n",
            "Epoch 00026: val_loss did not improve from 1.32290\n",
            "118/118 [==============================] - 7s 61ms/step - loss: 1.1215 - accuracy: 0.5970 - val_loss: 1.3409 - val_accuracy: 0.5340\n",
            "Epoch 27/35\n",
            "117/118 [============================>.] - ETA: 0s - loss: 1.0919 - accuracy: 0.6065\n",
            "Epoch 00027: val_loss improved from 1.32290 to 1.32193, saving model to Checkpoint.h5\n",
            "118/118 [==============================] - 7s 62ms/step - loss: 1.0925 - accuracy: 0.6063 - val_loss: 1.3219 - val_accuracy: 0.5432\n",
            "Epoch 28/35\n",
            "117/118 [============================>.] - ETA: 0s - loss: 1.0832 - accuracy: 0.6128\n",
            "Epoch 00028: val_loss did not improve from 1.32193\n",
            "118/118 [==============================] - 7s 61ms/step - loss: 1.0829 - accuracy: 0.6128 - val_loss: 1.3846 - val_accuracy: 0.5214\n",
            "Epoch 29/35\n",
            "117/118 [============================>.] - ETA: 0s - loss: 1.0719 - accuracy: 0.6138\n",
            "Epoch 00029: val_loss did not improve from 1.32193\n",
            "118/118 [==============================] - 7s 62ms/step - loss: 1.0721 - accuracy: 0.6138 - val_loss: 1.3914 - val_accuracy: 0.5218\n",
            "Epoch 30/35\n",
            "117/118 [============================>.] - ETA: 0s - loss: 1.0544 - accuracy: 0.6230\n",
            "Epoch 00030: val_loss did not improve from 1.32193\n",
            "118/118 [==============================] - 7s 61ms/step - loss: 1.0545 - accuracy: 0.6231 - val_loss: 1.3275 - val_accuracy: 0.5414\n",
            "Epoch 31/35\n",
            "117/118 [============================>.] - ETA: 0s - loss: 1.0455 - accuracy: 0.6278\n",
            "Epoch 00031: val_loss did not improve from 1.32193\n",
            "118/118 [==============================] - 7s 61ms/step - loss: 1.0452 - accuracy: 0.6279 - val_loss: 1.3237 - val_accuracy: 0.5414\n",
            "Epoch 32/35\n",
            "117/118 [============================>.] - ETA: 0s - loss: 1.0305 - accuracy: 0.6318\n",
            "Epoch 00032: val_loss did not improve from 1.32193\n",
            "118/118 [==============================] - 7s 61ms/step - loss: 1.0302 - accuracy: 0.6319 - val_loss: 1.3573 - val_accuracy: 0.5390\n",
            "Epoch 33/35\n",
            "117/118 [============================>.] - ETA: 0s - loss: 1.0108 - accuracy: 0.6367\n",
            "Epoch 00033: val_loss did not improve from 1.32193\n",
            "118/118 [==============================] - 7s 61ms/step - loss: 1.0113 - accuracy: 0.6367 - val_loss: 1.3304 - val_accuracy: 0.5434\n",
            "Epoch 34/35\n",
            "117/118 [============================>.] - ETA: 0s - loss: 0.9949 - accuracy: 0.6434\n",
            "Epoch 00034: val_loss did not improve from 1.32193\n",
            "118/118 [==============================] - 7s 61ms/step - loss: 0.9949 - accuracy: 0.6433 - val_loss: 1.3686 - val_accuracy: 0.5376\n",
            "Epoch 35/35\n",
            "117/118 [============================>.] - ETA: 0s - loss: 0.9738 - accuracy: 0.6507\n",
            "Epoch 00035: val_loss did not improve from 1.32193\n",
            "118/118 [==============================] - 7s 61ms/step - loss: 0.9736 - accuracy: 0.6508 - val_loss: 1.3581 - val_accuracy: 0.5500\n",
            "313/313 [==============================] - 2s 6ms/step - loss: 1.3273 - accuracy: 0.5485\n"
          ],
          "name": "stdout"
        }
      ]
    },
    {
      "cell_type": "code",
      "metadata": {
        "id": "6WwvatEjReoZ",
        "colab_type": "code",
        "colab": {}
      },
      "source": [
        "model = tf.keras.models.load_model('Checkpoint.h5')"
      ],
      "execution_count": null,
      "outputs": []
    },
    {
      "cell_type": "code",
      "metadata": {
        "id": "wk0igZoCmL68",
        "colab_type": "code",
        "colab": {
          "base_uri": "https://localhost:8080/",
          "height": 1000
        },
        "outputId": "5087be83-94bb-4392-adaf-78360ae34344"
      },
      "source": [
        "checkpoint = tf.keras.callbacks.ModelCheckpoint('Checkpoint1.h5',verbose=1,save_best_only=True)\n",
        "\n",
        "for iter_n, i in enumerate([(oracle_features1,oracle_labels1),(oracle_features2,oracle_labels2)]):\n",
        "  predictions = model.predict(i[0])\n",
        "\n",
        "  # Getting inconfident and wrong predictions\n",
        "  inconfident_preds = np.asarray(np.abs(i[1]-predictions)>0.15).nonzero()[0]\n",
        "  wrong_preds = np.not_equal(np.argmax(predictions,1),np.argmax(i[1],1)).nonzero()[0]\n",
        "  \n",
        "  unique = list(set(np.append(inconfident_preds,wrong_preds)))\n",
        "\n",
        "  update_f = i[0][unique]\n",
        "  update_l = i[1][unique]\n",
        "  train_features = np.vstack((train_features,update_f))\n",
        "  train_labels = np.vstack((train_labels,update_l))\n",
        "\n",
        "  if iter_n != 0:\n",
        "    print(\"Loading the best model till now\")\n",
        "    model = tf.keras.models.load_model('Checkpoint1.h5')\n",
        "  history = model.fit(train_features,train_labels,validation_data=(val_features,val_labels),epochs=15,batch_size=256,callbacks=[checkpoint])\n",
        "  histories.append(history)\n",
        "  model = tf.keras.models.load_model('Checkpoint1.h5')\n",
        "  print(model.evaluate(X_test,Y_test))"
      ],
      "execution_count": null,
      "outputs": [
        {
          "output_type": "stream",
          "text": [
            "Epoch 1/15\n",
            "151/151 [==============================] - ETA: 0s - loss: 1.2043 - accuracy: 0.5708\n",
            "Epoch 00001: val_loss improved from inf to 1.31097, saving model to Checkpoint1.h5\n",
            "151/151 [==============================] - 10s 64ms/step - loss: 1.2043 - accuracy: 0.5708 - val_loss: 1.3110 - val_accuracy: 0.5424\n",
            "Epoch 2/15\n",
            "151/151 [==============================] - ETA: 0s - loss: 1.1712 - accuracy: 0.5809\n",
            "Epoch 00002: val_loss did not improve from 1.31097\n",
            "151/151 [==============================] - 9s 60ms/step - loss: 1.1712 - accuracy: 0.5809 - val_loss: 1.3159 - val_accuracy: 0.5378\n",
            "Epoch 3/15\n",
            "151/151 [==============================] - ETA: 0s - loss: 1.1495 - accuracy: 0.5911\n",
            "Epoch 00003: val_loss did not improve from 1.31097\n",
            "151/151 [==============================] - 9s 61ms/step - loss: 1.1495 - accuracy: 0.5911 - val_loss: 1.3214 - val_accuracy: 0.5310\n",
            "Epoch 4/15\n",
            "151/151 [==============================] - ETA: 0s - loss: 1.1334 - accuracy: 0.5943\n",
            "Epoch 00004: val_loss improved from 1.31097 to 1.30879, saving model to Checkpoint1.h5\n",
            "151/151 [==============================] - 9s 61ms/step - loss: 1.1334 - accuracy: 0.5943 - val_loss: 1.3088 - val_accuracy: 0.5438\n",
            "Epoch 5/15\n",
            "151/151 [==============================] - ETA: 0s - loss: 1.1134 - accuracy: 0.5993\n",
            "Epoch 00005: val_loss improved from 1.30879 to 1.28912, saving model to Checkpoint1.h5\n",
            "151/151 [==============================] - 9s 61ms/step - loss: 1.1134 - accuracy: 0.5993 - val_loss: 1.2891 - val_accuracy: 0.5480\n",
            "Epoch 6/15\n",
            "151/151 [==============================] - ETA: 0s - loss: 1.1053 - accuracy: 0.6042\n",
            "Epoch 00006: val_loss improved from 1.28912 to 1.27525, saving model to Checkpoint1.h5\n",
            "151/151 [==============================] - 9s 61ms/step - loss: 1.1053 - accuracy: 0.6042 - val_loss: 1.2753 - val_accuracy: 0.5550\n",
            "Epoch 7/15\n",
            "151/151 [==============================] - ETA: 0s - loss: 1.0843 - accuracy: 0.6129\n",
            "Epoch 00007: val_loss did not improve from 1.27525\n",
            "151/151 [==============================] - 9s 60ms/step - loss: 1.0843 - accuracy: 0.6129 - val_loss: 1.2769 - val_accuracy: 0.5580\n",
            "Epoch 8/15\n",
            "151/151 [==============================] - ETA: 0s - loss: 1.0668 - accuracy: 0.6160\n",
            "Epoch 00008: val_loss did not improve from 1.27525\n",
            "151/151 [==============================] - 9s 60ms/step - loss: 1.0668 - accuracy: 0.6160 - val_loss: 1.2897 - val_accuracy: 0.5556\n",
            "Epoch 9/15\n",
            "151/151 [==============================] - ETA: 0s - loss: 1.0544 - accuracy: 0.6223\n",
            "Epoch 00009: val_loss improved from 1.27525 to 1.27134, saving model to Checkpoint1.h5\n",
            "151/151 [==============================] - 9s 61ms/step - loss: 1.0544 - accuracy: 0.6223 - val_loss: 1.2713 - val_accuracy: 0.5682\n",
            "Epoch 10/15\n",
            "151/151 [==============================] - ETA: 0s - loss: 1.0412 - accuracy: 0.6279\n",
            "Epoch 00010: val_loss did not improve from 1.27134\n",
            "151/151 [==============================] - 9s 61ms/step - loss: 1.0412 - accuracy: 0.6279 - val_loss: 1.3044 - val_accuracy: 0.5564\n",
            "Epoch 11/15\n",
            "151/151 [==============================] - ETA: 0s - loss: 1.0317 - accuracy: 0.6316\n",
            "Epoch 00011: val_loss did not improve from 1.27134\n",
            "151/151 [==============================] - 9s 61ms/step - loss: 1.0317 - accuracy: 0.6316 - val_loss: 1.3170 - val_accuracy: 0.5502\n",
            "Epoch 12/15\n",
            "151/151 [==============================] - ETA: 0s - loss: 1.0101 - accuracy: 0.6383\n",
            "Epoch 00012: val_loss did not improve from 1.27134\n",
            "151/151 [==============================] - 9s 61ms/step - loss: 1.0101 - accuracy: 0.6383 - val_loss: 1.2890 - val_accuracy: 0.5616\n",
            "Epoch 13/15\n",
            "151/151 [==============================] - ETA: 0s - loss: 0.9981 - accuracy: 0.6436\n",
            "Epoch 00013: val_loss did not improve from 1.27134\n",
            "151/151 [==============================] - 9s 60ms/step - loss: 0.9981 - accuracy: 0.6436 - val_loss: 1.2935 - val_accuracy: 0.5616\n",
            "Epoch 14/15\n",
            "151/151 [==============================] - ETA: 0s - loss: 0.9814 - accuracy: 0.6485\n",
            "Epoch 00014: val_loss did not improve from 1.27134\n",
            "151/151 [==============================] - 9s 60ms/step - loss: 0.9814 - accuracy: 0.6485 - val_loss: 1.2960 - val_accuracy: 0.5640\n",
            "Epoch 15/15\n",
            "151/151 [==============================] - ETA: 0s - loss: 0.9695 - accuracy: 0.6520\n",
            "Epoch 00015: val_loss did not improve from 1.27134\n",
            "151/151 [==============================] - 9s 61ms/step - loss: 0.9695 - accuracy: 0.6520 - val_loss: 1.2961 - val_accuracy: 0.5650\n",
            "313/313 [==============================] - 2s 6ms/step - loss: 1.2422 - accuracy: 0.5715\n",
            "[1.242202639579773, 0.5715000033378601]\n",
            "Loading the best model till now\n",
            "Epoch 1/15\n",
            "167/167 [==============================] - ETA: 0s - loss: 1.0952 - accuracy: 0.6120\n",
            "Epoch 00001: val_loss did not improve from 1.27134\n",
            "167/167 [==============================] - 11s 63ms/step - loss: 1.0952 - accuracy: 0.6120 - val_loss: 1.2846 - val_accuracy: 0.5536\n",
            "Epoch 2/15\n",
            "167/167 [==============================] - ETA: 0s - loss: 1.0816 - accuracy: 0.6140\n",
            "Epoch 00002: val_loss improved from 1.27134 to 1.26187, saving model to Checkpoint1.h5\n",
            "167/167 [==============================] - 10s 61ms/step - loss: 1.0816 - accuracy: 0.6140 - val_loss: 1.2619 - val_accuracy: 0.5634\n",
            "Epoch 3/15\n",
            "167/167 [==============================] - ETA: 0s - loss: 1.0565 - accuracy: 0.6235\n",
            "Epoch 00003: val_loss improved from 1.26187 to 1.26175, saving model to Checkpoint1.h5\n",
            "167/167 [==============================] - 10s 61ms/step - loss: 1.0565 - accuracy: 0.6235 - val_loss: 1.2618 - val_accuracy: 0.5694\n",
            "Epoch 4/15\n",
            "167/167 [==============================] - ETA: 0s - loss: 1.0468 - accuracy: 0.6280\n",
            "Epoch 00004: val_loss did not improve from 1.26175\n",
            "167/167 [==============================] - 10s 60ms/step - loss: 1.0468 - accuracy: 0.6280 - val_loss: 1.2695 - val_accuracy: 0.5706\n",
            "Epoch 5/15\n",
            "167/167 [==============================] - ETA: 0s - loss: 1.0292 - accuracy: 0.6318\n",
            "Epoch 00005: val_loss did not improve from 1.26175\n",
            "167/167 [==============================] - 10s 61ms/step - loss: 1.0292 - accuracy: 0.6318 - val_loss: 1.2624 - val_accuracy: 0.5648\n",
            "Epoch 6/15\n",
            "167/167 [==============================] - ETA: 0s - loss: 1.0091 - accuracy: 0.6378\n",
            "Epoch 00006: val_loss did not improve from 1.26175\n",
            "167/167 [==============================] - 10s 61ms/step - loss: 1.0091 - accuracy: 0.6378 - val_loss: 1.2924 - val_accuracy: 0.5650\n",
            "Epoch 7/15\n",
            "167/167 [==============================] - ETA: 0s - loss: 1.0024 - accuracy: 0.6393\n",
            "Epoch 00007: val_loss did not improve from 1.26175\n",
            "167/167 [==============================] - 10s 60ms/step - loss: 1.0024 - accuracy: 0.6393 - val_loss: 1.2915 - val_accuracy: 0.5602\n",
            "Epoch 8/15\n",
            "167/167 [==============================] - ETA: 0s - loss: 0.9843 - accuracy: 0.6482\n",
            "Epoch 00008: val_loss did not improve from 1.26175\n",
            "167/167 [==============================] - 10s 60ms/step - loss: 0.9843 - accuracy: 0.6482 - val_loss: 1.2682 - val_accuracy: 0.5740\n",
            "Epoch 9/15\n",
            "167/167 [==============================] - ETA: 0s - loss: 0.9804 - accuracy: 0.6515\n",
            "Epoch 00009: val_loss improved from 1.26175 to 1.25881, saving model to Checkpoint1.h5\n",
            "167/167 [==============================] - 10s 61ms/step - loss: 0.9804 - accuracy: 0.6515 - val_loss: 1.2588 - val_accuracy: 0.5696\n",
            "Epoch 10/15\n",
            "167/167 [==============================] - ETA: 0s - loss: 0.9658 - accuracy: 0.6561\n",
            "Epoch 00010: val_loss did not improve from 1.25881\n",
            "167/167 [==============================] - 10s 60ms/step - loss: 0.9658 - accuracy: 0.6561 - val_loss: 1.2876 - val_accuracy: 0.5670\n",
            "Epoch 11/15\n",
            "167/167 [==============================] - ETA: 0s - loss: 0.9540 - accuracy: 0.6620\n",
            "Epoch 00011: val_loss did not improve from 1.25881\n",
            "167/167 [==============================] - 10s 61ms/step - loss: 0.9540 - accuracy: 0.6620 - val_loss: 1.2878 - val_accuracy: 0.5756\n",
            "Epoch 12/15\n",
            "167/167 [==============================] - ETA: 0s - loss: 0.9383 - accuracy: 0.6645\n",
            "Epoch 00012: val_loss did not improve from 1.25881\n",
            "167/167 [==============================] - 10s 61ms/step - loss: 0.9383 - accuracy: 0.6645 - val_loss: 1.2788 - val_accuracy: 0.5714\n",
            "Epoch 13/15\n",
            "167/167 [==============================] - ETA: 0s - loss: 0.9253 - accuracy: 0.6690\n",
            "Epoch 00013: val_loss did not improve from 1.25881\n",
            "167/167 [==============================] - 10s 60ms/step - loss: 0.9253 - accuracy: 0.6690 - val_loss: 1.2936 - val_accuracy: 0.5676\n",
            "Epoch 14/15\n",
            "167/167 [==============================] - ETA: 0s - loss: 0.9089 - accuracy: 0.6770\n",
            "Epoch 00014: val_loss did not improve from 1.25881\n",
            "167/167 [==============================] - 10s 61ms/step - loss: 0.9089 - accuracy: 0.6770 - val_loss: 1.3137 - val_accuracy: 0.5746\n",
            "Epoch 15/15\n",
            "167/167 [==============================] - ETA: 0s - loss: 0.9025 - accuracy: 0.6770\n",
            "Epoch 00015: val_loss did not improve from 1.25881\n",
            "167/167 [==============================] - 10s 61ms/step - loss: 0.9025 - accuracy: 0.6770 - val_loss: 1.3110 - val_accuracy: 0.5742\n",
            "313/313 [==============================] - 2s 6ms/step - loss: 1.2344 - accuracy: 0.5787\n",
            "[1.2343794107437134, 0.5787000060081482]\n"
          ],
          "name": "stdout"
        }
      ]
    },
    {
      "cell_type": "markdown",
      "metadata": {
        "id": "AOS3PRiTvYtQ",
        "colab_type": "text"
      },
      "source": [
        "## Training the Full Model (Just for Comparison)"
      ]
    },
    {
      "cell_type": "code",
      "metadata": {
        "id": "gKcbO9tBgBH5",
        "colab_type": "code",
        "colab": {
          "base_uri": "https://localhost:8080/",
          "height": 1000
        },
        "outputId": "10eb69b1-32e3-49f0-a744-fe022249fe47"
      },
      "source": [
        "full_model = create_model()\n",
        "full_model.fit(np.concatenate((train_features,oracle_features1,oracle_features2)),np.concatenate((train_labels,oracle_labels1,oracle_labels2)),validation_data=(val_features,val_labels),epochs=35,batch_size=256,callbacks=[tf.keras.callbacks.ModelCheckpoint('CheckpointFullModel.h5',verbose=1,save_best_only=True),tf.keras.callbacks.EarlyStopping(patience=6,verbose=1)])\n",
        "full_model = tf.keras.models.load_model('CheckpointFullModel.h5')\n",
        "full_model.evaluate(X_test,Y_test)"
      ],
      "execution_count": null,
      "outputs": [
        {
          "output_type": "stream",
          "text": [
            "Model: \"sequential_1\"\n",
            "_________________________________________________________________\n",
            "Layer (type)                 Output Shape              Param #   \n",
            "=================================================================\n",
            "conv2d_4 (Conv2D)            (None, 31, 31, 256)       3328      \n",
            "_________________________________________________________________\n",
            "max_pooling2d_4 (MaxPooling2 (None, 15, 15, 256)       0         \n",
            "_________________________________________________________________\n",
            "conv2d_5 (Conv2D)            (None, 14, 14, 128)       131200    \n",
            "_________________________________________________________________\n",
            "max_pooling2d_5 (MaxPooling2 (None, 7, 7, 128)         0         \n",
            "_________________________________________________________________\n",
            "conv2d_6 (Conv2D)            (None, 6, 6, 64)          32832     \n",
            "_________________________________________________________________\n",
            "max_pooling2d_6 (MaxPooling2 (None, 3, 3, 64)          0         \n",
            "_________________________________________________________________\n",
            "conv2d_7 (Conv2D)            (None, 3, 3, 32)          2080      \n",
            "_________________________________________________________________\n",
            "max_pooling2d_7 (MaxPooling2 (None, 1, 1, 32)          0         \n",
            "_________________________________________________________________\n",
            "flatten_1 (Flatten)          (None, 32)                0         \n",
            "_________________________________________________________________\n",
            "dense_4 (Dense)              (None, 256)               8448      \n",
            "_________________________________________________________________\n",
            "dropout_2 (Dropout)          (None, 256)               0         \n",
            "_________________________________________________________________\n",
            "dense_5 (Dense)              (None, 128)               32896     \n",
            "_________________________________________________________________\n",
            "dropout_3 (Dropout)          (None, 128)               0         \n",
            "_________________________________________________________________\n",
            "dense_6 (Dense)              (None, 32)                4128      \n",
            "_________________________________________________________________\n",
            "dense_7 (Dense)              (None, 10)                330       \n",
            "=================================================================\n",
            "Total params: 215,242\n",
            "Trainable params: 215,242\n",
            "Non-trainable params: 0\n",
            "_________________________________________________________________\n",
            "Epoch 1/35\n",
            "226/226 [==============================] - ETA: 0s - loss: 2.1950 - accuracy: 0.2084\n",
            "Epoch 00001: val_loss improved from inf to 1.89055, saving model to CheckpointFullModel.h5\n",
            "226/226 [==============================] - 14s 62ms/step - loss: 2.1950 - accuracy: 0.2084 - val_loss: 1.8905 - val_accuracy: 0.2920\n",
            "Epoch 2/35\n",
            "225/226 [============================>.] - ETA: 0s - loss: 1.8828 - accuracy: 0.2928\n",
            "Epoch 00002: val_loss improved from 1.89055 to 1.74987, saving model to CheckpointFullModel.h5\n",
            "226/226 [==============================] - 14s 60ms/step - loss: 1.8825 - accuracy: 0.2929 - val_loss: 1.7499 - val_accuracy: 0.3216\n",
            "Epoch 3/35\n",
            "225/226 [============================>.] - ETA: 0s - loss: 1.7536 - accuracy: 0.3444\n",
            "Epoch 00003: val_loss improved from 1.74987 to 1.64509, saving model to CheckpointFullModel.h5\n",
            "226/226 [==============================] - 14s 60ms/step - loss: 1.7537 - accuracy: 0.3445 - val_loss: 1.6451 - val_accuracy: 0.3972\n",
            "Epoch 4/35\n",
            "225/226 [============================>.] - ETA: 0s - loss: 1.6655 - accuracy: 0.3806\n",
            "Epoch 00004: val_loss improved from 1.64509 to 1.55720, saving model to CheckpointFullModel.h5\n",
            "226/226 [==============================] - 14s 60ms/step - loss: 1.6655 - accuracy: 0.3806 - val_loss: 1.5572 - val_accuracy: 0.4194\n",
            "Epoch 5/35\n",
            "225/226 [============================>.] - ETA: 0s - loss: 1.6029 - accuracy: 0.4090\n",
            "Epoch 00005: val_loss improved from 1.55720 to 1.55607, saving model to CheckpointFullModel.h5\n",
            "226/226 [==============================] - 14s 60ms/step - loss: 1.6028 - accuracy: 0.4089 - val_loss: 1.5561 - val_accuracy: 0.4384\n",
            "Epoch 6/35\n",
            "225/226 [============================>.] - ETA: 0s - loss: 1.5310 - accuracy: 0.4414\n",
            "Epoch 00006: val_loss improved from 1.55607 to 1.46004, saving model to CheckpointFullModel.h5\n",
            "226/226 [==============================] - 13s 60ms/step - loss: 1.5310 - accuracy: 0.4414 - val_loss: 1.4600 - val_accuracy: 0.4634\n",
            "Epoch 7/35\n",
            "225/226 [============================>.] - ETA: 0s - loss: 1.4844 - accuracy: 0.4584\n",
            "Epoch 00007: val_loss improved from 1.46004 to 1.44837, saving model to CheckpointFullModel.h5\n",
            "226/226 [==============================] - 13s 59ms/step - loss: 1.4843 - accuracy: 0.4584 - val_loss: 1.4484 - val_accuracy: 0.4822\n",
            "Epoch 8/35\n",
            "225/226 [============================>.] - ETA: 0s - loss: 1.4293 - accuracy: 0.4801\n",
            "Epoch 00008: val_loss improved from 1.44837 to 1.37920, saving model to CheckpointFullModel.h5\n",
            "226/226 [==============================] - 13s 60ms/step - loss: 1.4292 - accuracy: 0.4800 - val_loss: 1.3792 - val_accuracy: 0.5018\n",
            "Epoch 9/35\n",
            "225/226 [============================>.] - ETA: 0s - loss: 1.3820 - accuracy: 0.4986\n",
            "Epoch 00009: val_loss did not improve from 1.37920\n",
            "226/226 [==============================] - 13s 59ms/step - loss: 1.3818 - accuracy: 0.4986 - val_loss: 1.4020 - val_accuracy: 0.4932\n",
            "Epoch 10/35\n",
            "225/226 [============================>.] - ETA: 0s - loss: 1.3420 - accuracy: 0.5154\n",
            "Epoch 00010: val_loss improved from 1.37920 to 1.37547, saving model to CheckpointFullModel.h5\n",
            "226/226 [==============================] - 14s 60ms/step - loss: 1.3421 - accuracy: 0.5153 - val_loss: 1.3755 - val_accuracy: 0.5062\n",
            "Epoch 11/35\n",
            "225/226 [============================>.] - ETA: 0s - loss: 1.3051 - accuracy: 0.5268\n",
            "Epoch 00011: val_loss improved from 1.37547 to 1.32903, saving model to CheckpointFullModel.h5\n",
            "226/226 [==============================] - 13s 60ms/step - loss: 1.3050 - accuracy: 0.5269 - val_loss: 1.3290 - val_accuracy: 0.5280\n",
            "Epoch 12/35\n",
            "225/226 [============================>.] - ETA: 0s - loss: 1.2694 - accuracy: 0.5431\n",
            "Epoch 00012: val_loss improved from 1.32903 to 1.30922, saving model to CheckpointFullModel.h5\n",
            "226/226 [==============================] - 13s 60ms/step - loss: 1.2693 - accuracy: 0.5431 - val_loss: 1.3092 - val_accuracy: 0.5312\n",
            "Epoch 13/35\n",
            "225/226 [============================>.] - ETA: 0s - loss: 1.2431 - accuracy: 0.5541\n",
            "Epoch 00013: val_loss improved from 1.30922 to 1.28655, saving model to CheckpointFullModel.h5\n",
            "226/226 [==============================] - 13s 59ms/step - loss: 1.2430 - accuracy: 0.5541 - val_loss: 1.2865 - val_accuracy: 0.5414\n",
            "Epoch 14/35\n",
            "225/226 [============================>.] - ETA: 0s - loss: 1.2101 - accuracy: 0.5662\n",
            "Epoch 00014: val_loss did not improve from 1.28655\n",
            "226/226 [==============================] - 13s 59ms/step - loss: 1.2103 - accuracy: 0.5661 - val_loss: 1.3439 - val_accuracy: 0.5126\n",
            "Epoch 15/35\n",
            "225/226 [============================>.] - ETA: 0s - loss: 1.1867 - accuracy: 0.5734\n",
            "Epoch 00015: val_loss did not improve from 1.28655\n",
            "226/226 [==============================] - 13s 59ms/step - loss: 1.1866 - accuracy: 0.5735 - val_loss: 1.2945 - val_accuracy: 0.5384\n",
            "Epoch 16/35\n",
            "225/226 [============================>.] - ETA: 0s - loss: 1.1600 - accuracy: 0.5861\n",
            "Epoch 00016: val_loss improved from 1.28655 to 1.27359, saving model to CheckpointFullModel.h5\n",
            "226/226 [==============================] - 13s 60ms/step - loss: 1.1603 - accuracy: 0.5860 - val_loss: 1.2736 - val_accuracy: 0.5434\n",
            "Epoch 17/35\n",
            "225/226 [============================>.] - ETA: 0s - loss: 1.1449 - accuracy: 0.5902\n",
            "Epoch 00017: val_loss improved from 1.27359 to 1.27233, saving model to CheckpointFullModel.h5\n",
            "226/226 [==============================] - 14s 60ms/step - loss: 1.1448 - accuracy: 0.5902 - val_loss: 1.2723 - val_accuracy: 0.5498\n",
            "Epoch 18/35\n",
            "225/226 [============================>.] - ETA: 0s - loss: 1.1057 - accuracy: 0.6046\n",
            "Epoch 00018: val_loss did not improve from 1.27233\n",
            "226/226 [==============================] - 13s 59ms/step - loss: 1.1058 - accuracy: 0.6045 - val_loss: 1.3534 - val_accuracy: 0.5320\n",
            "Epoch 19/35\n",
            "225/226 [============================>.] - ETA: 0s - loss: 1.0889 - accuracy: 0.6140\n",
            "Epoch 00019: val_loss did not improve from 1.27233\n",
            "226/226 [==============================] - 13s 60ms/step - loss: 1.0889 - accuracy: 0.6140 - val_loss: 1.2834 - val_accuracy: 0.5500\n",
            "Epoch 20/35\n",
            "225/226 [============================>.] - ETA: 0s - loss: 1.0737 - accuracy: 0.6168\n",
            "Epoch 00020: val_loss improved from 1.27233 to 1.25247, saving model to CheckpointFullModel.h5\n",
            "226/226 [==============================] - 14s 60ms/step - loss: 1.0738 - accuracy: 0.6167 - val_loss: 1.2525 - val_accuracy: 0.5662\n",
            "Epoch 21/35\n",
            "225/226 [============================>.] - ETA: 0s - loss: 1.0546 - accuracy: 0.6252\n",
            "Epoch 00021: val_loss did not improve from 1.25247\n",
            "226/226 [==============================] - 13s 59ms/step - loss: 1.0548 - accuracy: 0.6250 - val_loss: 1.2905 - val_accuracy: 0.5554\n",
            "Epoch 22/35\n",
            "225/226 [============================>.] - ETA: 0s - loss: 1.0279 - accuracy: 0.6347\n",
            "Epoch 00022: val_loss did not improve from 1.25247\n",
            "226/226 [==============================] - 13s 59ms/step - loss: 1.0276 - accuracy: 0.6347 - val_loss: 1.2700 - val_accuracy: 0.5658\n",
            "Epoch 23/35\n",
            "225/226 [============================>.] - ETA: 0s - loss: 1.0030 - accuracy: 0.6442\n",
            "Epoch 00023: val_loss did not improve from 1.25247\n",
            "226/226 [==============================] - 13s 59ms/step - loss: 1.0030 - accuracy: 0.6443 - val_loss: 1.2879 - val_accuracy: 0.5700\n",
            "Epoch 24/35\n",
            "225/226 [============================>.] - ETA: 0s - loss: 0.9839 - accuracy: 0.6506\n",
            "Epoch 00024: val_loss did not improve from 1.25247\n",
            "226/226 [==============================] - 13s 59ms/step - loss: 0.9836 - accuracy: 0.6508 - val_loss: 1.2707 - val_accuracy: 0.5618\n",
            "Epoch 25/35\n",
            "225/226 [============================>.] - ETA: 0s - loss: 0.9703 - accuracy: 0.6567\n",
            "Epoch 00025: val_loss did not improve from 1.25247\n",
            "226/226 [==============================] - 13s 60ms/step - loss: 0.9704 - accuracy: 0.6566 - val_loss: 1.2681 - val_accuracy: 0.5606\n",
            "Epoch 26/35\n",
            "225/226 [============================>.] - ETA: 0s - loss: 0.9463 - accuracy: 0.6635\n",
            "Epoch 00026: val_loss did not improve from 1.25247\n",
            "226/226 [==============================] - 13s 59ms/step - loss: 0.9460 - accuracy: 0.6636 - val_loss: 1.2994 - val_accuracy: 0.5680\n",
            "Epoch 00026: early stopping\n",
            "313/313 [==============================] - 2s 6ms/step - loss: 1.2284 - accuracy: 0.5736\n"
          ],
          "name": "stdout"
        },
        {
          "output_type": "execute_result",
          "data": {
            "text/plain": [
              "[1.2284014225006104, 0.5735999941825867]"
            ]
          },
          "metadata": {
            "tags": []
          },
          "execution_count": 9
        }
      ]
    },
    {
      "cell_type": "markdown",
      "metadata": {
        "id": "Mfh4JIgDveCL",
        "colab_type": "text"
      },
      "source": [
        "## Visualizing the results"
      ]
    },
    {
      "cell_type": "code",
      "metadata": {
        "id": "Gw9KramGwA44",
        "colab_type": "code",
        "colab": {
          "base_uri": "https://localhost:8080/",
          "height": 541
        },
        "outputId": "e97b0f0e-f7e8-4b7a-e16f-8d5b6907f990"
      },
      "source": [
        "import matplotlib.pyplot as plt\n",
        "\n",
        "plt.plot(history.history['loss'])\n",
        "plt.plot(history.history['val_loss'])\n",
        "plt.legend(['train_loss','val_loss'])\n",
        "plt.xlabel('Epochs')\n",
        "plt.ylabel('Loss')\n",
        "plt.show()\n",
        "\n",
        "plt.plot(history.history['accuracy'])\n",
        "plt.plot(history.history['val_accuracy'])\n",
        "plt.legend(['train_accuracy','val_accuracy'])\n",
        "plt.xlabel('Epochs')\n",
        "plt.ylabel('Accuracy')\n",
        "plt.show()"
      ],
      "execution_count": null,
      "outputs": [
        {
          "output_type": "display_data",
          "data": {
            "image/png": "[encoded data removed]",
            "text/plain": [
              "<Figure size 432x288 with 1 Axes>"
            ]
          },
          "metadata": {
            "tags": [],
            "needs_background": "light"
          }
        },
        {
          "output_type": "display_data",
          "data": {
            "image/png": "[encoded data removed]",
            "text/plain": [
              "<Figure size 432x288 with 1 Axes>"
            ]
          },
          "metadata": {
            "tags": [],
            "needs_background": "light"
          }
        }
      ]
    },
    {
      "cell_type": "code",
      "metadata": {
        "id": "CsLjZy1I3Qzf",
        "colab_type": "code",
        "colab": {}
      },
      "source": [
        "losses, val_losses, accuracies, val_accuracies = [], [], [], []\n",
        "for h in histories:\n",
        "  losses = losses + h.history['loss']\n",
        "  val_losses = val_losses + h.history['val_loss']\n",
        "  accuracies = accuracies + h.history['accuracy']\n",
        "  val_accuracies = val_accuracies + h.history['val_accuracy']"
      ],
      "execution_count": null,
      "outputs": []
    },
    {
      "cell_type": "code",
      "metadata": {
        "id": "2Id9n7pE2_B6",
        "colab_type": "code",
        "colab": {
          "base_uri": "https://localhost:8080/",
          "height": 545
        },
        "outputId": "394a567c-65e8-430d-c9ad-e5d8e76057b4"
      },
      "source": [
        "plt.plot(losses)\n",
        "plt.plot(val_losses)\n",
        "plt.legend(['train_loss','val_loss'])\n",
        "plt.xlabel('Epochs')\n",
        "plt.ylabel('Loss')\n",
        "plt.show()\n",
        "\n",
        "plt.plot(accuracies)\n",
        "plt.plot(val_accuracies)\n",
        "plt.legend(['train_accuracy','val_accuracy'])\n",
        "plt.xlabel('Epochs')\n",
        "plt.ylabel('Accuracy')\n",
        "plt.show()"
      ],
      "execution_count": null,
      "outputs": [
        {
          "output_type": "display_data",
          "data": {
            "image/png": "[encoded data removed]",
            "text/plain": [
              "<Figure size 432x288 with 1 Axes>"
            ]
          },
          "metadata": {
            "tags": [],
            "needs_background": "light"
          }
        },
        {
          "output_type": "display_data",
          "data": {
            "image/png": "[encoded data removed]",
            "text/plain": [
              "<Figure size 432x288 with 1 Axes>"
            ]
          },
          "metadata": {
            "tags": [],
            "needs_background": "light"
          }
        }
      ]
    }
  ]
}