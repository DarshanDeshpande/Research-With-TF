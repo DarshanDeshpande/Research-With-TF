{
  "nbformat": 4,
  "nbformat_minor": 0,
  "metadata": {
    "colab": {
      "name": "ActiveLearningTF.ipynb",
      "provenance": []
    },
    "kernelspec": {
      "name": "python3",
      "display_name": "Python 3"
    },
    "accelerator": "GPU"
  },
  "cells": [
    {
      "cell_type": "markdown",
      "metadata": {
        "id": "_X1NlfcRe39S",
        "colab_type": "text"
      },
      "source": [
        "## Importing necessary libraries"
      ]
    },
    {
      "cell_type": "code",
      "metadata": {
        "id": "GFH_4cbF7siy",
        "colab_type": "code",
        "colab": {}
      },
      "source": [
        "import tensorflow as tf\n",
        "import numpy as np\n",
        "import re, os\n",
        "import matplotlib.pyplot as plt\n",
        "import pandas as pd\n",
        "import sklearn"
      ],
      "execution_count": 1,
      "outputs": []
    },
    {
      "cell_type": "markdown",
      "metadata": {
        "id": "8sNx80-ke9fA",
        "colab_type": "text"
      },
      "source": [
        "## Getting data from Kaggle"
      ]
    },
    {
      "cell_type": "code",
      "metadata": {
        "id": "64Gd-DBx8B-V",
        "colab_type": "code",
        "colab": {
          "base_uri": "https://localhost:8080/",
          "height": 134
        },
        "outputId": "67729a1b-c39e-4505-ad68-f2073199e3af"
      },
      "source": [
        "!mkdir -p ~/.kaggle\n",
        "!cp kaggle.json ~/.kaggle/\n",
        "!chmod 600 /root/.kaggle/kaggle.json\n",
        "!kaggle datasets download -d columbine/imdb-dataset-sentiment-analysis-in-csv-format\n",
        "!unzip '/content/imdb-dataset-sentiment-analysis-in-csv-format.zip'"
      ],
      "execution_count": 2,
      "outputs": [
        {
          "output_type": "stream",
          "text": [
            "Downloading imdb-dataset-sentiment-analysis-in-csv-format.zip to /content\n",
            " 78% 20.0M/25.7M [00:00<00:00, 42.4MB/s]\n",
            "100% 25.7M/25.7M [00:00<00:00, 65.0MB/s]\n",
            "Archive:  /content/imdb-dataset-sentiment-analysis-in-csv-format.zip\n",
            "  inflating: Test.csv                \n",
            "  inflating: Train.csv               \n",
            "  inflating: Valid.csv               \n"
          ],
          "name": "stdout"
        }
      ]
    },
    {
      "cell_type": "code",
      "metadata": {
        "id": "OkXjTjxY8Dri",
        "colab_type": "code",
        "colab": {
          "base_uri": "https://localhost:8080/",
          "height": 195
        },
        "outputId": "504b1bc4-b91a-40c7-ddb7-3dd8f7573efe"
      },
      "source": [
        "df_train = pd.read_csv('/content/Train.csv')\n",
        "df_train.head()"
      ],
      "execution_count": 3,
      "outputs": [
        {
          "output_type": "execute_result",
          "data": {
            "text/html": [
              "<div>\n",
              "<style scoped>\n",
              "    .dataframe tbody tr th:only-of-type {\n",
              "        vertical-align: middle;\n",
              "    }\n",
              "\n",
              "    .dataframe tbody tr th {\n",
              "        vertical-align: top;\n",
              "    }\n",
              "\n",
              "    .dataframe thead th {\n",
              "        text-align: right;\n",
              "    }\n",
              "</style>\n",
              "<table border=\"1\" class=\"dataframe\">\n",
              "  <thead>\n",
              "    <tr style=\"text-align: right;\">\n",
              "      <th></th>\n",
              "      <th>text</th>\n",
              "      <th>label</th>\n",
              "    </tr>\n",
              "  </thead>\n",
              "  <tbody>\n",
              "    <tr>\n",
              "      <th>0</th>\n",
              "      <td>I grew up (b. 1965) watching and loving the Th...</td>\n",
              "      <td>0</td>\n",
              "    </tr>\n",
              "    <tr>\n",
              "      <th>1</th>\n",
              "      <td>When I put this movie in my DVD player, and sa...</td>\n",
              "      <td>0</td>\n",
              "    </tr>\n",
              "    <tr>\n",
              "      <th>2</th>\n",
              "      <td>Why do people who do not know what a particula...</td>\n",
              "      <td>0</td>\n",
              "    </tr>\n",
              "    <tr>\n",
              "      <th>3</th>\n",
              "      <td>Even though I have great interest in Biblical ...</td>\n",
              "      <td>0</td>\n",
              "    </tr>\n",
              "    <tr>\n",
              "      <th>4</th>\n",
              "      <td>Im a die hard Dads Army fan and nothing will e...</td>\n",
              "      <td>1</td>\n",
              "    </tr>\n",
              "  </tbody>\n",
              "</table>\n",
              "</div>"
            ],
            "text/plain": [
              "                                                text  label\n",
              "0  I grew up (b. 1965) watching and loving the Th...      0\n",
              "1  When I put this movie in my DVD player, and sa...      0\n",
              "2  Why do people who do not know what a particula...      0\n",
              "3  Even though I have great interest in Biblical ...      0\n",
              "4  Im a die hard Dads Army fan and nothing will e...      1"
            ]
          },
          "metadata": {
            "tags": []
          },
          "execution_count": 3
        }
      ]
    },
    {
      "cell_type": "code",
      "metadata": {
        "id": "xx5lxsvW8D-r",
        "colab_type": "code",
        "colab": {
          "base_uri": "https://localhost:8080/",
          "height": 195
        },
        "outputId": "eead31ff-0f2f-47d9-9f9e-0af0bbd555a1"
      },
      "source": [
        "df_val = pd.read_csv('/content/Valid.csv')\n",
        "df_val.head()"
      ],
      "execution_count": 4,
      "outputs": [
        {
          "output_type": "execute_result",
          "data": {
            "text/html": [
              "<div>\n",
              "<style scoped>\n",
              "    .dataframe tbody tr th:only-of-type {\n",
              "        vertical-align: middle;\n",
              "    }\n",
              "\n",
              "    .dataframe tbody tr th {\n",
              "        vertical-align: top;\n",
              "    }\n",
              "\n",
              "    .dataframe thead th {\n",
              "        text-align: right;\n",
              "    }\n",
              "</style>\n",
              "<table border=\"1\" class=\"dataframe\">\n",
              "  <thead>\n",
              "    <tr style=\"text-align: right;\">\n",
              "      <th></th>\n",
              "      <th>text</th>\n",
              "      <th>label</th>\n",
              "    </tr>\n",
              "  </thead>\n",
              "  <tbody>\n",
              "    <tr>\n",
              "      <th>0</th>\n",
              "      <td>It's been about 14 years since Sharon Stone aw...</td>\n",
              "      <td>0</td>\n",
              "    </tr>\n",
              "    <tr>\n",
              "      <th>1</th>\n",
              "      <td>someone needed to make a car payment... this i...</td>\n",
              "      <td>0</td>\n",
              "    </tr>\n",
              "    <tr>\n",
              "      <th>2</th>\n",
              "      <td>The Guidelines state that a comment must conta...</td>\n",
              "      <td>0</td>\n",
              "    </tr>\n",
              "    <tr>\n",
              "      <th>3</th>\n",
              "      <td>This movie is a muddled mish-mash of clichés f...</td>\n",
              "      <td>0</td>\n",
              "    </tr>\n",
              "    <tr>\n",
              "      <th>4</th>\n",
              "      <td>Before Stan Laurel became the smaller half of ...</td>\n",
              "      <td>0</td>\n",
              "    </tr>\n",
              "  </tbody>\n",
              "</table>\n",
              "</div>"
            ],
            "text/plain": [
              "                                                text  label\n",
              "0  It's been about 14 years since Sharon Stone aw...      0\n",
              "1  someone needed to make a car payment... this i...      0\n",
              "2  The Guidelines state that a comment must conta...      0\n",
              "3  This movie is a muddled mish-mash of clichés f...      0\n",
              "4  Before Stan Laurel became the smaller half of ...      0"
            ]
          },
          "metadata": {
            "tags": []
          },
          "execution_count": 4
        }
      ]
    },
    {
      "cell_type": "code",
      "metadata": {
        "id": "LkyrtMpw8EAy",
        "colab_type": "code",
        "colab": {
          "base_uri": "https://localhost:8080/",
          "height": 195
        },
        "outputId": "034a74ce-40a8-4423-f938-8bbbc2c1ba87"
      },
      "source": [
        "df_test = pd.read_csv('/content/Test.csv')\n",
        "df_test.head()"
      ],
      "execution_count": 5,
      "outputs": [
        {
          "output_type": "execute_result",
          "data": {
            "text/html": [
              "<div>\n",
              "<style scoped>\n",
              "    .dataframe tbody tr th:only-of-type {\n",
              "        vertical-align: middle;\n",
              "    }\n",
              "\n",
              "    .dataframe tbody tr th {\n",
              "        vertical-align: top;\n",
              "    }\n",
              "\n",
              "    .dataframe thead th {\n",
              "        text-align: right;\n",
              "    }\n",
              "</style>\n",
              "<table border=\"1\" class=\"dataframe\">\n",
              "  <thead>\n",
              "    <tr style=\"text-align: right;\">\n",
              "      <th></th>\n",
              "      <th>text</th>\n",
              "      <th>label</th>\n",
              "    </tr>\n",
              "  </thead>\n",
              "  <tbody>\n",
              "    <tr>\n",
              "      <th>0</th>\n",
              "      <td>I always wrote this series off as being a comp...</td>\n",
              "      <td>0</td>\n",
              "    </tr>\n",
              "    <tr>\n",
              "      <th>1</th>\n",
              "      <td>1st watched 12/7/2002 - 3 out of 10(Dir-Steve ...</td>\n",
              "      <td>0</td>\n",
              "    </tr>\n",
              "    <tr>\n",
              "      <th>2</th>\n",
              "      <td>This movie was so poorly written and directed ...</td>\n",
              "      <td>0</td>\n",
              "    </tr>\n",
              "    <tr>\n",
              "      <th>3</th>\n",
              "      <td>The most interesting thing about Miryang (Secr...</td>\n",
              "      <td>1</td>\n",
              "    </tr>\n",
              "    <tr>\n",
              "      <th>4</th>\n",
              "      <td>when i first read about \"berlin am meer\" i did...</td>\n",
              "      <td>0</td>\n",
              "    </tr>\n",
              "  </tbody>\n",
              "</table>\n",
              "</div>"
            ],
            "text/plain": [
              "                                                text  label\n",
              "0  I always wrote this series off as being a comp...      0\n",
              "1  1st watched 12/7/2002 - 3 out of 10(Dir-Steve ...      0\n",
              "2  This movie was so poorly written and directed ...      0\n",
              "3  The most interesting thing about Miryang (Secr...      1\n",
              "4  when i first read about \"berlin am meer\" i did...      0"
            ]
          },
          "metadata": {
            "tags": []
          },
          "execution_count": 5
        }
      ]
    },
    {
      "cell_type": "code",
      "metadata": {
        "id": "ybxdiKXs8EDF",
        "colab_type": "code",
        "colab": {
          "base_uri": "https://localhost:8080/",
          "height": 67
        },
        "outputId": "35f74b54-c824-4bc8-b565-f80a51a41b4e"
      },
      "source": [
        "df_train['label'].value_counts()"
      ],
      "execution_count": 6,
      "outputs": [
        {
          "output_type": "execute_result",
          "data": {
            "text/plain": [
              "0    20019\n",
              "1    19981\n",
              "Name: label, dtype: int64"
            ]
          },
          "metadata": {
            "tags": []
          },
          "execution_count": 6
        }
      ]
    },
    {
      "cell_type": "markdown",
      "metadata": {
        "id": "SrvZUiFSfCOI",
        "colab_type": "text"
      },
      "source": [
        "## Preprocessing"
      ]
    },
    {
      "cell_type": "code",
      "metadata": {
        "id": "AyqgvNhk8EFg",
        "colab_type": "code",
        "colab": {}
      },
      "source": [
        "# Cleaning/Preprocessing Helper function \n",
        "\n",
        "def preprocess(s):\n",
        "  s = re.sub(r'@[a-zA-Z0-9_.]+ ', '', str(s))\n",
        "  s = re.sub(r'#[a-zA-Z0-9_.]+ ', '', str(s))\n",
        "  s = re.sub(r'''[^a-zA-Z0-9?. ]+''', '', s)\n",
        "  s = re.sub(r''''[' ']+''', \" \", s)\n",
        "  s = re.sub(r'(\\w)\\1{2,}',r'\\1',s)\n",
        "  s = s.lower().strip()\n",
        "  return s"
      ],
      "execution_count": 7,
      "outputs": []
    },
    {
      "cell_type": "code",
      "metadata": {
        "id": "nFHadewH8EH0",
        "colab_type": "code",
        "colab": {}
      },
      "source": [
        "df_train['text'] = df_train['text'].apply(preprocess)\n",
        "df_val['text'] = df_val['text'].apply(preprocess)\n",
        "df_test['text'] = df_test['text'].apply(preprocess)"
      ],
      "execution_count": 8,
      "outputs": []
    },
    {
      "cell_type": "code",
      "metadata": {
        "id": "nsIVOk6w8Xcb",
        "colab_type": "code",
        "colab": {}
      },
      "source": [
        "def get_data(df):\n",
        "  zeros, ones = df[df['label']==0], df[df['label']==1]\n",
        "  zero_text, zero_labels = zeros['text'].to_numpy(), zeros['label'].to_numpy() \n",
        "  one_text, one_labels = ones['text'].to_numpy(), ones['label'].to_numpy()  \n",
        "  X, Y = np.concatenate((one_text,zero_text)), np.concatenate((one_labels,zero_labels))\n",
        "  return X,Y"
      ],
      "execution_count": 9,
      "outputs": []
    },
    {
      "cell_type": "code",
      "metadata": {
        "id": "eix08E8V8vKS",
        "colab_type": "code",
        "colab": {}
      },
      "source": [
        "X_train,Y_train = get_data(df_train)\n",
        "X_val,Y_val = get_data(df_val)\n",
        "X_test,Y_test = get_data(df_test)"
      ],
      "execution_count": 10,
      "outputs": []
    },
    {
      "cell_type": "code",
      "metadata": {
        "id": "fprHzsTEDos1",
        "colab_type": "code",
        "colab": {
          "base_uri": "https://localhost:8080/",
          "height": 34
        },
        "outputId": "bd92fcd1-62b4-404f-dc4a-834521c53201"
      },
      "source": [
        "X_train.shape,X_val.shape,X_test.shape"
      ],
      "execution_count": 11,
      "outputs": [
        {
          "output_type": "execute_result",
          "data": {
            "text/plain": [
              "((40000,), (5000,), (5000,))"
            ]
          },
          "metadata": {
            "tags": []
          },
          "execution_count": 11
        }
      ]
    },
    {
      "cell_type": "markdown",
      "metadata": {
        "id": "d1GLyHCgfGZT",
        "colab_type": "text"
      },
      "source": [
        "## Creating the Model"
      ]
    },
    {
      "cell_type": "code",
      "metadata": {
        "id": "3m0_RiQX8EQc",
        "colab_type": "code",
        "colab": {}
      },
      "source": [
        "# Instantiating the Tokenizer and creating sequences\n",
        "tokenizer = tf.keras.preprocessing.text.Tokenizer(3000,oov_token=1)\n",
        "tokenizer.fit_on_texts(X_train)\n",
        "train_seq = tokenizer.texts_to_sequences(X_train)\n",
        "val_seq = tokenizer.texts_to_sequences(X_val)\n",
        "test_seq = tokenizer.texts_to_sequences(X_test)"
      ],
      "execution_count": 12,
      "outputs": []
    },
    {
      "cell_type": "code",
      "metadata": {
        "id": "M8JELslv86H8",
        "colab_type": "code",
        "colab": {}
      },
      "source": [
        "# Padding all sequences\n",
        "train_seq = tf.keras.preprocessing.sequence.pad_sequences(train_seq,maxlen=50,padding='post')\n",
        "val_seq = tf.keras.preprocessing.sequence.pad_sequences(val_seq,maxlen=50,padding='post')\n",
        "test_seq = tf.keras.preprocessing.sequence.pad_sequences(test_seq,maxlen=50,padding='post')"
      ],
      "execution_count": 13,
      "outputs": []
    },
    {
      "cell_type": "markdown",
      "metadata": {
        "id": "bkALbP7xfHuZ",
        "colab_type": "text"
      },
      "source": [
        "## Creating the Model"
      ]
    },
    {
      "cell_type": "code",
      "metadata": {
        "id": "6qsEZClV86KL",
        "colab_type": "code",
        "colab": {}
      },
      "source": [
        "from tensorflow.keras.layers import Embedding,Dense,LSTM,Flatten,Dropout\n",
        "def create_model():\n",
        "  model = tf.keras.models.Sequential()\n",
        "  model.add(Embedding(3000,64))\n",
        "  model.add(LSTM(32))\n",
        "  model.add(Flatten())\n",
        "  model.add(Dense(64,activation='relu'))\n",
        "  model.add(Dropout(0.3))\n",
        "  model.add(Dense(32,activation='relu'))\n",
        "  model.add(Dropout(0.3))\n",
        "  model.add(Dense(4,activation='relu'))\n",
        "  model.add(Dense(1,activation='sigmoid'))\n",
        "  model.summary()\n",
        "  model.compile(optimizer=tf.keras.optimizers.Adam(0.0001),loss=tf.keras.losses.BinaryCrossentropy(),metrics=['accuracy'])\n",
        "  return model"
      ],
      "execution_count": 14,
      "outputs": []
    },
    {
      "cell_type": "markdown",
      "metadata": {
        "id": "AoXRVjRQfOox",
        "colab_type": "text"
      },
      "source": [
        "## Full Model Training"
      ]
    },
    {
      "cell_type": "code",
      "metadata": {
        "id": "vkOmfwOl86Mg",
        "colab_type": "code",
        "colab": {}
      },
      "source": [
        "# HELPER FUNCTION\n",
        "\n",
        "def plot(history):\n",
        "  plt.plot(history.history['loss'])\n",
        "  plt.plot(history.history['val_loss'])\n",
        "  plt.legend(['train_loss','val_loss'])\n",
        "  plt.xlabel('Epochs')\n",
        "  plt.ylabel('Loss')\n",
        "  plt.show()\n",
        "\n",
        "  plt.plot(history.history['accuracy'])\n",
        "  plt.plot(history.history['val_accuracy'])\n",
        "  plt.legend(['train_accuracy','val_accuracy'])\n",
        "  plt.xlabel('Epochs')\n",
        "  plt.ylabel('Accuracy')\n",
        "  plt.show()"
      ],
      "execution_count": 15,
      "outputs": []
    },
    {
      "cell_type": "code",
      "metadata": {
        "id": "42p7IDWb86QE",
        "colab_type": "code",
        "colab": {}
      },
      "source": [
        "def train_full_model(train_seq,Y_train,val_seq,Y_val,test_seq,Y_test):\n",
        "  model = create_model()\n",
        "  history = model.fit(train_seq,Y_train,256,15,validation_data=(val_seq,Y_val),callbacks=[tf.keras.callbacks.ModelCheckpoint('FullModelCheckpoint.h5',save_best_only=True,verbose=1),tf.keras.callbacks.EarlyStopping(patience=6,verbose=1)])\n",
        "  plot(history)\n",
        "  model = tf.keras.models.load_model('FullModelCheckpoint.h5')\n",
        "  print(model.evaluate(test_seq,Y_test))\n",
        "  return model"
      ],
      "execution_count": 16,
      "outputs": []
    },
    {
      "cell_type": "markdown",
      "metadata": {
        "id": "hgNsFnBMfWTN",
        "colab_type": "text"
      },
      "source": [
        "## Active Learning"
      ]
    },
    {
      "cell_type": "code",
      "metadata": {
        "id": "KVilRMYA86Op",
        "colab_type": "code",
        "colab": {}
      },
      "source": [
        "# HELPER FUNCTIONS\n",
        "\n",
        "def append_history(losses,val_losses,acc,val_acc,history):\n",
        "  losses = losses + history.history['loss']\n",
        "  val_losses = val_losses + history.history['val_loss']\n",
        "  acc = acc + history.history['accuracy']\n",
        "  val_acc = val_acc + history.history['val_accuracy']\n",
        "  return losses,val_losses,acc,val_acc\n",
        "\n",
        "def plot_merged_metrics(losses,val_losses,accuracies,val_accuracies):\n",
        "  plt.plot(losses)\n",
        "  plt.plot(val_losses)\n",
        "  plt.legend(['train_loss','val_loss'])\n",
        "  plt.xlabel('Epochs')\n",
        "  plt.ylabel('Loss')\n",
        "  plt.show()\n",
        "\n",
        "  plt.plot(accuracies)\n",
        "  plt.plot(val_accuracies)\n",
        "  plt.legend(['train_accuracy','val_accuracy'])\n",
        "  plt.xlabel('Epochs')\n",
        "  plt.ylabel('Accuracy')\n",
        "  plt.show()"
      ],
      "execution_count": 17,
      "outputs": []
    },
    {
      "cell_type": "code",
      "metadata": {
        "id": "zRpzRhA88ESg",
        "colab_type": "code",
        "colab": {}
      },
      "source": [
        "import collections\n",
        "\n",
        "def train_small_models(train_features,train_labels,pool_features,pool_labels,val_seq,Y_val,test_seq,Y_test,iters=3,sampling_size=5000):\n",
        "\n",
        "  losses, val_losses, accuracies, val_accuracies = [], [], [], []\n",
        "\n",
        "  model = create_model()\n",
        "  checkpoint = tf.keras.callbacks.ModelCheckpoint('Checkpoint.h5',save_best_only=True,verbose=1)\n",
        "\n",
        "  print(f\"Starting to train with {train_features.shape[0]} samples\")\n",
        "\n",
        "  history = model.fit(train_features,train_labels,256,15,validation_data=(val_seq,Y_val),callbacks=[checkpoint,tf.keras.callbacks.EarlyStopping(patience=6,verbose=1)])\n",
        "  losses, val_losses, accuracies, val_accuracies = append_history(losses,val_losses,accuracies,val_accuracies,history) \n",
        "  model = tf.keras.models.load_model('Checkpoint.h5')\n",
        "\n",
        "  for iter_n in range(iters):\n",
        "\n",
        "    # Getting predictions from previously trained model\n",
        "    predictions = model.predict(test_seq)\n",
        "    rounded = np.where(predictions>0.5,1,0)\n",
        "\n",
        "    # Count number of ones and zeros incorrectly classified\n",
        "    counter = collections.Counter(Y_test[rounded.squeeze()!=Y_test.squeeze()])\n",
        "\n",
        "    # Find ratio of ones to zeros. If all samples are correctly classified (Major overfitting) then we set the ratio to 0.5\n",
        "    if counter[0]!=0 and counter[1]!=0:\n",
        "      total = counter[0]+counter[1]\n",
        "      sample_ratio = counter[0]/total if counter[0]>counter[1] else counter[1]/total\n",
        "    else:\n",
        "      sample_ratio = 0.5\n",
        "\n",
        "    sample = np.concatenate((np.random.choice(np.where(pool_labels==0)[0],int(sample_ratio*sampling_size), replace=False),\n",
        "                             np.random.choice(np.where(pool_labels==1)[0],int(sampling_size*(1-sample_ratio)), replace=False)))\n",
        "    np.random.shuffle(sample)\n",
        "\n",
        "    # Get new values from pool\n",
        "    update_f = pool_features[sample]\n",
        "    update_l = pool_labels[sample]\n",
        "\n",
        "    # Remove the chosen samples from pool\n",
        "    pool_features = np.delete(pool_features,sample,axis=0)\n",
        "    pool_labels = np.delete(pool_labels,sample)\n",
        "\n",
        "    # Add the sampled entries to the original data\n",
        "    train_features = np.vstack((train_features,update_f))\n",
        "    train_labels = np.hstack((train_labels,update_l))\n",
        "    \n",
        "    print(f\"Starting training with {train_features.shape[0]} samples\")\n",
        "\n",
        "    # Retrain the model with inconfident and incorrect predictions only\n",
        "    history = model.fit(train_features,train_labels,validation_data=(val_seq,Y_val),epochs=15,batch_size=256,callbacks=[checkpoint,tf.keras.callbacks.EarlyStopping(patience=6,verbose=1)])\n",
        "    \n",
        "    losses, val_losses, accuracies, val_accuracies = append_history(losses,val_losses,accuracies,val_accuracies,history) \n",
        "\n",
        "    model = tf.keras.models.load_model('Checkpoint.h5')\n",
        "    print(model.evaluate(test_seq,Y_test))\n",
        "\n",
        "  plot_merged_metrics(losses,val_losses,accuracies,val_accuracies)\n",
        "  \n",
        "  return model  "
      ],
      "execution_count": 18,
      "outputs": []
    },
    {
      "cell_type": "markdown",
      "metadata": {
        "id": "eceF6yOVfl7O",
        "colab_type": "text"
      },
      "source": [
        "## Ensembling"
      ]
    },
    {
      "cell_type": "code",
      "metadata": {
        "id": "TzPYhzJ28EUs",
        "colab_type": "code",
        "colab": {
          "base_uri": "https://localhost:8080/",
          "height": 1000
        },
        "outputId": "1feb4f04-dc60-4c5d-a443-ab1afbfc798b"
      },
      "source": [
        "# Training 3 models for ensembling\n",
        "model1 = train_full_model(train_seq,Y_train,val_seq,Y_val,test_seq,Y_test)\n",
        "model2 = train_full_model(train_seq,Y_train,val_seq,Y_val,test_seq,Y_test)\n",
        "model3 = train_full_model(train_seq,Y_train,val_seq,Y_val,test_seq,Y_test)"
      ],
      "execution_count": 19,
      "outputs": [
        {
          "output_type": "stream",
          "text": [
            "Model: \"sequential\"\n",
            "_________________________________________________________________\n",
            "Layer (type)                 Output Shape              Param #   \n",
            "=================================================================\n",
            "embedding (Embedding)        (None, None, 64)          192000    \n",
            "_________________________________________________________________\n",
            "lstm (LSTM)                  (None, 32)                12416     \n",
            "_________________________________________________________________\n",
            "flatten (Flatten)            (None, 32)                0         \n",
            "_________________________________________________________________\n",
            "dense (Dense)                (None, 64)                2112      \n",
            "_________________________________________________________________\n",
            "dropout (Dropout)            (None, 64)                0         \n",
            "_________________________________________________________________\n",
            "dense_1 (Dense)              (None, 32)                2080      \n",
            "_________________________________________________________________\n",
            "dropout_1 (Dropout)          (None, 32)                0         \n",
            "_________________________________________________________________\n",
            "dense_2 (Dense)              (None, 4)                 132       \n",
            "_________________________________________________________________\n",
            "dense_3 (Dense)              (None, 1)                 5         \n",
            "=================================================================\n",
            "Total params: 208,745\n",
            "Trainable params: 208,745\n",
            "Non-trainable params: 0\n",
            "_________________________________________________________________\n",
            "Epoch 1/15\n",
            "153/157 [============================>.] - ETA: 0s - loss: 0.6920 - accuracy: 0.5056\n",
            "Epoch 00001: val_loss improved from inf to 0.68801, saving model to FullModelCheckpoint.h5\n",
            "157/157 [==============================] - 2s 15ms/step - loss: 0.6919 - accuracy: 0.5056 - val_loss: 0.6880 - val_accuracy: 0.5442\n",
            "Epoch 2/15\n",
            "157/157 [==============================] - ETA: 0s - loss: 0.6377 - accuracy: 0.6386\n",
            "Epoch 00002: val_loss improved from 0.68801 to 0.58274, saving model to FullModelCheckpoint.h5\n",
            "157/157 [==============================] - 2s 12ms/step - loss: 0.6377 - accuracy: 0.6386 - val_loss: 0.5827 - val_accuracy: 0.7816\n",
            "Epoch 3/15\n",
            "155/157 [============================>.] - ETA: 0s - loss: 0.5583 - accuracy: 0.7894\n",
            "Epoch 00003: val_loss improved from 0.58274 to 0.54973, saving model to FullModelCheckpoint.h5\n",
            "157/157 [==============================] - 2s 12ms/step - loss: 0.5581 - accuracy: 0.7897 - val_loss: 0.5497 - val_accuracy: 0.7924\n",
            "Epoch 4/15\n",
            "154/157 [============================>.] - ETA: 0s - loss: 0.5333 - accuracy: 0.8146\n",
            "Epoch 00004: val_loss improved from 0.54973 to 0.53856, saving model to FullModelCheckpoint.h5\n",
            "157/157 [==============================] - 2s 12ms/step - loss: 0.5331 - accuracy: 0.8150 - val_loss: 0.5386 - val_accuracy: 0.8040\n",
            "Epoch 5/15\n",
            "153/157 [============================>.] - ETA: 0s - loss: 0.5168 - accuracy: 0.8259\n",
            "Epoch 00005: val_loss improved from 0.53856 to 0.53520, saving model to FullModelCheckpoint.h5\n",
            "157/157 [==============================] - 2s 12ms/step - loss: 0.5162 - accuracy: 0.8262 - val_loss: 0.5352 - val_accuracy: 0.8090\n",
            "Epoch 6/15\n",
            "157/157 [==============================] - ETA: 0s - loss: 0.5067 - accuracy: 0.8321\n",
            "Epoch 00006: val_loss improved from 0.53520 to 0.53105, saving model to FullModelCheckpoint.h5\n",
            "157/157 [==============================] - 2s 12ms/step - loss: 0.5067 - accuracy: 0.8321 - val_loss: 0.5311 - val_accuracy: 0.8066\n",
            "Epoch 7/15\n",
            "154/157 [============================>.] - ETA: 0s - loss: 0.4988 - accuracy: 0.8373\n",
            "Epoch 00007: val_loss improved from 0.53105 to 0.52673, saving model to FullModelCheckpoint.h5\n",
            "157/157 [==============================] - 2s 12ms/step - loss: 0.4988 - accuracy: 0.8373 - val_loss: 0.5267 - val_accuracy: 0.8098\n",
            "Epoch 8/15\n",
            "157/157 [==============================] - ETA: 0s - loss: 0.4915 - accuracy: 0.8412\n",
            "Epoch 00008: val_loss did not improve from 0.52673\n",
            "157/157 [==============================] - 2s 12ms/step - loss: 0.4915 - accuracy: 0.8412 - val_loss: 0.5288 - val_accuracy: 0.8112\n",
            "Epoch 9/15\n",
            "157/157 [==============================] - ETA: 0s - loss: 0.4856 - accuracy: 0.8432\n",
            "Epoch 00009: val_loss did not improve from 0.52673\n",
            "157/157 [==============================] - 2s 12ms/step - loss: 0.4856 - accuracy: 0.8432 - val_loss: 0.5297 - val_accuracy: 0.8046\n",
            "Epoch 10/15\n",
            "156/157 [============================>.] - ETA: 0s - loss: 0.4809 - accuracy: 0.8459\n",
            "Epoch 00010: val_loss did not improve from 0.52673\n",
            "157/157 [==============================] - 2s 12ms/step - loss: 0.4809 - accuracy: 0.8459 - val_loss: 0.5343 - val_accuracy: 0.8054\n",
            "Epoch 11/15\n",
            "153/157 [============================>.] - ETA: 0s - loss: 0.4745 - accuracy: 0.8487\n",
            "Epoch 00011: val_loss did not improve from 0.52673\n",
            "157/157 [==============================] - 2s 12ms/step - loss: 0.4748 - accuracy: 0.8485 - val_loss: 0.5281 - val_accuracy: 0.8066\n",
            "Epoch 12/15\n",
            "153/157 [============================>.] - ETA: 0s - loss: 0.4712 - accuracy: 0.8491\n",
            "Epoch 00012: val_loss did not improve from 0.52673\n",
            "157/157 [==============================] - 2s 12ms/step - loss: 0.4712 - accuracy: 0.8492 - val_loss: 0.5276 - val_accuracy: 0.8054\n",
            "Epoch 13/15\n",
            "155/157 [============================>.] - ETA: 0s - loss: 0.4664 - accuracy: 0.8513\n",
            "Epoch 00013: val_loss did not improve from 0.52673\n",
            "157/157 [==============================] - 2s 12ms/step - loss: 0.4662 - accuracy: 0.8514 - val_loss: 0.5363 - val_accuracy: 0.8032\n",
            "Epoch 00013: early stopping\n"
          ],
          "name": "stdout"
        },
        {
          "output_type": "display_data",
          "data": {
            "image/png": "[encoded data removed]",
            "text/plain": [
              "<Figure size 432x288 with 1 Axes>"
            ]
          },
          "metadata": {
            "tags": [],
            "needs_background": "light"
          }
        },
        {
          "output_type": "display_data",
          "data": {
            "image/png": "[encoded data removed]",
            "text/plain": [
              "<Figure size 432x288 with 1 Axes>"
            ]
          },
          "metadata": {
            "tags": [],
            "needs_background": "light"
          }
        },
        {
          "output_type": "stream",
          "text": [
            "157/157 [==============================] - 1s 3ms/step - loss: 0.5324 - accuracy: 0.8088\n",
            "[0.5324370265007019, 0.8087999820709229]\n",
            "Model: \"sequential_1\"\n",
            "_________________________________________________________________\n",
            "Layer (type)                 Output Shape              Param #   \n",
            "=================================================================\n",
            "embedding_1 (Embedding)      (None, None, 64)          192000    \n",
            "_________________________________________________________________\n",
            "lstm_1 (LSTM)                (None, 32)                12416     \n",
            "_________________________________________________________________\n",
            "flatten_1 (Flatten)          (None, 32)                0         \n",
            "_________________________________________________________________\n",
            "dense_4 (Dense)              (None, 64)                2112      \n",
            "_________________________________________________________________\n",
            "dropout_2 (Dropout)          (None, 64)                0         \n",
            "_________________________________________________________________\n",
            "dense_5 (Dense)              (None, 32)                2080      \n",
            "_________________________________________________________________\n",
            "dropout_3 (Dropout)          (None, 32)                0         \n",
            "_________________________________________________________________\n",
            "dense_6 (Dense)              (None, 4)                 132       \n",
            "_________________________________________________________________\n",
            "dense_7 (Dense)              (None, 1)                 5         \n",
            "=================================================================\n",
            "Total params: 208,745\n",
            "Trainable params: 208,745\n",
            "Non-trainable params: 0\n",
            "_________________________________________________________________\n",
            "Epoch 1/15\n",
            "156/157 [============================>.] - ETA: 0s - loss: 0.6926 - accuracy: 0.5265\n",
            "Epoch 00001: val_loss improved from inf to 0.68964, saving model to FullModelCheckpoint.h5\n",
            "157/157 [==============================] - 2s 15ms/step - loss: 0.6925 - accuracy: 0.5265 - val_loss: 0.6896 - val_accuracy: 0.6276\n",
            "Epoch 2/15\n",
            "155/157 [============================>.] - ETA: 0s - loss: 0.6431 - accuracy: 0.6866\n",
            "Epoch 00002: val_loss improved from 0.68964 to 0.52717, saving model to FullModelCheckpoint.h5\n",
            "157/157 [==============================] - 2s 12ms/step - loss: 0.6422 - accuracy: 0.6872 - val_loss: 0.5272 - val_accuracy: 0.7542\n",
            "Epoch 3/15\n",
            "153/157 [============================>.] - ETA: 0s - loss: 0.4753 - accuracy: 0.7888\n",
            "Epoch 00003: val_loss improved from 0.52717 to 0.43063, saving model to FullModelCheckpoint.h5\n",
            "157/157 [==============================] - 2s 12ms/step - loss: 0.4747 - accuracy: 0.7890 - val_loss: 0.4306 - val_accuracy: 0.8066\n",
            "Epoch 4/15\n",
            "156/157 [============================>.] - ETA: 0s - loss: 0.4130 - accuracy: 0.8214\n",
            "Epoch 00004: val_loss improved from 0.43063 to 0.40582, saving model to FullModelCheckpoint.h5\n",
            "157/157 [==============================] - 2s 13ms/step - loss: 0.4130 - accuracy: 0.8213 - val_loss: 0.4058 - val_accuracy: 0.8204\n",
            "Epoch 5/15\n",
            "153/157 [============================>.] - ETA: 0s - loss: 0.3874 - accuracy: 0.8354\n",
            "Epoch 00005: val_loss improved from 0.40582 to 0.40286, saving model to FullModelCheckpoint.h5\n",
            "157/157 [==============================] - 2s 13ms/step - loss: 0.3877 - accuracy: 0.8353 - val_loss: 0.4029 - val_accuracy: 0.8176\n",
            "Epoch 6/15\n",
            "157/157 [==============================] - ETA: 0s - loss: 0.3735 - accuracy: 0.8444\n",
            "Epoch 00006: val_loss improved from 0.40286 to 0.39978, saving model to FullModelCheckpoint.h5\n",
            "157/157 [==============================] - 2s 13ms/step - loss: 0.3735 - accuracy: 0.8444 - val_loss: 0.3998 - val_accuracy: 0.8206\n",
            "Epoch 7/15\n",
            "156/157 [============================>.] - ETA: 0s - loss: 0.3654 - accuracy: 0.8487\n",
            "Epoch 00007: val_loss did not improve from 0.39978\n",
            "157/157 [==============================] - 2s 12ms/step - loss: 0.3654 - accuracy: 0.8487 - val_loss: 0.4008 - val_accuracy: 0.8230\n",
            "Epoch 8/15\n",
            "154/157 [============================>.] - ETA: 0s - loss: 0.3570 - accuracy: 0.8532\n",
            "Epoch 00008: val_loss did not improve from 0.39978\n",
            "157/157 [==============================] - 2s 12ms/step - loss: 0.3577 - accuracy: 0.8529 - val_loss: 0.4020 - val_accuracy: 0.8216\n",
            "Epoch 9/15\n",
            "157/157 [==============================] - ETA: 0s - loss: 0.3529 - accuracy: 0.8566\n",
            "Epoch 00009: val_loss did not improve from 0.39978\n",
            "157/157 [==============================] - 2s 12ms/step - loss: 0.3529 - accuracy: 0.8566 - val_loss: 0.4019 - val_accuracy: 0.8216\n",
            "Epoch 10/15\n",
            "157/157 [==============================] - ETA: 0s - loss: 0.3490 - accuracy: 0.8600\n",
            "Epoch 00010: val_loss did not improve from 0.39978\n",
            "157/157 [==============================] - 2s 12ms/step - loss: 0.3490 - accuracy: 0.8600 - val_loss: 0.4041 - val_accuracy: 0.8192\n",
            "Epoch 11/15\n",
            "157/157 [==============================] - ETA: 0s - loss: 0.3446 - accuracy: 0.8622\n",
            "Epoch 00011: val_loss did not improve from 0.39978\n",
            "157/157 [==============================] - 2s 12ms/step - loss: 0.3446 - accuracy: 0.8622 - val_loss: 0.4034 - val_accuracy: 0.8200\n",
            "Epoch 12/15\n",
            "152/157 [============================>.] - ETA: 0s - loss: 0.3407 - accuracy: 0.8661\n",
            "Epoch 00012: val_loss did not improve from 0.39978\n",
            "157/157 [==============================] - 2s 11ms/step - loss: 0.3412 - accuracy: 0.8661 - val_loss: 0.4027 - val_accuracy: 0.8210\n",
            "Epoch 00012: early stopping\n"
          ],
          "name": "stdout"
        },
        {
          "output_type": "display_data",
          "data": {
            "image/png": "[encoded data removed]",
            "text/plain": [
              "<Figure size 432x288 with 1 Axes>"
            ]
          },
          "metadata": {
            "tags": [],
            "needs_background": "light"
          }
        },
        {
          "output_type": "display_data",
          "data": {
            "image/png": "[encoded data removed]",
            "text/plain": [
              "<Figure size 432x288 with 1 Axes>"
            ]
          },
          "metadata": {
            "tags": [],
            "needs_background": "light"
          }
        },
        {
          "output_type": "stream",
          "text": [
            "157/157 [==============================] - 1s 3ms/step - loss: 0.4020 - accuracy: 0.8202\n",
            "[0.4020368158817291, 0.8202000260353088]\n",
            "Model: \"sequential_2\"\n",
            "_________________________________________________________________\n",
            "Layer (type)                 Output Shape              Param #   \n",
            "=================================================================\n",
            "embedding_2 (Embedding)      (None, None, 64)          192000    \n",
            "_________________________________________________________________\n",
            "lstm_2 (LSTM)                (None, 32)                12416     \n",
            "_________________________________________________________________\n",
            "flatten_2 (Flatten)          (None, 32)                0         \n",
            "_________________________________________________________________\n",
            "dense_8 (Dense)              (None, 64)                2112      \n",
            "_________________________________________________________________\n",
            "dropout_4 (Dropout)          (None, 64)                0         \n",
            "_________________________________________________________________\n",
            "dense_9 (Dense)              (None, 32)                2080      \n",
            "_________________________________________________________________\n",
            "dropout_5 (Dropout)          (None, 32)                0         \n",
            "_________________________________________________________________\n",
            "dense_10 (Dense)             (None, 4)                 132       \n",
            "_________________________________________________________________\n",
            "dense_11 (Dense)             (None, 1)                 5         \n",
            "=================================================================\n",
            "Total params: 208,745\n",
            "Trainable params: 208,745\n",
            "Non-trainable params: 0\n",
            "_________________________________________________________________\n",
            "Epoch 1/15\n",
            "154/157 [============================>.] - ETA: 0s - loss: 0.6930 - accuracy: 0.5070\n",
            "Epoch 00001: val_loss improved from inf to 0.69225, saving model to FullModelCheckpoint.h5\n",
            "157/157 [==============================] - 2s 14ms/step - loss: 0.6930 - accuracy: 0.5069 - val_loss: 0.6922 - val_accuracy: 0.5242\n",
            "Epoch 2/15\n",
            "154/157 [============================>.] - ETA: 0s - loss: 0.6707 - accuracy: 0.5959\n",
            "Epoch 00002: val_loss improved from 0.69225 to 0.61037, saving model to FullModelCheckpoint.h5\n",
            "157/157 [==============================] - 2s 12ms/step - loss: 0.6698 - accuracy: 0.5977 - val_loss: 0.6104 - val_accuracy: 0.7208\n",
            "Epoch 3/15\n",
            "157/157 [==============================] - ETA: 0s - loss: 0.5876 - accuracy: 0.7670\n",
            "Epoch 00003: val_loss improved from 0.61037 to 0.57129, saving model to FullModelCheckpoint.h5\n",
            "157/157 [==============================] - 2s 12ms/step - loss: 0.5876 - accuracy: 0.7670 - val_loss: 0.5713 - val_accuracy: 0.7726\n",
            "Epoch 4/15\n",
            "156/157 [============================>.] - ETA: 0s - loss: 0.5540 - accuracy: 0.8006\n",
            "Epoch 00004: val_loss improved from 0.57129 to 0.55385, saving model to FullModelCheckpoint.h5\n",
            "157/157 [==============================] - 2s 12ms/step - loss: 0.5539 - accuracy: 0.8008 - val_loss: 0.5539 - val_accuracy: 0.7944\n",
            "Epoch 5/15\n",
            "154/157 [============================>.] - ETA: 0s - loss: 0.5349 - accuracy: 0.8168\n",
            "Epoch 00005: val_loss improved from 0.55385 to 0.54306, saving model to FullModelCheckpoint.h5\n",
            "157/157 [==============================] - 2s 12ms/step - loss: 0.5349 - accuracy: 0.8171 - val_loss: 0.5431 - val_accuracy: 0.8070\n",
            "Epoch 6/15\n",
            "156/157 [============================>.] - ETA: 0s - loss: 0.5221 - accuracy: 0.8273\n",
            "Epoch 00006: val_loss improved from 0.54306 to 0.53649, saving model to FullModelCheckpoint.h5\n",
            "157/157 [==============================] - 2s 12ms/step - loss: 0.5223 - accuracy: 0.8271 - val_loss: 0.5365 - val_accuracy: 0.8120\n",
            "Epoch 7/15\n",
            "153/157 [============================>.] - ETA: 0s - loss: 0.5110 - accuracy: 0.8339\n",
            "Epoch 00007: val_loss improved from 0.53649 to 0.53638, saving model to FullModelCheckpoint.h5\n",
            "157/157 [==============================] - 2s 12ms/step - loss: 0.5111 - accuracy: 0.8334 - val_loss: 0.5364 - val_accuracy: 0.8130\n",
            "Epoch 8/15\n",
            "153/157 [============================>.] - ETA: 0s - loss: 0.5032 - accuracy: 0.8376\n",
            "Epoch 00008: val_loss improved from 0.53638 to 0.53210, saving model to FullModelCheckpoint.h5\n",
            "157/157 [==============================] - 2s 12ms/step - loss: 0.5032 - accuracy: 0.8371 - val_loss: 0.5321 - val_accuracy: 0.8136\n",
            "Epoch 9/15\n",
            "156/157 [============================>.] - ETA: 0s - loss: 0.4950 - accuracy: 0.8399\n",
            "Epoch 00009: val_loss did not improve from 0.53210\n",
            "157/157 [==============================] - 2s 12ms/step - loss: 0.4951 - accuracy: 0.8399 - val_loss: 0.5336 - val_accuracy: 0.8148\n",
            "Epoch 10/15\n",
            "155/157 [============================>.] - ETA: 0s - loss: 0.4887 - accuracy: 0.8431\n",
            "Epoch 00010: val_loss did not improve from 0.53210\n",
            "157/157 [==============================] - 2s 12ms/step - loss: 0.4888 - accuracy: 0.8430 - val_loss: 0.5446 - val_accuracy: 0.8126\n",
            "Epoch 11/15\n",
            "154/157 [============================>.] - ETA: 0s - loss: 0.4839 - accuracy: 0.8446\n",
            "Epoch 00011: val_loss did not improve from 0.53210\n",
            "157/157 [==============================] - 2s 12ms/step - loss: 0.4839 - accuracy: 0.8443 - val_loss: 0.5389 - val_accuracy: 0.8116\n",
            "Epoch 12/15\n",
            "157/157 [==============================] - ETA: 0s - loss: 0.4771 - accuracy: 0.8466\n",
            "Epoch 00012: val_loss improved from 0.53210 to 0.52844, saving model to FullModelCheckpoint.h5\n",
            "157/157 [==============================] - 2s 12ms/step - loss: 0.4771 - accuracy: 0.8466 - val_loss: 0.5284 - val_accuracy: 0.8030\n",
            "Epoch 13/15\n",
            "157/157 [==============================] - ETA: 0s - loss: 0.4718 - accuracy: 0.8489\n",
            "Epoch 00013: val_loss did not improve from 0.52844\n",
            "157/157 [==============================] - 2s 12ms/step - loss: 0.4718 - accuracy: 0.8489 - val_loss: 0.5453 - val_accuracy: 0.8086\n",
            "Epoch 14/15\n",
            "157/157 [==============================] - ETA: 0s - loss: 0.4668 - accuracy: 0.8516\n",
            "Epoch 00014: val_loss did not improve from 0.52844\n",
            "157/157 [==============================] - 2s 12ms/step - loss: 0.4668 - accuracy: 0.8516 - val_loss: 0.5346 - val_accuracy: 0.8064\n",
            "Epoch 15/15\n",
            "156/157 [============================>.] - ETA: 0s - loss: 0.4610 - accuracy: 0.8532\n",
            "Epoch 00015: val_loss did not improve from 0.52844\n",
            "157/157 [==============================] - 2s 12ms/step - loss: 0.4611 - accuracy: 0.8532 - val_loss: 0.5391 - val_accuracy: 0.8048\n"
          ],
          "name": "stdout"
        },
        {
          "output_type": "display_data",
          "data": {
            "image/png": "[encoded data removed]",
            "text/plain": [
              "<Figure size 432x288 with 1 Axes>"
            ]
          },
          "metadata": {
            "tags": [],
            "needs_background": "light"
          }
        },
        {
          "output_type": "display_data",
          "data": {
            "image/png": "[encoded data removed]",
            "text/plain": [
              "<Figure size 432x288 with 1 Axes>"
            ]
          },
          "metadata": {
            "tags": [],
            "needs_background": "light"
          }
        },
        {
          "output_type": "stream",
          "text": [
            "157/157 [==============================] - 0s 3ms/step - loss: 0.5235 - accuracy: 0.8140\n",
            "[0.5234771370887756, 0.8140000104904175]\n"
          ],
          "name": "stdout"
        }
      ]
    },
    {
      "cell_type": "code",
      "metadata": {
        "id": "Tr8m61CV8EW8",
        "colab_type": "code",
        "colab": {
          "base_uri": "https://localhost:8080/",
          "height": 34
        },
        "outputId": "ac19c7da-05a2-436a-f2c6-b1fe71411768"
      },
      "source": [
        "# # Splitting Data into Oracle Set(Unlabelled set) and Original Training set \n",
        "import sklearn.model_selection\n",
        "train_features,pool_features,train_labels,pool_labels = sklearn.model_selection.train_test_split(train_seq,Y_train,test_size=0.60,stratify=Y_train)\n",
        "train_features.shape,pool_features.shape"
      ],
      "execution_count": 20,
      "outputs": [
        {
          "output_type": "execute_result",
          "data": {
            "text/plain": [
              "((16000, 50), (24000, 50))"
            ]
          },
          "metadata": {
            "tags": []
          },
          "execution_count": 20
        }
      ]
    },
    {
      "cell_type": "code",
      "metadata": {
        "id": "WHdlDXUZ9Jre",
        "colab_type": "code",
        "colab": {
          "base_uri": "https://localhost:8080/",
          "height": 1000
        },
        "outputId": "bbd06672-06e7-444d-ddc3-7afaba659183"
      },
      "source": [
        "# Training 3 Active Learning Models for Ensembling\n",
        "al_model1 = train_small_models(train_features,train_labels,pool_features,pool_labels,val_seq,Y_val,test_seq,Y_test)\n",
        "al_model2 = train_small_models(train_features,train_labels,pool_features,pool_labels,val_seq,Y_val,test_seq,Y_test)\n",
        "al_model3 = train_small_models(train_features,train_labels,pool_features,pool_labels,val_seq,Y_val,test_seq,Y_test)"
      ],
      "execution_count": 21,
      "outputs": [
        {
          "output_type": "stream",
          "text": [
            "Model: \"sequential_3\"\n",
            "_________________________________________________________________\n",
            "Layer (type)                 Output Shape              Param #   \n",
            "=================================================================\n",
            "embedding_3 (Embedding)      (None, None, 64)          192000    \n",
            "_________________________________________________________________\n",
            "lstm_3 (LSTM)                (None, 32)                12416     \n",
            "_________________________________________________________________\n",
            "flatten_3 (Flatten)          (None, 32)                0         \n",
            "_________________________________________________________________\n",
            "dense_12 (Dense)             (None, 64)                2112      \n",
            "_________________________________________________________________\n",
            "dropout_6 (Dropout)          (None, 64)                0         \n",
            "_________________________________________________________________\n",
            "dense_13 (Dense)             (None, 32)                2080      \n",
            "_________________________________________________________________\n",
            "dropout_7 (Dropout)          (None, 32)                0         \n",
            "_________________________________________________________________\n",
            "dense_14 (Dense)             (None, 4)                 132       \n",
            "_________________________________________________________________\n",
            "dense_15 (Dense)             (None, 1)                 5         \n",
            "=================================================================\n",
            "Total params: 208,745\n",
            "Trainable params: 208,745\n",
            "Non-trainable params: 0\n",
            "_________________________________________________________________\n",
            "Starting to train with 16000 samples\n",
            "Epoch 1/15\n",
            "61/63 [============================>.] - ETA: 0s - loss: 0.6930 - accuracy: 0.5104\n",
            "Epoch 00001: val_loss improved from inf to 0.69275, saving model to Checkpoint.h5\n",
            "63/63 [==============================] - 1s 19ms/step - loss: 0.6930 - accuracy: 0.5098 - val_loss: 0.6928 - val_accuracy: 0.5204\n",
            "Epoch 2/15\n",
            "61/63 [============================>.] - ETA: 0s - loss: 0.6921 - accuracy: 0.5382\n",
            "Epoch 00002: val_loss improved from 0.69275 to 0.69071, saving model to Checkpoint.h5\n",
            "63/63 [==============================] - 1s 13ms/step - loss: 0.6920 - accuracy: 0.5397 - val_loss: 0.6907 - val_accuracy: 0.6000\n",
            "Epoch 3/15\n",
            "60/63 [===========================>..] - ETA: 0s - loss: 0.6867 - accuracy: 0.6243\n",
            "Epoch 00003: val_loss improved from 0.69071 to 0.67847, saving model to Checkpoint.h5\n",
            "63/63 [==============================] - 1s 13ms/step - loss: 0.6866 - accuracy: 0.6251 - val_loss: 0.6785 - val_accuracy: 0.6846\n",
            "Epoch 4/15\n",
            "60/63 [===========================>..] - ETA: 0s - loss: 0.6474 - accuracy: 0.7195\n",
            "Epoch 00004: val_loss improved from 0.67847 to 0.57782, saving model to Checkpoint.h5\n",
            "63/63 [==============================] - 1s 13ms/step - loss: 0.6447 - accuracy: 0.7207 - val_loss: 0.5778 - val_accuracy: 0.7428\n",
            "Epoch 5/15\n",
            "63/63 [==============================] - ETA: 0s - loss: 0.5360 - accuracy: 0.7700\n",
            "Epoch 00005: val_loss improved from 0.57782 to 0.50563, saving model to Checkpoint.h5\n",
            "63/63 [==============================] - 1s 13ms/step - loss: 0.5360 - accuracy: 0.7700 - val_loss: 0.5056 - val_accuracy: 0.7730\n",
            "Epoch 6/15\n",
            "59/63 [===========================>..] - ETA: 0s - loss: 0.4613 - accuracy: 0.8095\n",
            "Epoch 00006: val_loss improved from 0.50563 to 0.46855, saving model to Checkpoint.h5\n",
            "63/63 [==============================] - 1s 13ms/step - loss: 0.4620 - accuracy: 0.8086 - val_loss: 0.4686 - val_accuracy: 0.7822\n",
            "Epoch 7/15\n",
            "60/63 [===========================>..] - ETA: 0s - loss: 0.4144 - accuracy: 0.8326\n",
            "Epoch 00007: val_loss improved from 0.46855 to 0.45005, saving model to Checkpoint.h5\n",
            "63/63 [==============================] - 1s 13ms/step - loss: 0.4139 - accuracy: 0.8329 - val_loss: 0.4501 - val_accuracy: 0.7952\n",
            "Epoch 8/15\n",
            "60/63 [===========================>..] - ETA: 0s - loss: 0.3858 - accuracy: 0.8491\n",
            "Epoch 00008: val_loss improved from 0.45005 to 0.44422, saving model to Checkpoint.h5\n",
            "63/63 [==============================] - 1s 13ms/step - loss: 0.3864 - accuracy: 0.8486 - val_loss: 0.4442 - val_accuracy: 0.7974\n",
            "Epoch 9/15\n",
            "59/63 [===========================>..] - ETA: 0s - loss: 0.3614 - accuracy: 0.8602\n",
            "Epoch 00009: val_loss improved from 0.44422 to 0.43879, saving model to Checkpoint.h5\n",
            "63/63 [==============================] - 1s 13ms/step - loss: 0.3634 - accuracy: 0.8594 - val_loss: 0.4388 - val_accuracy: 0.8018\n",
            "Epoch 10/15\n",
            "60/63 [===========================>..] - ETA: 0s - loss: 0.3498 - accuracy: 0.8672\n",
            "Epoch 00010: val_loss did not improve from 0.43879\n",
            "63/63 [==============================] - 1s 13ms/step - loss: 0.3507 - accuracy: 0.8665 - val_loss: 0.4399 - val_accuracy: 0.8056\n",
            "Epoch 11/15\n",
            "59/63 [===========================>..] - ETA: 0s - loss: 0.3335 - accuracy: 0.8757\n",
            "Epoch 00011: val_loss did not improve from 0.43879\n",
            "63/63 [==============================] - 1s 13ms/step - loss: 0.3357 - accuracy: 0.8744 - val_loss: 0.4526 - val_accuracy: 0.8010\n",
            "Epoch 12/15\n",
            "62/63 [============================>.] - ETA: 0s - loss: 0.3297 - accuracy: 0.8776\n",
            "Epoch 00012: val_loss did not improve from 0.43879\n",
            "63/63 [==============================] - 1s 13ms/step - loss: 0.3301 - accuracy: 0.8771 - val_loss: 0.4494 - val_accuracy: 0.8036\n",
            "Epoch 13/15\n",
            "60/63 [===========================>..] - ETA: 0s - loss: 0.3174 - accuracy: 0.8858\n",
            "Epoch 00013: val_loss did not improve from 0.43879\n",
            "63/63 [==============================] - 1s 13ms/step - loss: 0.3184 - accuracy: 0.8858 - val_loss: 0.4583 - val_accuracy: 0.8008\n",
            "Epoch 14/15\n",
            "60/63 [===========================>..] - ETA: 0s - loss: 0.3129 - accuracy: 0.8861\n",
            "Epoch 00014: val_loss did not improve from 0.43879\n",
            "63/63 [==============================] - 1s 13ms/step - loss: 0.3141 - accuracy: 0.8862 - val_loss: 0.4622 - val_accuracy: 0.8012\n",
            "Epoch 15/15\n",
            "59/63 [===========================>..] - ETA: 0s - loss: 0.3033 - accuracy: 0.8925\n",
            "Epoch 00015: val_loss did not improve from 0.43879\n",
            "63/63 [==============================] - 1s 13ms/step - loss: 0.3049 - accuracy: 0.8918 - val_loss: 0.4678 - val_accuracy: 0.7990\n",
            "Epoch 00015: early stopping\n",
            "Starting training with 20999 samples\n",
            "Epoch 1/15\n",
            "79/83 [===========================>..] - ETA: 0s - loss: 0.3721 - accuracy: 0.8523\n",
            "Epoch 00001: val_loss improved from 0.43879 to 0.43124, saving model to Checkpoint.h5\n",
            "83/83 [==============================] - 1s 17ms/step - loss: 0.3723 - accuracy: 0.8521 - val_loss: 0.4312 - val_accuracy: 0.8056\n",
            "Epoch 2/15\n",
            "79/83 [===========================>..] - ETA: 0s - loss: 0.3589 - accuracy: 0.8580\n",
            "Epoch 00002: val_loss did not improve from 0.43124\n",
            "83/83 [==============================] - 1s 12ms/step - loss: 0.3589 - accuracy: 0.8581 - val_loss: 0.4341 - val_accuracy: 0.8040\n",
            "Epoch 3/15\n",
            "83/83 [==============================] - ETA: 0s - loss: 0.3510 - accuracy: 0.8636\n",
            "Epoch 00003: val_loss did not improve from 0.43124\n",
            "83/83 [==============================] - 1s 12ms/step - loss: 0.3510 - accuracy: 0.8636 - val_loss: 0.4427 - val_accuracy: 0.8032\n",
            "Epoch 4/15\n",
            "79/83 [===========================>..] - ETA: 0s - loss: 0.3423 - accuracy: 0.8663\n",
            "Epoch 00004: val_loss did not improve from 0.43124\n",
            "83/83 [==============================] - 1s 12ms/step - loss: 0.3423 - accuracy: 0.8666 - val_loss: 0.4443 - val_accuracy: 0.8030\n",
            "Epoch 5/15\n",
            "79/83 [===========================>..] - ETA: 0s - loss: 0.3351 - accuracy: 0.8709\n",
            "Epoch 00005: val_loss did not improve from 0.43124\n",
            "83/83 [==============================] - 1s 12ms/step - loss: 0.3332 - accuracy: 0.8720 - val_loss: 0.4425 - val_accuracy: 0.8056\n",
            "Epoch 6/15\n",
            "83/83 [==============================] - ETA: 0s - loss: 0.3282 - accuracy: 0.8771\n",
            "Epoch 00006: val_loss did not improve from 0.43124\n",
            "83/83 [==============================] - 1s 12ms/step - loss: 0.3282 - accuracy: 0.8771 - val_loss: 0.4548 - val_accuracy: 0.8004\n",
            "Epoch 7/15\n",
            "83/83 [==============================] - ETA: 0s - loss: 0.3221 - accuracy: 0.8808\n",
            "Epoch 00007: val_loss did not improve from 0.43124\n",
            "83/83 [==============================] - 1s 12ms/step - loss: 0.3221 - accuracy: 0.8808 - val_loss: 0.4482 - val_accuracy: 0.8028\n",
            "Epoch 00007: early stopping\n",
            "157/157 [==============================] - 1s 3ms/step - loss: 0.4337 - accuracy: 0.8024\n",
            "[0.4336775839328766, 0.8023999929428101]\n",
            "Starting training with 25998 samples\n",
            "Epoch 1/15\n",
            " 99/102 [============================>.] - ETA: 0s - loss: 0.3765 - accuracy: 0.8472\n",
            "Epoch 00001: val_loss improved from 0.43124 to 0.42950, saving model to Checkpoint.h5\n",
            "102/102 [==============================] - 1s 12ms/step - loss: 0.3766 - accuracy: 0.8468 - val_loss: 0.4295 - val_accuracy: 0.8048\n",
            "Epoch 2/15\n",
            " 99/102 [============================>.] - ETA: 0s - loss: 0.3639 - accuracy: 0.8538\n",
            "Epoch 00002: val_loss improved from 0.42950 to 0.42561, saving model to Checkpoint.h5\n",
            "102/102 [==============================] - 1s 12ms/step - loss: 0.3640 - accuracy: 0.8533 - val_loss: 0.4256 - val_accuracy: 0.8090\n",
            "Epoch 3/15\n",
            "100/102 [============================>.] - ETA: 0s - loss: 0.3573 - accuracy: 0.8581\n",
            "Epoch 00003: val_loss did not improve from 0.42561\n",
            "102/102 [==============================] - 1s 12ms/step - loss: 0.3573 - accuracy: 0.8580 - val_loss: 0.4290 - val_accuracy: 0.8076\n",
            "Epoch 4/15\n",
            " 99/102 [============================>.] - ETA: 0s - loss: 0.3452 - accuracy: 0.8651\n",
            "Epoch 00004: val_loss did not improve from 0.42561\n",
            "102/102 [==============================] - 1s 12ms/step - loss: 0.3447 - accuracy: 0.8655 - val_loss: 0.4309 - val_accuracy: 0.8070\n",
            "Epoch 5/15\n",
            " 99/102 [============================>.] - ETA: 0s - loss: 0.3412 - accuracy: 0.8693\n",
            "Epoch 00005: val_loss did not improve from 0.42561\n",
            "102/102 [==============================] - 1s 12ms/step - loss: 0.3410 - accuracy: 0.8693 - val_loss: 0.4398 - val_accuracy: 0.8052\n",
            "Epoch 6/15\n",
            "100/102 [============================>.] - ETA: 0s - loss: 0.3370 - accuracy: 0.8723\n",
            "Epoch 00006: val_loss did not improve from 0.42561\n",
            "102/102 [==============================] - 1s 12ms/step - loss: 0.3373 - accuracy: 0.8721 - val_loss: 0.4327 - val_accuracy: 0.8096\n",
            "Epoch 7/15\n",
            "100/102 [============================>.] - ETA: 0s - loss: 0.3325 - accuracy: 0.8750\n",
            "Epoch 00007: val_loss did not improve from 0.42561\n",
            "102/102 [==============================] - 1s 12ms/step - loss: 0.3320 - accuracy: 0.8753 - val_loss: 0.4374 - val_accuracy: 0.8072\n",
            "Epoch 8/15\n",
            " 99/102 [============================>.] - ETA: 0s - loss: 0.3267 - accuracy: 0.8787\n",
            "Epoch 00008: val_loss did not improve from 0.42561\n",
            "102/102 [==============================] - 1s 12ms/step - loss: 0.3272 - accuracy: 0.8781 - val_loss: 0.4414 - val_accuracy: 0.8056\n",
            "Epoch 00008: early stopping\n",
            "157/157 [==============================] - 0s 3ms/step - loss: 0.4233 - accuracy: 0.8068\n",
            "[0.4232608377933502, 0.8068000078201294]\n",
            "Starting training with 30997 samples\n",
            "Epoch 1/15\n",
            "119/122 [============================>.] - ETA: 0s - loss: 0.3708 - accuracy: 0.8496\n",
            "Epoch 00001: val_loss improved from 0.42561 to 0.42407, saving model to Checkpoint.h5\n",
            "122/122 [==============================] - 1s 11ms/step - loss: 0.3702 - accuracy: 0.8497 - val_loss: 0.4241 - val_accuracy: 0.8084\n",
            "Epoch 2/15\n",
            "121/122 [============================>.] - ETA: 0s - loss: 0.3606 - accuracy: 0.8553\n",
            "Epoch 00002: val_loss improved from 0.42407 to 0.42361, saving model to Checkpoint.h5\n",
            "122/122 [==============================] - 1s 12ms/step - loss: 0.3606 - accuracy: 0.8553 - val_loss: 0.4236 - val_accuracy: 0.8092\n",
            "Epoch 3/15\n",
            "117/122 [===========================>..] - ETA: 0s - loss: 0.3540 - accuracy: 0.8586\n",
            "Epoch 00003: val_loss did not improve from 0.42361\n",
            "122/122 [==============================] - 1s 11ms/step - loss: 0.3539 - accuracy: 0.8585 - val_loss: 0.4314 - val_accuracy: 0.8052\n",
            "Epoch 4/15\n",
            "118/122 [============================>.] - ETA: 0s - loss: 0.3488 - accuracy: 0.8637\n",
            "Epoch 00004: val_loss did not improve from 0.42361\n",
            "122/122 [==============================] - 1s 11ms/step - loss: 0.3492 - accuracy: 0.8635 - val_loss: 0.4261 - val_accuracy: 0.8096\n",
            "Epoch 5/15\n",
            "120/122 [============================>.] - ETA: 0s - loss: 0.3453 - accuracy: 0.8654\n",
            "Epoch 00005: val_loss did not improve from 0.42361\n",
            "122/122 [==============================] - 1s 12ms/step - loss: 0.3450 - accuracy: 0.8655 - val_loss: 0.4293 - val_accuracy: 0.8088\n",
            "Epoch 6/15\n",
            "120/122 [============================>.] - ETA: 0s - loss: 0.3418 - accuracy: 0.8680\n",
            "Epoch 00006: val_loss did not improve from 0.42361\n",
            "122/122 [==============================] - 1s 12ms/step - loss: 0.3414 - accuracy: 0.8683 - val_loss: 0.4289 - val_accuracy: 0.8106\n",
            "Epoch 7/15\n",
            "120/122 [============================>.] - ETA: 0s - loss: 0.3367 - accuracy: 0.8731\n",
            "Epoch 00007: val_loss did not improve from 0.42361\n",
            "122/122 [==============================] - 1s 12ms/step - loss: 0.3367 - accuracy: 0.8731 - val_loss: 0.4365 - val_accuracy: 0.8056\n",
            "Epoch 8/15\n",
            "120/122 [============================>.] - ETA: 0s - loss: 0.3336 - accuracy: 0.8737\n",
            "Epoch 00008: val_loss did not improve from 0.42361\n",
            "122/122 [==============================] - 1s 12ms/step - loss: 0.3333 - accuracy: 0.8738 - val_loss: 0.4319 - val_accuracy: 0.8086\n",
            "Epoch 00008: early stopping\n",
            "157/157 [==============================] - 1s 3ms/step - loss: 0.4165 - accuracy: 0.8148\n",
            "[0.41653934121131897, 0.8148000240325928]\n"
          ],
          "name": "stdout"
        },
        {
          "output_type": "display_data",
          "data": {
            "image/png": "[encoded data removed]",
            "text/plain": [
              "<Figure size 432x288 with 1 Axes>"
            ]
          },
          "metadata": {
            "tags": [],
            "needs_background": "light"
          }
        },
        {
          "output_type": "display_data",
          "data": {
            "image/png": "[encoded data removed]",
            "text/plain": [
              "<Figure size 432x288 with 1 Axes>"
            ]
          },
          "metadata": {
            "tags": [],
            "needs_background": "light"
          }
        },
        {
          "output_type": "stream",
          "text": [
            "Model: \"sequential_4\"\n",
            "_________________________________________________________________\n",
            "Layer (type)                 Output Shape              Param #   \n",
            "=================================================================\n",
            "embedding_4 (Embedding)      (None, None, 64)          192000    \n",
            "_________________________________________________________________\n",
            "lstm_4 (LSTM)                (None, 32)                12416     \n",
            "_________________________________________________________________\n",
            "flatten_4 (Flatten)          (None, 32)                0         \n",
            "_________________________________________________________________\n",
            "dense_16 (Dense)             (None, 64)                2112      \n",
            "_________________________________________________________________\n",
            "dropout_8 (Dropout)          (None, 64)                0         \n",
            "_________________________________________________________________\n",
            "dense_17 (Dense)             (None, 32)                2080      \n",
            "_________________________________________________________________\n",
            "dropout_9 (Dropout)          (None, 32)                0         \n",
            "_________________________________________________________________\n",
            "dense_18 (Dense)             (None, 4)                 132       \n",
            "_________________________________________________________________\n",
            "dense_19 (Dense)             (None, 1)                 5         \n",
            "=================================================================\n",
            "Total params: 208,745\n",
            "Trainable params: 208,745\n",
            "Non-trainable params: 0\n",
            "_________________________________________________________________\n",
            "Starting to train with 16000 samples\n",
            "Epoch 1/15\n",
            "60/63 [===========================>..] - ETA: 0s - loss: 0.6929 - accuracy: 0.5044\n",
            "Epoch 00001: val_loss improved from inf to 0.69250, saving model to Checkpoint.h5\n",
            "63/63 [==============================] - 1s 19ms/step - loss: 0.6929 - accuracy: 0.5042 - val_loss: 0.6925 - val_accuracy: 0.5062\n",
            "Epoch 2/15\n",
            "63/63 [==============================] - ETA: 0s - loss: 0.6912 - accuracy: 0.5393\n",
            "Epoch 00002: val_loss improved from 0.69250 to 0.68900, saving model to Checkpoint.h5\n",
            "63/63 [==============================] - 1s 14ms/step - loss: 0.6912 - accuracy: 0.5393 - val_loss: 0.6890 - val_accuracy: 0.5608\n",
            "Epoch 3/15\n",
            "60/63 [===========================>..] - ETA: 0s - loss: 0.6790 - accuracy: 0.6114\n",
            "Epoch 00003: val_loss improved from 0.68900 to 0.65292, saving model to Checkpoint.h5\n",
            "63/63 [==============================] - 1s 13ms/step - loss: 0.6780 - accuracy: 0.6124 - val_loss: 0.6529 - val_accuracy: 0.6366\n",
            "Epoch 4/15\n",
            "59/63 [===========================>..] - ETA: 0s - loss: 0.6120 - accuracy: 0.7339\n",
            "Epoch 00004: val_loss improved from 0.65292 to 0.58479, saving model to Checkpoint.h5\n",
            "63/63 [==============================] - 1s 12ms/step - loss: 0.6103 - accuracy: 0.7353 - val_loss: 0.5848 - val_accuracy: 0.7528\n",
            "Epoch 5/15\n",
            "61/63 [============================>.] - ETA: 0s - loss: 0.5468 - accuracy: 0.7927\n",
            "Epoch 00005: val_loss improved from 0.58479 to 0.54319, saving model to Checkpoint.h5\n",
            "63/63 [==============================] - 1s 13ms/step - loss: 0.5466 - accuracy: 0.7924 - val_loss: 0.5432 - val_accuracy: 0.7672\n",
            "Epoch 6/15\n",
            "61/63 [============================>.] - ETA: 0s - loss: 0.4903 - accuracy: 0.8125\n",
            "Epoch 00006: val_loss improved from 0.54319 to 0.52201, saving model to Checkpoint.h5\n",
            "63/63 [==============================] - 1s 12ms/step - loss: 0.4900 - accuracy: 0.8124 - val_loss: 0.5220 - val_accuracy: 0.7676\n",
            "Epoch 7/15\n",
            "59/63 [===========================>..] - ETA: 0s - loss: 0.4406 - accuracy: 0.8217\n",
            "Epoch 00007: val_loss improved from 0.52201 to 0.48631, saving model to Checkpoint.h5\n",
            "63/63 [==============================] - 1s 13ms/step - loss: 0.4391 - accuracy: 0.8226 - val_loss: 0.4863 - val_accuracy: 0.7688\n",
            "Epoch 8/15\n",
            "63/63 [==============================] - ETA: 0s - loss: 0.4000 - accuracy: 0.8401\n",
            "Epoch 00008: val_loss improved from 0.48631 to 0.47381, saving model to Checkpoint.h5\n",
            "63/63 [==============================] - 1s 13ms/step - loss: 0.4000 - accuracy: 0.8401 - val_loss: 0.4738 - val_accuracy: 0.7806\n",
            "Epoch 9/15\n",
            "59/63 [===========================>..] - ETA: 0s - loss: 0.3769 - accuracy: 0.8546\n",
            "Epoch 00009: val_loss improved from 0.47381 to 0.46512, saving model to Checkpoint.h5\n",
            "63/63 [==============================] - 1s 14ms/step - loss: 0.3762 - accuracy: 0.8553 - val_loss: 0.4651 - val_accuracy: 0.7846\n",
            "Epoch 10/15\n",
            "60/63 [===========================>..] - ETA: 0s - loss: 0.3608 - accuracy: 0.8612\n",
            "Epoch 00010: val_loss improved from 0.46512 to 0.45766, saving model to Checkpoint.h5\n",
            "63/63 [==============================] - 1s 13ms/step - loss: 0.3621 - accuracy: 0.8605 - val_loss: 0.4577 - val_accuracy: 0.7894\n",
            "Epoch 11/15\n",
            "59/63 [===========================>..] - ETA: 0s - loss: 0.3435 - accuracy: 0.8705\n",
            "Epoch 00011: val_loss did not improve from 0.45766\n",
            "63/63 [==============================] - 1s 13ms/step - loss: 0.3452 - accuracy: 0.8692 - val_loss: 0.4642 - val_accuracy: 0.7946\n",
            "Epoch 12/15\n",
            "59/63 [===========================>..] - ETA: 0s - loss: 0.3395 - accuracy: 0.8726\n",
            "Epoch 00012: val_loss did not improve from 0.45766\n",
            "63/63 [==============================] - 1s 13ms/step - loss: 0.3392 - accuracy: 0.8729 - val_loss: 0.4677 - val_accuracy: 0.7908\n",
            "Epoch 13/15\n",
            "60/63 [===========================>..] - ETA: 0s - loss: 0.3262 - accuracy: 0.8814\n",
            "Epoch 00013: val_loss did not improve from 0.45766\n",
            "63/63 [==============================] - 1s 13ms/step - loss: 0.3264 - accuracy: 0.8812 - val_loss: 0.4739 - val_accuracy: 0.7920\n",
            "Epoch 14/15\n",
            "59/63 [===========================>..] - ETA: 0s - loss: 0.3188 - accuracy: 0.8861\n",
            "Epoch 00014: val_loss did not improve from 0.45766\n",
            "63/63 [==============================] - 1s 13ms/step - loss: 0.3203 - accuracy: 0.8848 - val_loss: 0.4749 - val_accuracy: 0.7918\n",
            "Epoch 15/15\n",
            "60/63 [===========================>..] - ETA: 0s - loss: 0.3118 - accuracy: 0.8907\n",
            "Epoch 00015: val_loss did not improve from 0.45766\n",
            "63/63 [==============================] - 1s 13ms/step - loss: 0.3117 - accuracy: 0.8911 - val_loss: 0.4879 - val_accuracy: 0.7904\n",
            "Starting training with 20999 samples\n",
            "Epoch 1/15\n",
            "79/83 [===========================>..] - ETA: 0s - loss: 0.3740 - accuracy: 0.8463\n",
            "Epoch 00001: val_loss did not improve from 0.45766\n",
            "83/83 [==============================] - 1s 17ms/step - loss: 0.3740 - accuracy: 0.8459 - val_loss: 0.4632 - val_accuracy: 0.7940\n",
            "Epoch 2/15\n",
            "79/83 [===========================>..] - ETA: 0s - loss: 0.3642 - accuracy: 0.8525\n",
            "Epoch 00002: val_loss improved from 0.45766 to 0.44224, saving model to Checkpoint.h5\n",
            "83/83 [==============================] - 1s 13ms/step - loss: 0.3627 - accuracy: 0.8529 - val_loss: 0.4422 - val_accuracy: 0.7970\n",
            "Epoch 3/15\n",
            "80/83 [===========================>..] - ETA: 0s - loss: 0.3524 - accuracy: 0.8600\n",
            "Epoch 00003: val_loss did not improve from 0.44224\n",
            "83/83 [==============================] - 1s 12ms/step - loss: 0.3524 - accuracy: 0.8598 - val_loss: 0.4446 - val_accuracy: 0.7992\n",
            "Epoch 4/15\n",
            "79/83 [===========================>..] - ETA: 0s - loss: 0.3419 - accuracy: 0.8693\n",
            "Epoch 00004: val_loss did not improve from 0.44224\n",
            "83/83 [==============================] - 1s 12ms/step - loss: 0.3428 - accuracy: 0.8688 - val_loss: 0.4508 - val_accuracy: 0.7990\n",
            "Epoch 5/15\n",
            "83/83 [==============================] - ETA: 0s - loss: 0.3338 - accuracy: 0.8718\n",
            "Epoch 00005: val_loss did not improve from 0.44224\n",
            "83/83 [==============================] - 1s 12ms/step - loss: 0.3338 - accuracy: 0.8718 - val_loss: 0.4601 - val_accuracy: 0.7980\n",
            "Epoch 6/15\n",
            "80/83 [===========================>..] - ETA: 0s - loss: 0.3293 - accuracy: 0.8763\n",
            "Epoch 00006: val_loss did not improve from 0.44224\n",
            "83/83 [==============================] - 1s 12ms/step - loss: 0.3296 - accuracy: 0.8763 - val_loss: 0.4621 - val_accuracy: 0.8008\n",
            "Epoch 7/15\n",
            "80/83 [===========================>..] - ETA: 0s - loss: 0.3242 - accuracy: 0.8800\n",
            "Epoch 00007: val_loss did not improve from 0.44224\n",
            "83/83 [==============================] - 1s 13ms/step - loss: 0.3242 - accuracy: 0.8800 - val_loss: 0.4564 - val_accuracy: 0.8026\n",
            "Epoch 8/15\n",
            "80/83 [===========================>..] - ETA: 0s - loss: 0.3187 - accuracy: 0.8839\n",
            "Epoch 00008: val_loss did not improve from 0.44224\n",
            "83/83 [==============================] - 1s 12ms/step - loss: 0.3181 - accuracy: 0.8840 - val_loss: 0.4850 - val_accuracy: 0.7986\n",
            "Epoch 00008: early stopping\n",
            "157/157 [==============================] - 1s 3ms/step - loss: 0.4387 - accuracy: 0.7996\n",
            "[0.438736230134964, 0.7996000051498413]\n",
            "Starting training with 25998 samples\n",
            "Epoch 1/15\n",
            "100/102 [============================>.] - ETA: 0s - loss: 0.3658 - accuracy: 0.8476\n",
            "Epoch 00001: val_loss did not improve from 0.44224\n",
            "102/102 [==============================] - 1s 12ms/step - loss: 0.3655 - accuracy: 0.8477 - val_loss: 0.4472 - val_accuracy: 0.8012\n",
            "Epoch 2/15\n",
            " 99/102 [============================>.] - ETA: 0s - loss: 0.3534 - accuracy: 0.8582\n",
            "Epoch 00002: val_loss improved from 0.44224 to 0.43722, saving model to Checkpoint.h5\n",
            "102/102 [==============================] - 1s 13ms/step - loss: 0.3543 - accuracy: 0.8578 - val_loss: 0.4372 - val_accuracy: 0.8042\n",
            "Epoch 3/15\n",
            " 98/102 [===========================>..] - ETA: 0s - loss: 0.3464 - accuracy: 0.8628\n",
            "Epoch 00003: val_loss did not improve from 0.43722\n",
            "102/102 [==============================] - 1s 12ms/step - loss: 0.3476 - accuracy: 0.8622 - val_loss: 0.4467 - val_accuracy: 0.8016\n",
            "Epoch 4/15\n",
            " 98/102 [===========================>..] - ETA: 0s - loss: 0.3392 - accuracy: 0.8678\n",
            "Epoch 00004: val_loss did not improve from 0.43722\n",
            "102/102 [==============================] - 1s 12ms/step - loss: 0.3398 - accuracy: 0.8675 - val_loss: 0.4449 - val_accuracy: 0.8052\n",
            "Epoch 5/15\n",
            " 99/102 [============================>.] - ETA: 0s - loss: 0.3349 - accuracy: 0.8710\n",
            "Epoch 00005: val_loss did not improve from 0.43722\n",
            "102/102 [==============================] - 1s 12ms/step - loss: 0.3354 - accuracy: 0.8705 - val_loss: 0.4495 - val_accuracy: 0.8038\n",
            "Epoch 6/15\n",
            " 99/102 [============================>.] - ETA: 0s - loss: 0.3308 - accuracy: 0.8736\n",
            "Epoch 00006: val_loss did not improve from 0.43722\n",
            "102/102 [==============================] - 1s 12ms/step - loss: 0.3313 - accuracy: 0.8735 - val_loss: 0.4464 - val_accuracy: 0.8042\n",
            "Epoch 7/15\n",
            " 99/102 [============================>.] - ETA: 0s - loss: 0.3265 - accuracy: 0.8776\n",
            "Epoch 00007: val_loss did not improve from 0.43722\n",
            "102/102 [==============================] - 1s 12ms/step - loss: 0.3272 - accuracy: 0.8771 - val_loss: 0.4458 - val_accuracy: 0.8030\n",
            "Epoch 8/15\n",
            "100/102 [============================>.] - ETA: 0s - loss: 0.3234 - accuracy: 0.8791\n",
            "Epoch 00008: val_loss did not improve from 0.43722\n",
            "102/102 [==============================] - 1s 12ms/step - loss: 0.3230 - accuracy: 0.8794 - val_loss: 0.4560 - val_accuracy: 0.7996\n",
            "Epoch 00008: early stopping\n",
            "157/157 [==============================] - 0s 3ms/step - loss: 0.4284 - accuracy: 0.8090\n",
            "[0.42842283844947815, 0.8090000152587891]\n",
            "Starting training with 30997 samples\n",
            "Epoch 1/15\n",
            "119/122 [============================>.] - ETA: 0s - loss: 0.3600 - accuracy: 0.8558\n",
            "Epoch 00001: val_loss did not improve from 0.43722\n",
            "122/122 [==============================] - 1s 12ms/step - loss: 0.3598 - accuracy: 0.8558 - val_loss: 0.4396 - val_accuracy: 0.8080\n",
            "Epoch 2/15\n",
            "118/122 [============================>.] - ETA: 0s - loss: 0.3525 - accuracy: 0.8589\n",
            "Epoch 00002: val_loss improved from 0.43722 to 0.43231, saving model to Checkpoint.h5\n",
            "122/122 [==============================] - 1s 12ms/step - loss: 0.3520 - accuracy: 0.8591 - val_loss: 0.4323 - val_accuracy: 0.8108\n",
            "Epoch 3/15\n",
            "119/122 [============================>.] - ETA: 0s - loss: 0.3462 - accuracy: 0.8632\n",
            "Epoch 00003: val_loss did not improve from 0.43231\n",
            "122/122 [==============================] - 1s 12ms/step - loss: 0.3459 - accuracy: 0.8634 - val_loss: 0.4358 - val_accuracy: 0.8104\n",
            "Epoch 4/15\n",
            "119/122 [============================>.] - ETA: 0s - loss: 0.3417 - accuracy: 0.8663\n",
            "Epoch 00004: val_loss did not improve from 0.43231\n",
            "122/122 [==============================] - 1s 12ms/step - loss: 0.3416 - accuracy: 0.8664 - val_loss: 0.4370 - val_accuracy: 0.8074\n",
            "Epoch 5/15\n",
            "120/122 [============================>.] - ETA: 0s - loss: 0.3378 - accuracy: 0.8694\n",
            "Epoch 00005: val_loss did not improve from 0.43231\n",
            "122/122 [==============================] - 1s 12ms/step - loss: 0.3376 - accuracy: 0.8696 - val_loss: 0.4351 - val_accuracy: 0.8070\n",
            "Epoch 6/15\n",
            "118/122 [============================>.] - ETA: 0s - loss: 0.3325 - accuracy: 0.8742\n",
            "Epoch 00006: val_loss did not improve from 0.43231\n",
            "122/122 [==============================] - 1s 12ms/step - loss: 0.3326 - accuracy: 0.8737 - val_loss: 0.4373 - val_accuracy: 0.8080\n",
            "Epoch 7/15\n",
            "118/122 [============================>.] - ETA: 0s - loss: 0.3300 - accuracy: 0.8757\n",
            "Epoch 00007: val_loss did not improve from 0.43231\n",
            "122/122 [==============================] - 1s 12ms/step - loss: 0.3296 - accuracy: 0.8758 - val_loss: 0.4469 - val_accuracy: 0.8076\n",
            "Epoch 8/15\n",
            "122/122 [==============================] - ETA: 0s - loss: 0.3267 - accuracy: 0.8764\n",
            "Epoch 00008: val_loss did not improve from 0.43231\n",
            "122/122 [==============================] - 1s 12ms/step - loss: 0.3267 - accuracy: 0.8764 - val_loss: 0.4517 - val_accuracy: 0.8062\n",
            "Epoch 00008: early stopping\n",
            "157/157 [==============================] - 1s 3ms/step - loss: 0.4243 - accuracy: 0.8128\n",
            "[0.4243320822715759, 0.8127999901771545]\n"
          ],
          "name": "stdout"
        },
        {
          "output_type": "display_data",
          "data": {
            "image/png": "[encoded data removed]",
            "text/plain": [
              "<Figure size 432x288 with 1 Axes>"
            ]
          },
          "metadata": {
            "tags": [],
            "needs_background": "light"
          }
        },
        {
          "output_type": "display_data",
          "data": {
            "image/png": "[encoded data removed]",
            "text/plain": [
              "<Figure size 432x288 with 1 Axes>"
            ]
          },
          "metadata": {
            "tags": [],
            "needs_background": "light"
          }
        },
        {
          "output_type": "stream",
          "text": [
            "Model: \"sequential_5\"\n",
            "_________________________________________________________________\n",
            "Layer (type)                 Output Shape              Param #   \n",
            "=================================================================\n",
            "embedding_5 (Embedding)      (None, None, 64)          192000    \n",
            "_________________________________________________________________\n",
            "lstm_5 (LSTM)                (None, 32)                12416     \n",
            "_________________________________________________________________\n",
            "flatten_5 (Flatten)          (None, 32)                0         \n",
            "_________________________________________________________________\n",
            "dense_20 (Dense)             (None, 64)                2112      \n",
            "_________________________________________________________________\n",
            "dropout_10 (Dropout)         (None, 64)                0         \n",
            "_________________________________________________________________\n",
            "dense_21 (Dense)             (None, 32)                2080      \n",
            "_________________________________________________________________\n",
            "dropout_11 (Dropout)         (None, 32)                0         \n",
            "_________________________________________________________________\n",
            "dense_22 (Dense)             (None, 4)                 132       \n",
            "_________________________________________________________________\n",
            "dense_23 (Dense)             (None, 1)                 5         \n",
            "=================================================================\n",
            "Total params: 208,745\n",
            "Trainable params: 208,745\n",
            "Non-trainable params: 0\n",
            "_________________________________________________________________\n",
            "Starting to train with 16000 samples\n",
            "Epoch 1/15\n",
            "60/63 [===========================>..] - ETA: 0s - loss: 0.6928 - accuracy: 0.5115\n",
            "Epoch 00001: val_loss improved from inf to 0.69252, saving model to Checkpoint.h5\n",
            "63/63 [==============================] - 1s 20ms/step - loss: 0.6928 - accuracy: 0.5112 - val_loss: 0.6925 - val_accuracy: 0.5260\n",
            "Epoch 2/15\n",
            "60/63 [===========================>..] - ETA: 0s - loss: 0.6915 - accuracy: 0.5583\n",
            "Epoch 00002: val_loss improved from 0.69252 to 0.68968, saving model to Checkpoint.h5\n",
            "63/63 [==============================] - 1s 14ms/step - loss: 0.6915 - accuracy: 0.5562 - val_loss: 0.6897 - val_accuracy: 0.5880\n",
            "Epoch 3/15\n",
            "59/63 [===========================>..] - ETA: 0s - loss: 0.6863 - accuracy: 0.6087\n",
            "Epoch 00003: val_loss improved from 0.68968 to 0.67823, saving model to Checkpoint.h5\n",
            "63/63 [==============================] - 1s 14ms/step - loss: 0.6859 - accuracy: 0.6115 - val_loss: 0.6782 - val_accuracy: 0.6572\n",
            "Epoch 4/15\n",
            "62/63 [============================>.] - ETA: 0s - loss: 0.6570 - accuracy: 0.6866\n",
            "Epoch 00004: val_loss improved from 0.67823 to 0.61443, saving model to Checkpoint.h5\n",
            "63/63 [==============================] - 1s 13ms/step - loss: 0.6564 - accuracy: 0.6875 - val_loss: 0.6144 - val_accuracy: 0.7042\n",
            "Epoch 5/15\n",
            "59/63 [===========================>..] - ETA: 0s - loss: 0.5681 - accuracy: 0.7687\n",
            "Epoch 00005: val_loss improved from 0.61443 to 0.54008, saving model to Checkpoint.h5\n",
            "63/63 [==============================] - 1s 13ms/step - loss: 0.5653 - accuracy: 0.7707 - val_loss: 0.5401 - val_accuracy: 0.7740\n",
            "Epoch 6/15\n",
            "59/63 [===========================>..] - ETA: 0s - loss: 0.4976 - accuracy: 0.8075\n",
            "Epoch 00006: val_loss improved from 0.54008 to 0.49563, saving model to Checkpoint.h5\n",
            "63/63 [==============================] - 1s 14ms/step - loss: 0.4967 - accuracy: 0.8070 - val_loss: 0.4956 - val_accuracy: 0.7822\n",
            "Epoch 7/15\n",
            "60/63 [===========================>..] - ETA: 0s - loss: 0.4343 - accuracy: 0.8223\n",
            "Epoch 00007: val_loss improved from 0.49563 to 0.45717, saving model to Checkpoint.h5\n",
            "63/63 [==============================] - 1s 13ms/step - loss: 0.4339 - accuracy: 0.8223 - val_loss: 0.4572 - val_accuracy: 0.7916\n",
            "Epoch 8/15\n",
            "59/63 [===========================>..] - ETA: 0s - loss: 0.3904 - accuracy: 0.8389\n",
            "Epoch 00008: val_loss improved from 0.45717 to 0.44593, saving model to Checkpoint.h5\n",
            "63/63 [==============================] - 1s 14ms/step - loss: 0.3912 - accuracy: 0.8383 - val_loss: 0.4459 - val_accuracy: 0.7990\n",
            "Epoch 9/15\n",
            "60/63 [===========================>..] - ETA: 0s - loss: 0.3682 - accuracy: 0.8520\n",
            "Epoch 00009: val_loss did not improve from 0.44593\n",
            "63/63 [==============================] - 1s 13ms/step - loss: 0.3691 - accuracy: 0.8512 - val_loss: 0.4463 - val_accuracy: 0.7904\n",
            "Epoch 10/15\n",
            "59/63 [===========================>..] - ETA: 0s - loss: 0.3502 - accuracy: 0.8608\n",
            "Epoch 00010: val_loss improved from 0.44593 to 0.44334, saving model to Checkpoint.h5\n",
            "63/63 [==============================] - 1s 13ms/step - loss: 0.3501 - accuracy: 0.8614 - val_loss: 0.4433 - val_accuracy: 0.8034\n",
            "Epoch 11/15\n",
            "61/63 [============================>.] - ETA: 0s - loss: 0.3369 - accuracy: 0.8712\n",
            "Epoch 00011: val_loss did not improve from 0.44334\n",
            "63/63 [==============================] - 1s 12ms/step - loss: 0.3368 - accuracy: 0.8714 - val_loss: 0.4443 - val_accuracy: 0.8012\n",
            "Epoch 12/15\n",
            "61/63 [============================>.] - ETA: 0s - loss: 0.3252 - accuracy: 0.8773\n",
            "Epoch 00012: val_loss did not improve from 0.44334\n",
            "63/63 [==============================] - 1s 12ms/step - loss: 0.3254 - accuracy: 0.8771 - val_loss: 0.4569 - val_accuracy: 0.8034\n",
            "Epoch 13/15\n",
            "59/63 [===========================>..] - ETA: 0s - loss: 0.3134 - accuracy: 0.8812\n",
            "Epoch 00013: val_loss did not improve from 0.44334\n",
            "63/63 [==============================] - 1s 13ms/step - loss: 0.3146 - accuracy: 0.8804 - val_loss: 0.4635 - val_accuracy: 0.8000\n",
            "Epoch 14/15\n",
            "60/63 [===========================>..] - ETA: 0s - loss: 0.3061 - accuracy: 0.8878\n",
            "Epoch 00014: val_loss did not improve from 0.44334\n",
            "63/63 [==============================] - 1s 13ms/step - loss: 0.3061 - accuracy: 0.8879 - val_loss: 0.4733 - val_accuracy: 0.8012\n",
            "Epoch 15/15\n",
            "59/63 [===========================>..] - ETA: 0s - loss: 0.2990 - accuracy: 0.8915\n",
            "Epoch 00015: val_loss did not improve from 0.44334\n",
            "63/63 [==============================] - 1s 13ms/step - loss: 0.2983 - accuracy: 0.8916 - val_loss: 0.4748 - val_accuracy: 0.7984\n",
            "Starting training with 20999 samples\n",
            "Epoch 1/15\n",
            "79/83 [===========================>..] - ETA: 0s - loss: 0.3656 - accuracy: 0.8535\n",
            "Epoch 00001: val_loss improved from 0.44334 to 0.44029, saving model to Checkpoint.h5\n",
            "83/83 [==============================] - 1s 17ms/step - loss: 0.3662 - accuracy: 0.8532 - val_loss: 0.4403 - val_accuracy: 0.8050\n",
            "Epoch 2/15\n",
            "83/83 [==============================] - ETA: 0s - loss: 0.3529 - accuracy: 0.8601\n",
            "Epoch 00002: val_loss improved from 0.44029 to 0.43905, saving model to Checkpoint.h5\n",
            "83/83 [==============================] - 1s 13ms/step - loss: 0.3529 - accuracy: 0.8601 - val_loss: 0.4390 - val_accuracy: 0.8020\n",
            "Epoch 3/15\n",
            "82/83 [============================>.] - ETA: 0s - loss: 0.3425 - accuracy: 0.8684\n",
            "Epoch 00003: val_loss did not improve from 0.43905\n",
            "83/83 [==============================] - 1s 13ms/step - loss: 0.3424 - accuracy: 0.8685 - val_loss: 0.4397 - val_accuracy: 0.8006\n",
            "Epoch 4/15\n",
            "80/83 [===========================>..] - ETA: 0s - loss: 0.3323 - accuracy: 0.8726\n",
            "Epoch 00004: val_loss did not improve from 0.43905\n",
            "83/83 [==============================] - 1s 12ms/step - loss: 0.3322 - accuracy: 0.8731 - val_loss: 0.4445 - val_accuracy: 0.7990\n",
            "Epoch 5/15\n",
            "82/83 [============================>.] - ETA: 0s - loss: 0.3223 - accuracy: 0.8786\n",
            "Epoch 00005: val_loss did not improve from 0.43905\n",
            "83/83 [==============================] - 1s 12ms/step - loss: 0.3224 - accuracy: 0.8785 - val_loss: 0.4429 - val_accuracy: 0.7996\n",
            "Epoch 6/15\n",
            "80/83 [===========================>..] - ETA: 0s - loss: 0.3236 - accuracy: 0.8802\n",
            "Epoch 00006: val_loss did not improve from 0.43905\n",
            "83/83 [==============================] - 1s 12ms/step - loss: 0.3235 - accuracy: 0.8802 - val_loss: 0.4453 - val_accuracy: 0.8002\n",
            "Epoch 7/15\n",
            "82/83 [============================>.] - ETA: 0s - loss: 0.3114 - accuracy: 0.8881\n",
            "Epoch 00007: val_loss did not improve from 0.43905\n",
            "83/83 [==============================] - 1s 12ms/step - loss: 0.3114 - accuracy: 0.8881 - val_loss: 0.4548 - val_accuracy: 0.8032\n",
            "Epoch 8/15\n",
            "79/83 [===========================>..] - ETA: 0s - loss: 0.3095 - accuracy: 0.8866\n",
            "Epoch 00008: val_loss did not improve from 0.43905\n",
            "83/83 [==============================] - 1s 13ms/step - loss: 0.3091 - accuracy: 0.8869 - val_loss: 0.4595 - val_accuracy: 0.7966\n",
            "Epoch 00008: early stopping\n",
            "157/157 [==============================] - 1s 3ms/step - loss: 0.4413 - accuracy: 0.7918\n",
            "[0.4413010776042938, 0.7918000221252441]\n",
            "Starting training with 25998 samples\n",
            "Epoch 1/15\n",
            " 98/102 [===========================>..] - ETA: 0s - loss: 0.3619 - accuracy: 0.8572\n",
            "Epoch 00001: val_loss improved from 0.43905 to 0.43127, saving model to Checkpoint.h5\n",
            "102/102 [==============================] - 1s 13ms/step - loss: 0.3609 - accuracy: 0.8573 - val_loss: 0.4313 - val_accuracy: 0.8036\n",
            "Epoch 2/15\n",
            " 98/102 [===========================>..] - ETA: 0s - loss: 0.3482 - accuracy: 0.8644\n",
            "Epoch 00002: val_loss did not improve from 0.43127\n",
            "102/102 [==============================] - 1s 12ms/step - loss: 0.3493 - accuracy: 0.8638 - val_loss: 0.4319 - val_accuracy: 0.8058\n",
            "Epoch 3/15\n",
            "102/102 [==============================] - ETA: 0s - loss: 0.3409 - accuracy: 0.8691\n",
            "Epoch 00003: val_loss did not improve from 0.43127\n",
            "102/102 [==============================] - 1s 12ms/step - loss: 0.3409 - accuracy: 0.8691 - val_loss: 0.4326 - val_accuracy: 0.8068\n",
            "Epoch 4/15\n",
            "100/102 [============================>.] - ETA: 0s - loss: 0.3340 - accuracy: 0.8740\n",
            "Epoch 00004: val_loss did not improve from 0.43127\n",
            "102/102 [==============================] - 1s 12ms/step - loss: 0.3342 - accuracy: 0.8738 - val_loss: 0.4352 - val_accuracy: 0.8060\n",
            "Epoch 5/15\n",
            " 99/102 [============================>.] - ETA: 0s - loss: 0.3267 - accuracy: 0.8783\n",
            "Epoch 00005: val_loss did not improve from 0.43127\n",
            "102/102 [==============================] - 1s 12ms/step - loss: 0.3264 - accuracy: 0.8783 - val_loss: 0.4346 - val_accuracy: 0.8076\n",
            "Epoch 6/15\n",
            " 99/102 [============================>.] - ETA: 0s - loss: 0.3229 - accuracy: 0.8815\n",
            "Epoch 00006: val_loss did not improve from 0.43127\n",
            "102/102 [==============================] - 1s 12ms/step - loss: 0.3229 - accuracy: 0.8815 - val_loss: 0.4403 - val_accuracy: 0.8056\n",
            "Epoch 7/15\n",
            "100/102 [============================>.] - ETA: 0s - loss: 0.3153 - accuracy: 0.8854\n",
            "Epoch 00007: val_loss did not improve from 0.43127\n",
            "102/102 [==============================] - 1s 12ms/step - loss: 0.3159 - accuracy: 0.8850 - val_loss: 0.4486 - val_accuracy: 0.7964\n",
            "Epoch 00007: early stopping\n",
            "157/157 [==============================] - 0s 3ms/step - loss: 0.4318 - accuracy: 0.7994\n",
            "[0.43182373046875, 0.7993999719619751]\n",
            "Starting training with 30997 samples\n",
            "Epoch 1/15\n",
            "118/122 [============================>.] - ETA: 0s - loss: 0.3622 - accuracy: 0.8552\n",
            "Epoch 00001: val_loss did not improve from 0.43127\n",
            "122/122 [==============================] - 2s 12ms/step - loss: 0.3625 - accuracy: 0.8550 - val_loss: 0.4325 - val_accuracy: 0.8000\n",
            "Epoch 2/15\n",
            "121/122 [============================>.] - ETA: 0s - loss: 0.3509 - accuracy: 0.8623\n",
            "Epoch 00002: val_loss improved from 0.43127 to 0.42693, saving model to Checkpoint.h5\n",
            "122/122 [==============================] - 2s 13ms/step - loss: 0.3508 - accuracy: 0.8624 - val_loss: 0.4269 - val_accuracy: 0.8064\n",
            "Epoch 3/15\n",
            "119/122 [============================>.] - ETA: 0s - loss: 0.3437 - accuracy: 0.8679\n",
            "Epoch 00003: val_loss improved from 0.42693 to 0.42506, saving model to Checkpoint.h5\n",
            "122/122 [==============================] - 1s 12ms/step - loss: 0.3439 - accuracy: 0.8676 - val_loss: 0.4251 - val_accuracy: 0.8096\n",
            "Epoch 4/15\n",
            "118/122 [============================>.] - ETA: 0s - loss: 0.3380 - accuracy: 0.8704\n",
            "Epoch 00004: val_loss did not improve from 0.42506\n",
            "122/122 [==============================] - 1s 12ms/step - loss: 0.3378 - accuracy: 0.8703 - val_loss: 0.4315 - val_accuracy: 0.8020\n",
            "Epoch 5/15\n",
            "120/122 [============================>.] - ETA: 0s - loss: 0.3339 - accuracy: 0.8732\n",
            "Epoch 00005: val_loss did not improve from 0.42506\n",
            "122/122 [==============================] - 1s 12ms/step - loss: 0.3337 - accuracy: 0.8733 - val_loss: 0.4280 - val_accuracy: 0.8032\n",
            "Epoch 6/15\n",
            "120/122 [============================>.] - ETA: 0s - loss: 0.3291 - accuracy: 0.8767\n",
            "Epoch 00006: val_loss did not improve from 0.42506\n",
            "122/122 [==============================] - 1s 11ms/step - loss: 0.3292 - accuracy: 0.8765 - val_loss: 0.4366 - val_accuracy: 0.8026\n",
            "Epoch 7/15\n",
            "120/122 [============================>.] - ETA: 0s - loss: 0.3252 - accuracy: 0.8799\n",
            "Epoch 00007: val_loss did not improve from 0.42506\n",
            "122/122 [==============================] - 1s 11ms/step - loss: 0.3248 - accuracy: 0.8800 - val_loss: 0.4291 - val_accuracy: 0.8060\n",
            "Epoch 8/15\n",
            "118/122 [============================>.] - ETA: 0s - loss: 0.3205 - accuracy: 0.8832\n",
            "Epoch 00008: val_loss did not improve from 0.42506\n",
            "122/122 [==============================] - 1s 11ms/step - loss: 0.3208 - accuracy: 0.8831 - val_loss: 0.4312 - val_accuracy: 0.8068\n",
            "Epoch 9/15\n",
            "121/122 [============================>.] - ETA: 0s - loss: 0.3172 - accuracy: 0.8849\n",
            "Epoch 00009: val_loss did not improve from 0.42506\n",
            "122/122 [==============================] - 1s 11ms/step - loss: 0.3172 - accuracy: 0.8849 - val_loss: 0.4406 - val_accuracy: 0.8004\n",
            "Epoch 00009: early stopping\n",
            "157/157 [==============================] - 1s 3ms/step - loss: 0.4223 - accuracy: 0.8062\n",
            "[0.4222813844680786, 0.8062000274658203]\n"
          ],
          "name": "stdout"
        },
        {
          "output_type": "display_data",
          "data": {
            "image/png": "[encoded data removed]",
            "text/plain": [
              "<Figure size 432x288 with 1 Axes>"
            ]
          },
          "metadata": {
            "tags": [],
            "needs_background": "light"
          }
        },
        {
          "output_type": "display_data",
          "data": {
            "image/png": "[encoded data removed]",
            "text/plain": [
              "<Figure size 432x288 with 1 Axes>"
            ]
          },
          "metadata": {
            "tags": [],
            "needs_background": "light"
          }
        }
      ]
    },
    {
      "cell_type": "markdown",
      "metadata": {
        "id": "q5tlUMbkgB9x",
        "colab_type": "text"
      },
      "source": [
        "## Predictions"
      ]
    },
    {
      "cell_type": "code",
      "metadata": {
        "id": "dImERywG9Jt6",
        "colab_type": "code",
        "colab": {}
      },
      "source": [
        "# Ensembling by taking elementwise average\n",
        "\n",
        "pred = (model1.predict(test_seq)+model2.predict(test_seq)+model3.predict(test_seq))/3\n",
        "al_pred = (al_model1.predict(test_seq)+al_model2.predict(test_seq)+al_model3.predict(test_seq))/3"
      ],
      "execution_count": 22,
      "outputs": []
    },
    {
      "cell_type": "code",
      "metadata": {
        "id": "XmkopYiI9Jxc",
        "colab_type": "code",
        "colab": {
          "base_uri": "https://localhost:8080/",
          "height": 168
        },
        "outputId": "37c27c21-2297-4248-d1c5-c390e5abb678"
      },
      "source": [
        "pred = np.where(pred<0.5,0,1)\n",
        "al_pred = np.where(al_pred<0.5,0,1)\n",
        "print(pred[:5],al_pred[:5])"
      ],
      "execution_count": 23,
      "outputs": [
        {
          "output_type": "stream",
          "text": [
            "[[1]\n",
            " [1]\n",
            " [0]\n",
            " [1]\n",
            " [1]] [[1]\n",
            " [1]\n",
            " [0]\n",
            " [1]\n",
            " [0]]\n"
          ],
          "name": "stdout"
        }
      ]
    },
    {
      "cell_type": "code",
      "metadata": {
        "id": "Gu1EqpdJ9JwX",
        "colab_type": "code",
        "colab": {
          "base_uri": "https://localhost:8080/",
          "height": 50
        },
        "outputId": "93a08c28-0d27-4d7c-fdec-8b9c0e3e6589"
      },
      "source": [
        "from sklearn.metrics import accuracy_score\n",
        "print(accuracy_score(pred,Y_test))\n",
        "print(accuracy_score(al_pred,Y_test))"
      ],
      "execution_count": 24,
      "outputs": [
        {
          "output_type": "stream",
          "text": [
            "0.8218\n",
            "0.8146\n"
          ],
          "name": "stdout"
        }
      ]
    },
    {
      "cell_type": "code",
      "metadata": {
        "id": "aY7vDkG39Pxn",
        "colab_type": "code",
        "colab": {}
      },
      "source": [
        ""
      ],
      "execution_count": null,
      "outputs": []
    }
  ]
}